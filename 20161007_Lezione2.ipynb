{
 "cells": [
  {
   "cell_type": "code",
   "execution_count": 3,
   "metadata": {
    "collapsed": false
   },
   "outputs": [
    {
     "name": "stdout",
     "output_type": "stream",
     "text": [
      "Sono vero\n"
     ]
    }
   ],
   "source": [
    "'''\n",
    "if CONDIZIONE :\n",
    "    CONDIZIONE TRUE\n",
    "else:\n",
    "    CONDIZIONE FALSE\n",
    "'''\n",
    "vero = True\n",
    "if vero:\n",
    "    print \"Sono vero\"\n",
    "else:\n",
    "    print \"Sono falso\""
   ]
  },
  {
   "cell_type": "code",
   "execution_count": 4,
   "metadata": {
    "collapsed": false
   },
   "outputs": [
    {
     "name": "stdout",
     "output_type": "stream",
     "text": [
      "Sono falso\n"
     ]
    }
   ],
   "source": [
    "vero = False\n",
    "if vero:\n",
    "    print \"Sono vero\"\n",
    "else:\n",
    "    print \"Sono falso\""
   ]
  },
  {
   "cell_type": "code",
   "execution_count": 5,
   "metadata": {
    "collapsed": false
   },
   "outputs": [
    {
     "name": "stdout",
     "output_type": "stream",
     "text": [
      "Sono vero\n"
     ]
    }
   ],
   "source": [
    "vero = False\n",
    "if not vero:\n",
    "    print \"Sono vero\"\n",
    "else:\n",
    "    print \"Sono falso\""
   ]
  },
  {
   "cell_type": "code",
   "execution_count": 6,
   "metadata": {
    "collapsed": false
   },
   "outputs": [
    {
     "name": "stdout",
     "output_type": "stream",
     "text": [
      "Falso\n"
     ]
    }
   ],
   "source": [
    "falso = False\n",
    "vero = True\n",
    "if vero and falso:\n",
    "    print \"Vero\"\n",
    "else:\n",
    "    print \"Falso\""
   ]
  },
  {
   "cell_type": "code",
   "execution_count": 7,
   "metadata": {
    "collapsed": false
   },
   "outputs": [
    {
     "name": "stdout",
     "output_type": "stream",
     "text": [
      "Vero\n"
     ]
    }
   ],
   "source": [
    "falso = False\n",
    "vero = True\n",
    "if vero and not falso:\n",
    "    print \"Vero\"\n",
    "else:\n",
    "    print \"Falso\""
   ]
  },
  {
   "cell_type": "code",
   "execution_count": 8,
   "metadata": {
    "collapsed": false
   },
   "outputs": [
    {
     "name": "stdout",
     "output_type": "stream",
     "text": [
      "Vero\n"
     ]
    }
   ],
   "source": [
    "if vero or falso:\n",
    "    print \"Vero\"\n",
    "else:\n",
    "    print \"Falso\""
   ]
  },
  {
   "cell_type": "code",
   "execution_count": 9,
   "metadata": {
    "collapsed": false
   },
   "outputs": [
    {
     "name": "stdout",
     "output_type": "stream",
     "text": [
      "Falso\n"
     ]
    }
   ],
   "source": [
    "if not vero or falso:\n",
    "    print \"Vero\"\n",
    "else:\n",
    "    print \"Falso\""
   ]
  },
  {
   "cell_type": "code",
   "execution_count": 11,
   "metadata": {
    "collapsed": false
   },
   "outputs": [
    {
     "name": "stdout",
     "output_type": "stream",
     "text": [
      "Ciao!\n"
     ]
    }
   ],
   "source": [
    "if not vero or falso:\n",
    "    print \"Vero\"\n",
    "elif 1==1:\n",
    "    print \"Ciao!\"\n",
    "else:\n",
    "    print \"Falso\""
   ]
  },
  {
   "cell_type": "code",
   "execution_count": 12,
   "metadata": {
    "collapsed": false
   },
   "outputs": [
    {
     "name": "stdout",
     "output_type": "stream",
     "text": [
      "Sono uguali\n"
     ]
    }
   ],
   "source": [
    "a = 1\n",
    "b = \"1\"\n",
    "if str(a) == b:\n",
    "    print \"Sono uguali\"\n",
    "else:\n",
    "    print \"Sono diversi\""
   ]
  },
  {
   "cell_type": "code",
   "execution_count": 14,
   "metadata": {
    "collapsed": false
   },
   "outputs": [
    {
     "data": {
      "text/plain": [
       "'1010'"
      ]
     },
     "execution_count": 14,
     "metadata": {},
     "output_type": "execute_result"
    }
   ],
   "source": [
    "Numero1 = \"10\"\n",
    "Numero2 = \"10\"\n",
    "Numero1 + Numero2"
   ]
  },
  {
   "cell_type": "code",
   "execution_count": 15,
   "metadata": {
    "collapsed": false
   },
   "outputs": [
    {
     "name": "stdout",
     "output_type": "stream",
     "text": [
      "Ciao\n"
     ]
    }
   ],
   "source": [
    "if True: print \"Ciao\"\n",
    "else: print \"Falso\""
   ]
  },
  {
   "cell_type": "markdown",
   "metadata": {},
   "source": [
    "# WHILE"
   ]
  },
  {
   "cell_type": "code",
   "execution_count": 20,
   "metadata": {
    "collapsed": false
   },
   "outputs": [
    {
     "name": "stdout",
     "output_type": "stream",
     "text": [
      "Ciao!\n",
      "Ciao!\n",
      "Ciao!\n",
      "Ciao!\n",
      "Ciao!\n"
     ]
    }
   ],
   "source": [
    "'''\n",
    "while CONDIZIONE:\n",
    "    istruzione1\n",
    "    istruzione2\n",
    "    ...\n",
    "\n",
    "'''\n",
    "cont = 0\n",
    "while True:\n",
    "    print \"Ciao!\"\n",
    "    cont += 1\n",
    "    if cont == 5:\n",
    "        #uscire dal while\n",
    "        break"
   ]
  },
  {
   "cell_type": "code",
   "execution_count": 21,
   "metadata": {
    "collapsed": false
   },
   "outputs": [
    {
     "name": "stdout",
     "output_type": "stream",
     "text": [
      "Ciao!\n",
      "Ciao!\n",
      "Ciao!\n",
      "Ciao!\n",
      "Ciao!\n"
     ]
    }
   ],
   "source": [
    "cont = 0\n",
    "while cont < 5:\n",
    "    print \"Ciao!\"\n",
    "    cont += 1"
   ]
  },
  {
   "cell_type": "markdown",
   "metadata": {},
   "source": [
    "# FOR"
   ]
  },
  {
   "cell_type": "code",
   "execution_count": 22,
   "metadata": {
    "collapsed": false
   },
   "outputs": [
    {
     "name": "stdout",
     "output_type": "stream",
     "text": [
      "Uno\n",
      "Due\n",
      "Tre\n"
     ]
    }
   ],
   "source": [
    "# C Style\n",
    "'''\n",
    "FOR STANDARD\n",
    "c = [1,2,3]\n",
    "for (i = 0; i < 3; i++)\n",
    "    print c[i]\n",
    "    \n",
    "In automatico i definito numerico\n",
    "'''\n",
    "\n",
    "'''\n",
    "FOR EACH\n",
    "C = [1,2,3]\n",
    "for i in c:\n",
    "    print i\n",
    "    \n",
    "i rappresenta il valore della lista\n",
    "'''\n",
    "\n",
    "lista = ['Uno','Due','Tre']\n",
    "for value in lista:\n",
    "    print value"
   ]
  },
  {
   "cell_type": "code",
   "execution_count": 23,
   "metadata": {
    "collapsed": false
   },
   "outputs": [
    {
     "data": {
      "text/plain": [
       "[0, 1, 2, 3, 4]"
      ]
     },
     "execution_count": 23,
     "metadata": {},
     "output_type": "execute_result"
    }
   ],
   "source": [
    "range(5)"
   ]
  },
  {
   "cell_type": "code",
   "execution_count": 25,
   "metadata": {
    "collapsed": false
   },
   "outputs": [
    {
     "name": "stdout",
     "output_type": "stream",
     "text": [
      "Ciao!\n",
      "Ciao!\n",
      "Ciao!\n",
      "Ciao!\n",
      "Ciao!\n"
     ]
    }
   ],
   "source": [
    "for i in range(5):\n",
    "    print \"Ciao!\""
   ]
  },
  {
   "cell_type": "code",
   "execution_count": 26,
   "metadata": {
    "collapsed": false
   },
   "outputs": [
    {
     "data": {
      "text/plain": [
       "[1, 2, 3, 4]"
      ]
     },
     "execution_count": 26,
     "metadata": {},
     "output_type": "execute_result"
    }
   ],
   "source": [
    "range(1,5)"
   ]
  },
  {
   "cell_type": "code",
   "execution_count": 27,
   "metadata": {
    "collapsed": false
   },
   "outputs": [
    {
     "data": {
      "text/plain": [
       "[0, 1, 2, 3, 4]"
      ]
     },
     "execution_count": 27,
     "metadata": {},
     "output_type": "execute_result"
    }
   ],
   "source": [
    "lista = range (5)\n",
    "lista"
   ]
  },
  {
   "cell_type": "code",
   "execution_count": 28,
   "metadata": {
    "collapsed": false
   },
   "outputs": [
    {
     "name": "stdout",
     "output_type": "stream",
     "text": [
      "Zero\n",
      "Uno\n",
      "Due\n",
      "Tre\n"
     ]
    }
   ],
   "source": [
    "lista = ['Zero','Uno','Due','Tre']\n",
    "for value in lista:\n",
    "    print value"
   ]
  },
  {
   "cell_type": "code",
   "execution_count": 29,
   "metadata": {
    "collapsed": false
   },
   "outputs": [
    {
     "name": "stdout",
     "output_type": "stream",
     "text": [
      "INDICE: 0 --> Zero\n",
      "INDICE: 1 --> Uno\n",
      "INDICE: 2 --> Due\n",
      "INDICE: 3 --> Tre\n"
     ]
    }
   ],
   "source": [
    "for indice, valore in enumerate(lista):\n",
    "    print \"INDICE: %s --> %s\" % (indice, valore)\n",
    "'''\n",
    "enumerate restituisce Tuple:\n",
    "(0,'Zero')\n",
    "(1,'Uno)\n",
    "...\n",
    "\n",
    "Si tratta di un generatore\n",
    "'''"
   ]
  },
  {
   "cell_type": "code",
   "execution_count": 30,
   "metadata": {
    "collapsed": false
   },
   "outputs": [
    {
     "name": "stdout",
     "output_type": "stream",
     "text": [
      "(0, 'Zero')\n",
      "(1, 'Uno')\n",
      "(2, 'Due')\n",
      "(3, 'Tre')\n"
     ]
    }
   ],
   "source": [
    "for v in enumerate(lista):\n",
    "    print v"
   ]
  },
  {
   "cell_type": "code",
   "execution_count": 32,
   "metadata": {
    "collapsed": false
   },
   "outputs": [
    {
     "name": "stdout",
     "output_type": "stream",
     "text": [
      "0  -  Zero\n",
      "1  -  Uno\n",
      "2  -  Due\n",
      "3  -  Tre\n"
     ]
    }
   ],
   "source": [
    "for v in enumerate(lista):\n",
    "    print v[0],\" - \",v[1]"
   ]
  },
  {
   "cell_type": "code",
   "execution_count": 34,
   "metadata": {
    "collapsed": false
   },
   "outputs": [
    {
     "name": "stdout",
     "output_type": "stream",
     "text": [
      "Zero\n",
      "Uno\n",
      "Due\n",
      "Tre\n"
     ]
    }
   ],
   "source": [
    "len (lista)\n",
    "for indice in range(len(lista)):\n",
    "    print lista[indice]"
   ]
  },
  {
   "cell_type": "markdown",
   "metadata": {},
   "source": [
    "# Uguaglianza VS Identita'"
   ]
  },
  {
   "cell_type": "code",
   "execution_count": 39,
   "metadata": {
    "collapsed": false
   },
   "outputs": [
    {
     "name": "stdout",
     "output_type": "stream",
     "text": [
      "True\n",
      "False\n",
      "False\n"
     ]
    }
   ],
   "source": [
    "x = 0\n",
    "y = \"0\"\n",
    "print x == 0\n",
    "print x == y\n",
    "print x is y"
   ]
  },
  {
   "cell_type": "code",
   "execution_count": 40,
   "metadata": {
    "collapsed": false
   },
   "outputs": [
    {
     "name": "stdout",
     "output_type": "stream",
     "text": [
      "True\n",
      "False\n"
     ]
    }
   ],
   "source": [
    "x = [0]\n",
    "y = [0]\n",
    "print x == y\n",
    "print x is y"
   ]
  },
  {
   "cell_type": "code",
   "execution_count": 41,
   "metadata": {
    "collapsed": false
   },
   "outputs": [
    {
     "name": "stdout",
     "output_type": "stream",
     "text": [
      "<type 'float'>\n"
     ]
    }
   ],
   "source": [
    "a = 0.0\n",
    "print type(a)"
   ]
  },
  {
   "cell_type": "markdown",
   "metadata": {},
   "source": [
    "# TRY / Except Exception"
   ]
  },
  {
   "cell_type": "code",
   "execution_count": 44,
   "metadata": {
    "collapsed": false
   },
   "outputs": [
    {
     "name": "stdout",
     "output_type": "stream",
     "text": [
      "Name Error\n"
     ]
    }
   ],
   "source": [
    "try:\n",
    "    print variabile\n",
    "except NameError:\n",
    "    print \"Name Error\"\n",
    "except:\n",
    "    print \"Errore Sconosciuto\""
   ]
  },
  {
   "cell_type": "code",
   "execution_count": 45,
   "metadata": {
    "collapsed": false
   },
   "outputs": [
    {
     "name": "stdout",
     "output_type": "stream",
     "text": [
      "Errore Sconosciuto\n"
     ]
    }
   ],
   "source": [
    "try:\n",
    "    print \"1\" + 1\n",
    "except NameError:\n",
    "    print \"Name Error\"\n",
    "except:\n",
    "    print \"Errore Sconosciuto\""
   ]
  },
  {
   "cell_type": "code",
   "execution_count": 47,
   "metadata": {
    "collapsed": false
   },
   "outputs": [
    {
     "name": "stdout",
     "output_type": "stream",
     "text": [
      "1\n",
      "Funziona\n"
     ]
    }
   ],
   "source": [
    "try:\n",
    "    print \"1\"\n",
    "except NameError:\n",
    "    print \"Name Error\"\n",
    "except:\n",
    "    print \"Errore Sconosciuto\"\n",
    "else:\n",
    "    print \"Funziona\""
   ]
  },
  {
   "cell_type": "code",
   "execution_count": 48,
   "metadata": {
    "collapsed": false
   },
   "outputs": [
    {
     "name": "stdout",
     "output_type": "stream",
     "text": [
      "Errore Sconosciuto\n"
     ]
    }
   ],
   "source": [
    "try:\n",
    "    print \"1\" + 1\n",
    "except NameError:\n",
    "    print \"Name Error\"\n",
    "except:\n",
    "    print \"Errore Sconosciuto\"\n",
    "else:\n",
    "    print \"Funziona\""
   ]
  },
  {
   "cell_type": "code",
   "execution_count": 49,
   "metadata": {
    "collapsed": false
   },
   "outputs": [
    {
     "name": "stdout",
     "output_type": "stream",
     "text": [
      "1\n",
      "Funziona\n",
      "Condizione finale\n"
     ]
    }
   ],
   "source": [
    "try:\n",
    "    print \"1\"\n",
    "except NameError:\n",
    "    print \"Name Error\"\n",
    "except:\n",
    "    print \"Errore Sconosciuto\"\n",
    "else:\n",
    "    print \"Funziona\"\n",
    "finally:\n",
    "    print \"Condizione finale\""
   ]
  },
  {
   "cell_type": "code",
   "execution_count": 51,
   "metadata": {
    "collapsed": false
   },
   "outputs": [
    {
     "name": "stdout",
     "output_type": "stream",
     "text": [
      "cannot concatenate 'str' and 'int' objects\n",
      "Condizione finale\n"
     ]
    }
   ],
   "source": [
    "try:\n",
    "    print \"1\" + 1\n",
    "except NameError:\n",
    "    print \"Name Error\"\n",
    "except Exception as e:\n",
    "    print e\n",
    "else:\n",
    "    print \"Funziona\"\n",
    "finally:\n",
    "    print \"Condizione finale\""
   ]
  },
  {
   "cell_type": "code",
   "execution_count": 52,
   "metadata": {
    "collapsed": false
   },
   "outputs": [
    {
     "name": "stdout",
     "output_type": "stream",
     "text": [
      "1\n",
      "Funziona\n",
      "Condizione finale\n"
     ]
    }
   ],
   "source": [
    "'''\n",
    "except Exception as var:\n",
    "    print var\n",
    "\n",
    "restituisce il motivo dell'errore\n",
    "'''\n",
    "try:\n",
    "    print \"1\"\n",
    "except Exception as e:\n",
    "    print e\n",
    "else:\n",
    "    print \"Funziona\"\n",
    "finally:\n",
    "    print \"Condizione finale\""
   ]
  },
  {
   "cell_type": "code",
   "execution_count": 53,
   "metadata": {
    "collapsed": false
   },
   "outputs": [
    {
     "name": "stdout",
     "output_type": "stream",
     "text": [
      "unsupported operand type(s) for -: 'str' and 'int'\n",
      "Condizione finale\n"
     ]
    }
   ],
   "source": [
    "try:\n",
    "    print \"1\" - 1\n",
    "except Exception as e:\n",
    "    print e\n",
    "else:\n",
    "    print \"Funziona\"\n",
    "finally:\n",
    "    print \"Condizione finale\""
   ]
  },
  {
   "cell_type": "code",
   "execution_count": 54,
   "metadata": {
    "collapsed": false
   },
   "outputs": [
    {
     "name": "stdout",
     "output_type": "stream",
     "text": [
      "name 'varnondef' is not defined\n",
      "Condizione finale\n"
     ]
    }
   ],
   "source": [
    "try:\n",
    "    print varnondef\n",
    "except Exception as e:\n",
    "    print e\n",
    "else:\n",
    "    print \"Funziona\"\n",
    "finally:\n",
    "    print \"Condizione finale\""
   ]
  },
  {
   "cell_type": "markdown",
   "metadata": {},
   "source": [
    "# FUNZIONI"
   ]
  },
  {
   "cell_type": "code",
   "execution_count": 58,
   "metadata": {
    "collapsed": false
   },
   "outputs": [
    {
     "name": "stdout",
     "output_type": "stream",
     "text": [
      "3\n"
     ]
    }
   ],
   "source": [
    "'''\n",
    "da definire sempre prima di richiamare la funzione\n",
    "\n",
    "def nome_funzione (parametro1, paramentro2, ...):\n",
    "    azioni\n",
    "    \n",
    "return restituisce la variabile calcolata dentro la funzione\n",
    "'''\n",
    "\n",
    "def somma(a,b):\n",
    "    output = a + b\n",
    "    print output\n",
    "    return output\n",
    "\n",
    "somma = somma(1,2)"
   ]
  },
  {
   "cell_type": "code",
   "execution_count": 59,
   "metadata": {
    "collapsed": true
   },
   "outputs": [],
   "source": [
    "def func():\n",
    "    pass\n",
    "\n",
    "# in fase di definizione della funzione\n",
    "# se ancora non e' stata definita\n",
    "# non esegue nulla\n",
    "# e' un segnaposto\n",
    "\n"
   ]
  },
  {
   "cell_type": "code",
   "execution_count": 62,
   "metadata": {
    "collapsed": false
   },
   "outputs": [
    {
     "name": "stdout",
     "output_type": "stream",
     "text": [
      "1 None\n"
     ]
    }
   ],
   "source": [
    "def func (param1=None, param2=None):\n",
    "    print param1, param2\n",
    "\n",
    "func(1)"
   ]
  },
  {
   "cell_type": "code",
   "execution_count": 63,
   "metadata": {
    "collapsed": false
   },
   "outputs": [
    {
     "name": "stdout",
     "output_type": "stream",
     "text": [
      "1 2\n"
     ]
    }
   ],
   "source": [
    "func(1,2)"
   ]
  },
  {
   "cell_type": "code",
   "execution_count": 64,
   "metadata": {
    "collapsed": false
   },
   "outputs": [
    {
     "name": "stdout",
     "output_type": "stream",
     "text": [
      "None 2\n"
     ]
    }
   ],
   "source": [
    "func(param2=2)"
   ]
  },
  {
   "cell_type": "code",
   "execution_count": 65,
   "metadata": {
    "collapsed": false
   },
   "outputs": [
    {
     "name": "stdout",
     "output_type": "stream",
     "text": [
      "1 2\n"
     ]
    }
   ],
   "source": [
    "func(1,2)"
   ]
  },
  {
   "cell_type": "code",
   "execution_count": 66,
   "metadata": {
    "collapsed": false
   },
   "outputs": [
    {
     "name": "stdout",
     "output_type": "stream",
     "text": [
      "2 1\n"
     ]
    }
   ],
   "source": [
    "# In questo modo non e' importante\n",
    "# l'ordine con i quale sono passati \n",
    "# i parametri\n",
    "\n",
    "func(param2=1,param1=2)"
   ]
  },
  {
   "cell_type": "code",
   "execution_count": 67,
   "metadata": {
    "collapsed": false
   },
   "outputs": [
    {
     "name": "stdout",
     "output_type": "stream",
     "text": [
      "Error\n"
     ]
    }
   ],
   "source": [
    "def func(param=None):\n",
    "    if param:\n",
    "        print param\n",
    "    else:\n",
    "        print \"Error\"\n",
    "\n",
    "func()"
   ]
  },
  {
   "cell_type": "code",
   "execution_count": 70,
   "metadata": {
    "collapsed": false
   },
   "outputs": [
    {
     "name": "stdout",
     "output_type": "stream",
     "text": [
      "1\n"
     ]
    }
   ],
   "source": [
    "func(1)"
   ]
  },
  {
   "cell_type": "code",
   "execution_count": 72,
   "metadata": {
    "collapsed": false
   },
   "outputs": [
    {
     "name": "stdout",
     "output_type": "stream",
     "text": [
      "(1, 2, 3, 4, 5)\n"
     ]
    }
   ],
   "source": [
    "# Per passare un numero indefinito di parametri\n",
    "def func(*args):\n",
    "    print args\n",
    "\n",
    "print (1,2,3,4,5)"
   ]
  },
  {
   "cell_type": "code",
   "execution_count": 89,
   "metadata": {
    "collapsed": false
   },
   "outputs": [
    {
     "name": "stdout",
     "output_type": "stream",
     "text": [
      "1 2 (3, 4, 5)\n"
     ]
    }
   ],
   "source": [
    "def func(p1, p2, *args):\n",
    "    print p1, p2, args\n",
    "\n",
    "func(1,2,3,4,5)"
   ]
  },
  {
   "cell_type": "code",
   "execution_count": 90,
   "metadata": {
    "collapsed": false
   },
   "outputs": [
    {
     "name": "stdout",
     "output_type": "stream",
     "text": [
      "1 (2, 3, 4, 5) {'ciao': 1, 'pippo': 'pluto'}\n",
      "[('ciao', 1), ('pippo', 'pluto')]\n",
      "<type 'dict'>\n"
     ]
    }
   ],
   "source": [
    "def func (p1, *args, **kw):\n",
    "    print p1, args, kw\n",
    "    print kw.items()\n",
    "    print type(kw)\n",
    "\n",
    "func(1,2,3,4,5, ciao = 1, pippo='pluto')"
   ]
  },
  {
   "cell_type": "code",
   "execution_count": 97,
   "metadata": {
    "collapsed": false
   },
   "outputs": [
    {
     "name": "stdout",
     "output_type": "stream",
     "text": [
      "5\n",
      "0\n"
     ]
    }
   ],
   "source": [
    "num = 0\n",
    "def func():\n",
    "    num = 5\n",
    "    print num\n",
    "\n",
    "func()\n",
    "print num"
   ]
  },
  {
   "cell_type": "code",
   "execution_count": 98,
   "metadata": {
    "collapsed": false
   },
   "outputs": [
    {
     "name": "stdout",
     "output_type": "stream",
     "text": [
      "5\n",
      "5\n"
     ]
    }
   ],
   "source": [
    "num = 0\n",
    "def func():\n",
    "    num = 5\n",
    "    print num\n",
    "    return num\n",
    "num = func()\n",
    "print num"
   ]
  },
  {
   "cell_type": "code",
   "execution_count": 99,
   "metadata": {
    "collapsed": false
   },
   "outputs": [
    {
     "name": "stdout",
     "output_type": "stream",
     "text": [
      "{'key2': 2, 'key1': 1}\n"
     ]
    }
   ],
   "source": [
    "def func(param):\n",
    "    print param\n",
    "    \n",
    "func(dict(key1=1,key2=2))"
   ]
  },
  {
   "cell_type": "code",
   "execution_count": 100,
   "metadata": {
    "collapsed": false
   },
   "outputs": [
    {
     "data": {
      "text/plain": [
       "dict"
      ]
     },
     "execution_count": 100,
     "metadata": {},
     "output_type": "execute_result"
    }
   ],
   "source": [
    "a = dict(key1=1,key2=2)\n",
    "type (a)"
   ]
  },
  {
   "cell_type": "code",
   "execution_count": 102,
   "metadata": {
    "collapsed": false
   },
   "outputs": [
    {
     "name": "stdout",
     "output_type": "stream",
     "text": [
      "{'key2': 2, 'key1': 1}\n"
     ]
    }
   ],
   "source": [
    "# **kw mi permette di passare un dizionario\n",
    "# ** anche quando richiamo la funzione\n",
    "\n",
    "def func(**kw):\n",
    "    print kw\n",
    "\n",
    "func(**a)"
   ]
  },
  {
   "cell_type": "markdown",
   "metadata": {},
   "source": [
    "## Esercizio 1\n",
    "Creare una funzione che stampi per ogni elemento della lista un output del tipo:\n",
    "\n",
    "    POSIZIONE X --> VALUE\n",
    "    POSIZIONE Y --> VALUE"
   ]
  },
  {
   "cell_type": "code",
   "execution_count": 106,
   "metadata": {
    "collapsed": false
   },
   "outputs": [
    {
     "name": "stdout",
     "output_type": "stream",
     "text": [
      "0 --> Ciao\n",
      "1 --> Pippo\n",
      "2 --> Pluto\n"
     ]
    }
   ],
   "source": [
    "def p_list(mylist):\n",
    "    for v in enumerate(mylist):\n",
    "        print \"%s --> %s\" % (v[0],v[1])\n",
    "\n",
    "p_list(['Ciao', 'Pippo', 'Pluto'])"
   ]
  },
  {
   "cell_type": "markdown",
   "metadata": {},
   "source": [
    "## Esercizio 2\n",
    "Creare una funzione che prenda input un dizionario e stampi per ogni elemento un output del tipo:\n",
    "\n",
    "    CHIAVE X --> VALUE\n",
    "    POSIZIONE Y --> VALUE"
   ]
  },
  {
   "cell_type": "code",
   "execution_count": 132,
   "metadata": {
    "collapsed": false
   },
   "outputs": [
    {
     "name": "stdout",
     "output_type": "stream",
     "text": [
      "Prima funzione: key2 --> 2\n",
      "Prima funzione: key1 --> 1\n",
      "Seconda Funzione: key2 --> 2\n",
      "Seconda Funzione: key1 --> 1\n",
      "Terza Funzione: key2 --> 2\n",
      "Terza Funzione: key1 --> 1\n"
     ]
    }
   ],
   "source": [
    "dic1 = dict(key1=1,key2=2)\n",
    "type (dic1)\n",
    "\n",
    "def p_dict(mydict):\n",
    "    for x in mydict.keys():\n",
    "        print \"Prima funzione - CHIAVE: %s --> %s\" % (x, mydict[x])\n",
    "    \n",
    "p_dict(dic1)\n",
    "\n",
    "def p_dict2(mydict):\n",
    "    for x in mydict.items():\n",
    "        print \"Seconda Funzione - CHIAVE: %s --> %s\" % (x[0],x[1])\n",
    "    \n",
    "p_dict2(dic1)\n",
    "\n",
    "def p_dict21(mydict):\n",
    "    for key,value in mydict.items():\n",
    "        print \"Terza Funzione - CHIAVE: %s --> %s\" % (key, value)\n",
    "    \n",
    "p_dict21(dic1)"
   ]
  },
  {
   "cell_type": "markdown",
   "metadata": {},
   "source": [
    "## Esercizio 3\n",
    "Modificare la funzione p_dict in modo tale che effettui i seguenti controlli:\n",
    "\n",
    "    se value e' una lista --> invocare l stampa della lista\n",
    "    se il value e' un dizionario --> invocare la stampa del dizionario\n",
    "    se nessuna delle due condizioni e' verificata --> stampare in modalit classica"
   ]
  },
  {
   "cell_type": "code",
   "execution_count": 134,
   "metadata": {
    "collapsed": false
   },
   "outputs": [],
   "source": [
    "key1=1\n",
    "key2=[1,2,3,4]\n",
    "key3='Hello'\n",
    "key4={'Ciao':'Mondo', 'Hello':'World'}"
   ]
  },
  {
   "cell_type": "code",
   "execution_count": 135,
   "metadata": {
    "collapsed": false
   },
   "outputs": [
    {
     "data": {
      "text/plain": [
       "int"
      ]
     },
     "execution_count": 135,
     "metadata": {},
     "output_type": "execute_result"
    }
   ],
   "source": [
    "type(key1)"
   ]
  },
  {
   "cell_type": "code",
   "execution_count": 136,
   "metadata": {
    "collapsed": false
   },
   "outputs": [
    {
     "data": {
      "text/plain": [
       "list"
      ]
     },
     "execution_count": 136,
     "metadata": {},
     "output_type": "execute_result"
    }
   ],
   "source": [
    "type(key2)"
   ]
  },
  {
   "cell_type": "code",
   "execution_count": 137,
   "metadata": {
    "collapsed": false
   },
   "outputs": [
    {
     "data": {
      "text/plain": [
       "str"
      ]
     },
     "execution_count": 137,
     "metadata": {},
     "output_type": "execute_result"
    }
   ],
   "source": [
    "type(key3)"
   ]
  },
  {
   "cell_type": "code",
   "execution_count": 138,
   "metadata": {
    "collapsed": false
   },
   "outputs": [
    {
     "data": {
      "text/plain": [
       "dict"
      ]
     },
     "execution_count": 138,
     "metadata": {},
     "output_type": "execute_result"
    }
   ],
   "source": [
    "type(key4)"
   ]
  },
  {
   "cell_type": "code",
   "execution_count": 152,
   "metadata": {
    "collapsed": false
   },
   "outputs": [
    {
     "name": "stdout",
     "output_type": "stream",
     "text": [
      "Hello\n",
      "0 --> 1\n",
      "1 --> 2\n",
      "2 --> 3\n",
      "3 --> 4\n",
      "1\n",
      "Terza Funzione: Ciao --> Mondo\n",
      "Terza Funzione: Hello --> World\n",
      "KEY: key3 --> Hello\n",
      "0 --> 1\n",
      "1 --> 2\n",
      "2 --> 3\n",
      "3 --> 4\n",
      "KEY: key1 --> 1\n",
      "Terza Funzione: Ciao --> Mondo\n",
      "Terza Funzione: Hello --> World\n"
     ]
    }
   ],
   "source": [
    "def p_dict_3(mydict):\n",
    "    for key,value in mydict.items():\n",
    "        if type(value) == list:\n",
    "            p_list(value)\n",
    "        elif type(value) == dict:\n",
    "            p_dict21(value)\n",
    "        else:\n",
    "            print value\n",
    "\n",
    "# if isinstance ([1],list)\n",
    "# restituisce Vero / Falso se il tipo del primo termine  uguale al secondo termine\n",
    "            \n",
    "p_dict_3(dict(key1=1,\n",
    "             key2=[1,2,3,4],\n",
    "             key3='Hello',\n",
    "             key4={'Ciao':'Mondo', 'Hello':'World'}))\n",
    "\n",
    "def p_dict_31(mydict):\n",
    "    for key,value in mydict.items():\n",
    "        if isinstance(value, list):\n",
    "            p_list(value)\n",
    "        elif isinstance(value, dict):\n",
    "            p_dict21(value)\n",
    "        else:\n",
    "            print \"KEY: %s --> %s\" % (key,value)\n",
    "            \n",
    "p_dict_31(dict(key1=1,\n",
    "             key2=[1,2,3,4],\n",
    "             key3='Hello',\n",
    "             key4={'Ciao':'Mondo', 'Hello':'World'}))"
   ]
  },
  {
   "cell_type": "markdown",
   "metadata": {},
   "source": [
    "## Esercizio 4"
   ]
  },
  {
   "cell_type": "code",
   "execution_count": 160,
   "metadata": {
    "collapsed": false
   },
   "outputs": [
    {
     "name": "stdout",
     "output_type": "stream",
     "text": [
      "Ciao\n",
      "sono\n",
      "una\n",
      "frase\n",
      "un\n",
      "po\n",
      "lunga\n",
      "con\n",
      "alcune\n",
      "parole\n",
      "Parole totali: 10\n",
      "Ciao\n",
      "sono\n",
      "una\n",
      "frase\n",
      "un\n",
      "po\n",
      "lunga\n",
      "con\n",
      "alcune\n",
      "parole\n",
      "Parole totali: 10\n"
     ]
    }
   ],
   "source": [
    "def word_count(frase):\n",
    "# crea un array con le parole    print frase.split()\n",
    "# definisce il separatore come virgola    print frase.split(\",\")\n",
    "    count = 0\n",
    "    split_out = frase.split()\n",
    "    for i in split_out:\n",
    "        print i\n",
    "        count +=1\n",
    "    print \"Parole totali:\", count\n",
    "\n",
    "word_count(\"Ciao sono una frase un po lunga con alcune parole\")\n",
    "\n",
    "def word_count_better(frase):\n",
    "    split_out = frase.split()\n",
    "    for i in split_out:\n",
    "        print i\n",
    "    print \"Parole totali:\", len(split_out)\n",
    "\n",
    "word_count_better(\"Ciao sono una frase un po lunga con alcune parole\")"
   ]
  },
  {
   "cell_type": "code",
   "execution_count": 164,
   "metadata": {
    "collapsed": false
   },
   "outputs": [
    {
     "name": "stdout",
     "output_type": "stream",
     "text": [
      "Error\n",
      "'int' object has no attribute 'items'\n"
     ]
    }
   ],
   "source": [
    "def func(dizionario):\n",
    "    try:\n",
    "        print dizionario.items()\n",
    "    except Exception as e:\n",
    "        print \"Error\"\n",
    "        print e\n",
    "\n",
    "func(1)"
   ]
  },
  {
   "cell_type": "code",
   "execution_count": 172,
   "metadata": {
    "collapsed": false
   },
   "outputs": [
    {
     "name": "stdout",
     "output_type": "stream",
     "text": [
      "'int' object has no attribute 'items'\n"
     ]
    }
   ],
   "source": [
    "#per lasciarle il controllo \n",
    "#non a chi definisce la funzione ma a chi la esegue, \n",
    "#altrimenti non si vedrebbe il problema\n",
    "\n",
    "def func(dizionario):\n",
    "    '''\n",
    "    Questo si visualizza nell'help della funzione\n",
    "    '''\n",
    "    try:\n",
    "        print dizionario.items()\n",
    "    except Exception as e:\n",
    "        raise Exception(e)\n",
    "\n",
    "try:\n",
    "    func(1)\n",
    "except Exception as e:\n",
    "    print e"
   ]
  },
  {
   "cell_type": "code",
   "execution_count": 173,
   "metadata": {
    "collapsed": false
   },
   "outputs": [
    {
     "name": "stdout",
     "output_type": "stream",
     "text": [
      "Help on function func in module __main__:\n",
      "\n",
      "func(dizionario)\n",
      "    Questo si visualizza nell'help della funzione\n",
      "\n"
     ]
    }
   ],
   "source": [
    "help(func)"
   ]
  },
  {
   "cell_type": "code",
   "execution_count": null,
   "metadata": {
    "collapsed": true
   },
   "outputs": [],
   "source": []
  }
 ],
 "metadata": {
  "kernelspec": {
   "display_name": "Python [Root]",
   "language": "python",
   "name": "Python [Root]"
  },
  "language_info": {
   "codemirror_mode": {
    "name": "ipython",
    "version": 2
   },
   "file_extension": ".py",
   "mimetype": "text/x-python",
   "name": "python",
   "nbconvert_exporter": "python",
   "pygments_lexer": "ipython2",
   "version": "2.7.12"
  }
 },
 "nbformat": 4,
 "nbformat_minor": 0
}
