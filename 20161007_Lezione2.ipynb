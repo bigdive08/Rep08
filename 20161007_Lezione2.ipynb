{
 "cells": [
  {
   "cell_type": "code",
   "execution_count": 3,
   "metadata": {
    "collapsed": false
   },
   "outputs": [
    {
     "name": "stdout",
     "output_type": "stream",
     "text": [
      "Sono vero\n"
     ]
    }
   ],
   "source": [
    "'''\n",
    "if CONDIZIONE :\n",
    "    CONDIZIONE TRUE\n",
    "else:\n",
    "    CONDIZIONE FALSE\n",
    "'''\n",
    "vero = True\n",
    "if vero:\n",
    "    print \"Sono vero\"\n",
    "else:\n",
    "    print \"Sono falso\""
   ]
  },
  {
   "cell_type": "code",
   "execution_count": 4,
   "metadata": {
    "collapsed": false
   },
   "outputs": [
    {
     "name": "stdout",
     "output_type": "stream",
     "text": [
      "Sono falso\n"
     ]
    }
   ],
   "source": [
    "vero = False\n",
    "if vero:\n",
    "    print \"Sono vero\"\n",
    "else:\n",
    "    print \"Sono falso\""
   ]
  },
  {
   "cell_type": "code",
   "execution_count": 5,
   "metadata": {
    "collapsed": false
   },
   "outputs": [
    {
     "name": "stdout",
     "output_type": "stream",
     "text": [
      "Sono vero\n"
     ]
    }
   ],
   "source": [
    "vero = False\n",
    "if not vero:\n",
    "    print \"Sono vero\"\n",
    "else:\n",
    "    print \"Sono falso\""
   ]
  },
  {
   "cell_type": "code",
   "execution_count": 6,
   "metadata": {
    "collapsed": false
   },
   "outputs": [
    {
     "name": "stdout",
     "output_type": "stream",
     "text": [
      "Falso\n"
     ]
    }
   ],
   "source": [
    "falso = False\n",
    "vero = True\n",
    "if vero and falso:\n",
    "    print \"Vero\"\n",
    "else:\n",
    "    print \"Falso\""
   ]
  },
  {
   "cell_type": "code",
   "execution_count": 7,
   "metadata": {
    "collapsed": false
   },
   "outputs": [
    {
     "name": "stdout",
     "output_type": "stream",
     "text": [
      "Vero\n"
     ]
    }
   ],
   "source": [
    "falso = False\n",
    "vero = True\n",
    "if vero and not falso:\n",
    "    print \"Vero\"\n",
    "else:\n",
    "    print \"Falso\""
   ]
  },
  {
   "cell_type": "code",
   "execution_count": 8,
   "metadata": {
    "collapsed": false
   },
   "outputs": [
    {
     "name": "stdout",
     "output_type": "stream",
     "text": [
      "Vero\n"
     ]
    }
   ],
   "source": [
    "if vero or falso:\n",
    "    print \"Vero\"\n",
    "else:\n",
    "    print \"Falso\""
   ]
  },
  {
   "cell_type": "code",
   "execution_count": 9,
   "metadata": {
    "collapsed": false
   },
   "outputs": [
    {
     "name": "stdout",
     "output_type": "stream",
     "text": [
      "Falso\n"
     ]
    }
   ],
   "source": [
    "if not vero or falso:\n",
    "    print \"Vero\"\n",
    "else:\n",
    "    print \"Falso\""
   ]
  },
  {
   "cell_type": "code",
   "execution_count": 11,
   "metadata": {
    "collapsed": false
   },
   "outputs": [
    {
     "name": "stdout",
     "output_type": "stream",
     "text": [
      "Ciao!\n"
     ]
    }
   ],
   "source": [
    "if not vero or falso:\n",
    "    print \"Vero\"\n",
    "elif 1==1:\n",
    "    print \"Ciao!\"\n",
    "else:\n",
    "    print \"Falso\""
   ]
  },
  {
   "cell_type": "code",
   "execution_count": 12,
   "metadata": {
    "collapsed": false
   },
   "outputs": [
    {
     "name": "stdout",
     "output_type": "stream",
     "text": [
      "Sono uguali\n"
     ]
    }
   ],
   "source": [
    "a = 1\n",
    "b = \"1\"\n",
    "if str(a) == b:\n",
    "    print \"Sono uguali\"\n",
    "else:\n",
    "    print \"Sono diversi\""
   ]
  },
  {
   "cell_type": "code",
   "execution_count": 14,
   "metadata": {
    "collapsed": false
   },
   "outputs": [
    {
     "data": {
      "text/plain": [
       "'1010'"
      ]
     },
     "execution_count": 14,
     "metadata": {},
     "output_type": "execute_result"
    }
   ],
   "source": [
    "Numero1 = \"10\"\n",
    "Numero2 = \"10\"\n",
    "Numero1 + Numero2"
   ]
  },
  {
   "cell_type": "code",
   "execution_count": 15,
   "metadata": {
    "collapsed": false
   },
   "outputs": [
    {
     "name": "stdout",
     "output_type": "stream",
     "text": [
      "Ciao\n"
     ]
    }
   ],
   "source": [
    "if True: print \"Ciao\"\n",
    "else: print \"Falso\""
   ]
  },
  {
   "cell_type": "markdown",
   "metadata": {},
   "source": [
    "# WHILE"
   ]
  },
  {
   "cell_type": "code",
   "execution_count": 20,
   "metadata": {
    "collapsed": false
   },
   "outputs": [
    {
     "name": "stdout",
     "output_type": "stream",
     "text": [
      "Ciao!\n",
      "Ciao!\n",
      "Ciao!\n",
      "Ciao!\n",
      "Ciao!\n"
     ]
    }
   ],
   "source": [
    "'''\n",
    "while CONDIZIONE:\n",
    "    istruzione1\n",
    "    istruzione2\n",
    "    ...\n",
    "\n",
    "'''\n",
    "cont = 0\n",
    "while True:\n",
    "    print \"Ciao!\"\n",
    "    cont += 1\n",
    "    if cont == 5:\n",
    "        #uscire dal while\n",
    "        break"
   ]
  },
  {
   "cell_type": "code",
   "execution_count": 21,
   "metadata": {
    "collapsed": false
   },
   "outputs": [
    {
     "name": "stdout",
     "output_type": "stream",
     "text": [
      "Ciao!\n",
      "Ciao!\n",
      "Ciao!\n",
      "Ciao!\n",
      "Ciao!\n"
     ]
    }
   ],
   "source": [
    "cont = 0\n",
    "while cont < 5:\n",
    "    print \"Ciao!\"\n",
    "    cont += 1"
   ]
  },
  {
   "cell_type": "markdown",
   "metadata": {},
   "source": [
    "# FOR"
   ]
  },
  {
   "cell_type": "code",
   "execution_count": 22,
   "metadata": {
    "collapsed": false
   },
   "outputs": [
    {
     "name": "stdout",
     "output_type": "stream",
     "text": [
      "Uno\n",
      "Due\n",
      "Tre\n"
     ]
    }
   ],
   "source": [
    "# C Style\n",
    "'''\n",
    "FOR STANDARD\n",
    "c = [1,2,3]\n",
    "for (i = 0; i < 3; i++)\n",
    "    print c[i]\n",
    "    \n",
    "In automatico i definito numerico\n",
    "'''\n",
    "\n",
    "'''\n",
    "FOR EACH\n",
    "C = [1,2,3]\n",
    "for i in c:\n",
    "    print i\n",
    "    \n",
    "i rappresenta il valore della lista\n",
    "'''\n",
    "\n",
    "lista = ['Uno','Due','Tre']\n",
    "for value in lista:\n",
    "    print value"
   ]
  },
  {
   "cell_type": "code",
   "execution_count": 23,
   "metadata": {
    "collapsed": false
   },
   "outputs": [
    {
     "data": {
      "text/plain": [
       "[0, 1, 2, 3, 4]"
      ]
     },
     "execution_count": 23,
     "metadata": {},
     "output_type": "execute_result"
    }
   ],
   "source": [
    "range(5)"
   ]
  },
  {
   "cell_type": "code",
   "execution_count": 25,
   "metadata": {
    "collapsed": false
   },
   "outputs": [
    {
     "name": "stdout",
     "output_type": "stream",
     "text": [
      "Ciao!\n",
      "Ciao!\n",
      "Ciao!\n",
      "Ciao!\n",
      "Ciao!\n"
     ]
    }
   ],
   "source": [
    "for i in range(5):\n",
    "    print \"Ciao!\""
   ]
  },
  {
   "cell_type": "code",
   "execution_count": 26,
   "metadata": {
    "collapsed": false
   },
   "outputs": [
    {
     "data": {
      "text/plain": [
       "[1, 2, 3, 4]"
      ]
     },
     "execution_count": 26,
     "metadata": {},
     "output_type": "execute_result"
    }
   ],
   "source": [
    "range(1,5)"
   ]
  },
  {
   "cell_type": "code",
   "execution_count": 27,
   "metadata": {
    "collapsed": false
   },
   "outputs": [
    {
     "data": {
      "text/plain": [
       "[0, 1, 2, 3, 4]"
      ]
     },
     "execution_count": 27,
     "metadata": {},
     "output_type": "execute_result"
    }
   ],
   "source": [
    "lista = range (5)\n",
    "lista"
   ]
  },
  {
   "cell_type": "code",
   "execution_count": 28,
   "metadata": {
    "collapsed": false
   },
   "outputs": [
    {
     "name": "stdout",
     "output_type": "stream",
     "text": [
      "Zero\n",
      "Uno\n",
      "Due\n",
      "Tre\n"
     ]
    }
   ],
   "source": [
    "lista = ['Zero','Uno','Due','Tre']\n",
    "for value in lista:\n",
    "    print value"
   ]
  },
  {
   "cell_type": "code",
   "execution_count": 29,
   "metadata": {
    "collapsed": false
   },
   "outputs": [
    {
     "name": "stdout",
     "output_type": "stream",
     "text": [
      "INDICE: 0 --> Zero\n",
      "INDICE: 1 --> Uno\n",
      "INDICE: 2 --> Due\n",
      "INDICE: 3 --> Tre\n"
     ]
    }
   ],
   "source": [
    "for indice, valore in enumerate(lista):\n",
    "    print \"INDICE: %s --> %s\" % (indice, valore)\n",
    "'''\n",
    "enumerate restituisce Tuple:\n",
    "(0,'Zero')\n",
    "(1,'Uno)\n",
    "...\n",
    "\n",
    "Si tratta di un generatore\n",
    "'''"
   ]
  },
  {
   "cell_type": "code",
   "execution_count": 30,
   "metadata": {
    "collapsed": false
   },
   "outputs": [
    {
     "name": "stdout",
     "output_type": "stream",
     "text": [
      "(0, 'Zero')\n",
      "(1, 'Uno')\n",
      "(2, 'Due')\n",
      "(3, 'Tre')\n"
     ]
    }
   ],
   "source": [
    "for v in enumerate(lista):\n",
    "    print v"
   ]
  },
  {
   "cell_type": "code",
   "execution_count": 32,
   "metadata": {
    "collapsed": false
   },
   "outputs": [
    {
     "name": "stdout",
     "output_type": "stream",
     "text": [
      "0  -  Zero\n",
      "1  -  Uno\n",
      "2  -  Due\n",
      "3  -  Tre\n"
     ]
    }
   ],
   "source": [
    "for v in enumerate(lista):\n",
    "    print v[0],\" - \",v[1]"
   ]
  },
  {
   "cell_type": "code",
   "execution_count": 34,
   "metadata": {
    "collapsed": false
   },
   "outputs": [
    {
     "name": "stdout",
     "output_type": "stream",
     "text": [
      "Zero\n",
      "Uno\n",
      "Due\n",
      "Tre\n"
     ]
    }
   ],
   "source": [
    "len (lista)\n",
    "for indice in range(len(lista)):\n",
    "    print lista[indice]"
   ]
  },
  {
   "cell_type": "markdown",
   "metadata": {},
   "source": [
    "# UGUAGLIANZA VS IDENTITA'"
   ]
  },
  {
   "cell_type": "code",
   "execution_count": 39,
   "metadata": {
    "collapsed": false
   },
   "outputs": [
    {
     "name": "stdout",
     "output_type": "stream",
     "text": [
      "True\n",
      "False\n",
      "False\n"
     ]
    }
   ],
   "source": [
    "x = 0\n",
    "y = \"0\"\n",
    "print x == 0\n",
    "print x == y\n",
    "print x is y"
   ]
  },
  {
   "cell_type": "code",
   "execution_count": 40,
   "metadata": {
    "collapsed": false
   },
   "outputs": [
    {
     "name": "stdout",
     "output_type": "stream",
     "text": [
      "True\n",
      "False\n"
     ]
    }
   ],
   "source": [
    "x = [0]\n",
    "y = [0]\n",
    "print x == y\n",
    "print x is y"
   ]
  },
  {
   "cell_type": "code",
   "execution_count": 41,
   "metadata": {
    "collapsed": false
   },
   "outputs": [
    {
     "name": "stdout",
     "output_type": "stream",
     "text": [
      "<type 'float'>\n"
     ]
    }
   ],
   "source": [
    "a = 0.0\n",
    "print type(a)"
   ]
  },
  {
   "cell_type": "markdown",
   "metadata": {},
   "source": [
    "# TRY / Except Exception"
   ]
  },
  {
   "cell_type": "code",
   "execution_count": 44,
   "metadata": {
    "collapsed": false
   },
   "outputs": [
    {
     "name": "stdout",
     "output_type": "stream",
     "text": [
      "Name Error\n"
     ]
    }
   ],
   "source": [
    "try:\n",
    "    print variabile\n",
    "except NameError:\n",
    "    print \"Name Error\"\n",
    "except:\n",
    "    print \"Errore Sconosciuto\""
   ]
  },
  {
   "cell_type": "code",
   "execution_count": 45,
   "metadata": {
    "collapsed": false
   },
   "outputs": [
    {
     "name": "stdout",
     "output_type": "stream",
     "text": [
      "Errore Sconosciuto\n"
     ]
    }
   ],
   "source": [
    "try:\n",
    "    print \"1\" + 1\n",
    "except NameError:\n",
    "    print \"Name Error\"\n",
    "except:\n",
    "    print \"Errore Sconosciuto\""
   ]
  },
  {
   "cell_type": "code",
   "execution_count": 47,
   "metadata": {
    "collapsed": false
   },
   "outputs": [
    {
     "name": "stdout",
     "output_type": "stream",
     "text": [
      "1\n",
      "Funziona\n"
     ]
    }
   ],
   "source": [
    "try:\n",
    "    print \"1\"\n",
    "except NameError:\n",
    "    print \"Name Error\"\n",
    "except:\n",
    "    print \"Errore Sconosciuto\"\n",
    "else:\n",
    "    print \"Funziona\""
   ]
  },
  {
   "cell_type": "code",
   "execution_count": 48,
   "metadata": {
    "collapsed": false
   },
   "outputs": [
    {
     "name": "stdout",
     "output_type": "stream",
     "text": [
      "Errore Sconosciuto\n"
     ]
    }
   ],
   "source": [
    "try:\n",
    "    print \"1\" + 1\n",
    "except NameError:\n",
    "    print \"Name Error\"\n",
    "except:\n",
    "    print \"Errore Sconosciuto\"\n",
    "else:\n",
    "    print \"Funziona\""
   ]
  },
  {
   "cell_type": "code",
   "execution_count": 49,
   "metadata": {
    "collapsed": false
   },
   "outputs": [
    {
     "name": "stdout",
     "output_type": "stream",
     "text": [
      "1\n",
      "Funziona\n",
      "Condizione finale\n"
     ]
    }
   ],
   "source": [
    "try:\n",
    "    print \"1\"\n",
    "except NameError:\n",
    "    print \"Name Error\"\n",
    "except:\n",
    "    print \"Errore Sconosciuto\"\n",
    "else:\n",
    "    print \"Funziona\"\n",
    "finally:\n",
    "    print \"Condizione finale\""
   ]
  },
  {
   "cell_type": "code",
   "execution_count": 51,
   "metadata": {
    "collapsed": false
   },
   "outputs": [
    {
     "name": "stdout",
     "output_type": "stream",
     "text": [
      "cannot concatenate 'str' and 'int' objects\n",
      "Condizione finale\n"
     ]
    }
   ],
   "source": [
    "try:\n",
    "    print \"1\" + 1\n",
    "except NameError:\n",
    "    print \"Name Error\"\n",
    "except Exception as e:\n",
    "    print e\n",
    "else:\n",
    "    print \"Funziona\"\n",
    "finally:\n",
    "    print \"Condizione finale\""
   ]
  },
  {
   "cell_type": "code",
   "execution_count": 52,
   "metadata": {
    "collapsed": false
   },
   "outputs": [
    {
     "name": "stdout",
     "output_type": "stream",
     "text": [
      "1\n",
      "Funziona\n",
      "Condizione finale\n"
     ]
    }
   ],
   "source": [
    "'''\n",
    "except Exception as var:\n",
    "    print var\n",
    "\n",
    "restituisce il motivo dell'errore\n",
    "'''\n",
    "try:\n",
    "    print \"1\"\n",
    "except Exception as e:\n",
    "    print e\n",
    "else:\n",
    "    print \"Funziona\"\n",
    "finally:\n",
    "    print \"Condizione finale\""
   ]
  },
  {
   "cell_type": "code",
   "execution_count": 53,
   "metadata": {
    "collapsed": false
   },
   "outputs": [
    {
     "name": "stdout",
     "output_type": "stream",
     "text": [
      "unsupported operand type(s) for -: 'str' and 'int'\n",
      "Condizione finale\n"
     ]
    }
   ],
   "source": [
    "try:\n",
    "    print \"1\" - 1\n",
    "except Exception as e:\n",
    "    print e\n",
    "else:\n",
    "    print \"Funziona\"\n",
    "finally:\n",
    "    print \"Condizione finale\""
   ]
  },
  {
   "cell_type": "code",
   "execution_count": 54,
   "metadata": {
    "collapsed": false
   },
   "outputs": [
    {
     "name": "stdout",
     "output_type": "stream",
     "text": [
      "name 'varnondef' is not defined\n",
      "Condizione finale\n"
     ]
    }
   ],
   "source": [
    "try:\n",
    "    print varnondef\n",
    "except Exception as e:\n",
    "    print e\n",
    "else:\n",
    "    print \"Funziona\"\n",
    "finally:\n",
    "    print \"Condizione finale\""
   ]
  },
  {
   "cell_type": "code",
   "execution_count": null,
   "metadata": {
    "collapsed": true
   },
   "outputs": [],
   "source": []
  }
 ],
 "metadata": {
  "kernelspec": {
   "display_name": "Python [Root]",
   "language": "python",
   "name": "Python [Root]"
  },
  "language_info": {
   "codemirror_mode": {
    "name": "ipython",
    "version": 2
   },
   "file_extension": ".py",
   "mimetype": "text/x-python",
   "name": "python",
   "nbconvert_exporter": "python",
   "pygments_lexer": "ipython2",
   "version": "2.7.12"
  }
 },
 "nbformat": 4,
 "nbformat_minor": 0
}
