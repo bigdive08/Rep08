{
 "cells": [
  {
   "cell_type": "markdown",
   "metadata": {},
   "source": [
    "# Network Science\n",
    "\n",
    "\n",
    "**GOAL OF THE SESSION**: Fetch data from Twitter APIs\n",
    "\n",
    "**DATA SOURCE**: Twitter \n",
    "\n",
    "**DEVELOPMENT**: How to create a Python script to query Twitter APIs\n",
    "\n",
    "**REQUIREMENTS**: \n",
    "\n",
    "    Twitter Developer Account\n",
    "    tweepy \n",
    "    Python Pretty Print\n",
    "\n",
    "### Pretty Print\n",
    "\n",
    "Using **pprint** we can format in a nice way the print output. Here an example:\n",
    "\n",
    "    import pprint\n",
    "    pp = pprint.PrettyPrinter(indent=2)\n",
    "    pp.pprint(OBJECT-TO-PRINT)\n"
   ]
  },
  {
   "cell_type": "code",
   "execution_count": 1,
   "metadata": {
    "collapsed": false
   },
   "outputs": [
    {
     "name": "stdout",
     "output_type": "stream",
     "text": [
      "NON PRETTY\n",
      "{'list': [1, 2, 3], 'Surname': 'Comu', 'name': 'Alex', 'address': {'street': 'Via Maria Vittoria', 'number': 1}} \n",
      "\n",
      "PRETTY:\n",
      "{ 'Surname': 'Comu',\n",
      "  'address': { 'number': 1, 'street': 'Via Maria Vittoria'},\n",
      "  'list': [1, 2, 3],\n",
      "  'name': 'Alex'}\n"
     ]
    }
   ],
   "source": [
    "import pprint\n",
    "#print help(pprint.PrettyPrinter)\n",
    "pp = pprint.PrettyPrinter(indent=2)\n",
    "names = {\"name\":\"Alex\", \"Surname\":\"Comu\", \"list\":[1,2,3],\"address\":{\"street\":\"Via Maria Vittoria\", \"number\":1}}\n",
    "print \"NON PRETTY\\n\", names, \"\\n\"\n",
    "print \"PRETTY:\"\n",
    "pp.pprint(names)"
   ]
  },
  {
   "cell_type": "markdown",
   "metadata": {},
   "source": [
    "# Demo with Special Effects\n",
    "\n",
    "Inside the folder **demo** you'll find a very cool demo, a super interaction between:\n",
    "\n",
    "* Twitter API\n",
    "* Python Web Server\n",
    "* D3Js visualization\n",
    "\n",
    "Read the file **Readme.md** to have more information about the example.\n",
    "\n",
    "The goal of the demo is to create a Connector between my PC and Twitter. After the creation of this connector I want ro retrieve all the tweets that contains a specific **hashtags**.\n",
    "\n",
    "At the end I'll represent the tweets in a dynamic data visualization with D3Js."
   ]
  },
  {
   "cell_type": "markdown",
   "metadata": {},
   "source": [
    "# Twitter Developer Account\n",
    "\n",
    "Sign in @ [https://dev.twitter.com/](https://dev.twitter.com/) website and create an account if you need.\n",
    "\n",
    "After the creation of the account we need to create a new Twitter APP to fetch the APIs, so go to [https://apps.twitter.com/](https://apps.twitter.com/) and create a new one.\n",
    "\n",
    "To allow our APP to use the Twitter APIs we need to create an Access Token, so click on **Keys and Access Tokens** and create a new one.\n",
    "\n",
    "And now we're ready to play with Twitter:)\n",
    "\n",
    "## Twitter Documentation\n",
    "\n",
    "[HERE](https://dev.twitter.com/overview/api) we can find a complete overview on Twitter API.\n",
    "\n",
    "# Tweepy Installation\n",
    "\n",
    "We need to install the package **tweepy**:\n",
    "\n",
    "    pip install tweepy\n",
    "    \n",
    "We can find the documentation of the Library:\n",
    "\n",
    "    http://tweepy.readthedocs.io/\n",
    "    \n",
    "## OAuth\n",
    "\n",
    "First of all we need to save our credentials in variables. After that we can login on twitter and start use the APIs.\n"
   ]
  },
  {
   "cell_type": "code",
   "execution_count": 3,
   "metadata": {
    "collapsed": true
   },
   "outputs": [],
   "source": [
    "import tweepy\n",
    "import pprint\n",
    "pp = pprint.PrettyPrinter(indent=2)\n",
    "\n",
    "CONSUMER_KEY = \"yJJLtWLC1mFsCGqhHAGoOHvfx\"\n",
    "SECRET_KEY = \"A8hqqyon6PhFX3KAIcHBN4VODdJXrp3FMLTeQvtHj2rQiStT7x\"\n",
    "ACCESS_TOKEN = \"727548304633004032-JJTPdv7pFCBOGgGFj9eaYC9Lj7LEhYa\"\n",
    "SECRET_ACCESS_TOKEN = \"LaG41nkJbkK0XifOFC6GLo3G7LTcFT7w3ZjH6qdTubCBV\""
   ]
  },
  {
   "cell_type": "code",
   "execution_count": 5,
   "metadata": {
    "collapsed": true
   },
   "outputs": [],
   "source": [
    "# Twitter Authentication\n",
    "auth = tweepy.OAuthHandler(CONSUMER_KEY, SECRET_KEY)\n",
    "auth.set_access_token(ACCESS_TOKEN, SECRET_ACCESS_TOKEN)"
   ]
  },
  {
   "cell_type": "code",
   "execution_count": 6,
   "metadata": {
    "collapsed": false
   },
   "outputs": [
    {
     "data": {
      "text/plain": [
       "<tweepy.auth.OAuthHandler at 0x7f45dec74690>"
      ]
     },
     "execution_count": 6,
     "metadata": {},
     "output_type": "execute_result"
    }
   ],
   "source": [
    "auth"
   ]
  },
  {
   "cell_type": "code",
   "execution_count": 7,
   "metadata": {
    "collapsed": false
   },
   "outputs": [
    {
     "name": "stdout",
     "output_type": "stream",
     "text": [
      "<tweepy.api.API object at 0x7f45deb48110>\n"
     ]
    }
   ],
   "source": [
    "# Create the connection to the api\n",
    "api = tweepy.API(auth)\n",
    "print api\n"
   ]
  },
  {
   "cell_type": "code",
   "execution_count": null,
   "metadata": {
    "collapsed": false
   },
   "outputs": [],
   "source": [
    "help(api)"
   ]
  },
  {
   "cell_type": "code",
   "execution_count": null,
   "metadata": {
    "collapsed": false,
    "scrolled": false
   },
   "outputs": [],
   "source": [
    "api.rate_limit_status() # quante chiamate posso fare per ogni api"
   ]
  },
  {
   "cell_type": "markdown",
   "metadata": {},
   "source": [
    "## Tweet Stream"
   ]
  },
  {
   "cell_type": "code",
   "execution_count": 10,
   "metadata": {
    "collapsed": false,
    "scrolled": true
   },
   "outputs": [],
   "source": [
    "# download your home timeline tweets\n",
    "my_tweets = api.home_timeline()"
   ]
  },
  {
   "cell_type": "code",
   "execution_count": 11,
   "metadata": {
    "collapsed": false
   },
   "outputs": [
    {
     "name": "stdout",
     "output_type": "stream",
     "text": [
      "Tweets LEN:  20 \n",
      "\n"
     ]
    }
   ],
   "source": [
    "print \"Tweets LEN: \", len(my_tweets), \"\\n\" # sempre 20"
   ]
  },
  {
   "cell_type": "code",
   "execution_count": 13,
   "metadata": {
    "collapsed": false
   },
   "outputs": [
    {
     "data": {
      "text/plain": [
       "{u'contributors': None,\n",
       " u'coordinates': None,\n",
       " u'created_at': u'Fri Nov 18 14:04:47 +0000 2016',\n",
       " u'entities': {u'hashtags': [],\n",
       "  u'media': [{u'display_url': u'pic.twitter.com/RMpwiZzuQi',\n",
       "    u'expanded_url': u'http://twitter.com/nypl/status/799614331570647040/photo/1',\n",
       "    u'id': 799614329125539840,\n",
       "    u'id_str': u'799614329125539840',\n",
       "    u'indices': [110, 133],\n",
       "    u'media_url': u'http://pbs.twimg.com/media/CxjM_uzXEAA2Mv7.jpg',\n",
       "    u'media_url_https': u'https://pbs.twimg.com/media/CxjM_uzXEAA2Mv7.jpg',\n",
       "    u'sizes': {u'large': {u'h': 489, u'resize': u'fit', u'w': 760},\n",
       "     u'medium': {u'h': 489, u'resize': u'fit', u'w': 760},\n",
       "     u'small': {u'h': 438, u'resize': u'fit', u'w': 680},\n",
       "     u'thumb': {u'h': 150, u'resize': u'crop', u'w': 150}},\n",
       "    u'type': u'photo',\n",
       "    u'url': u'https://t.co/RMpwiZzuQi'}],\n",
       "  u'symbols': [],\n",
       "  u'urls': [{u'display_url': u'on.nypl.org/2f5lhHx',\n",
       "    u'expanded_url': u'http://on.nypl.org/2f5lhHx',\n",
       "    u'indices': [86, 109],\n",
       "    u'url': u'https://t.co/6hMOiXVawe'}],\n",
       "  u'user_mentions': []},\n",
       " u'extended_entities': {u'media': [{u'display_url': u'pic.twitter.com/RMpwiZzuQi',\n",
       "    u'expanded_url': u'http://twitter.com/nypl/status/799614331570647040/photo/1',\n",
       "    u'id': 799614329125539840,\n",
       "    u'id_str': u'799614329125539840',\n",
       "    u'indices': [110, 133],\n",
       "    u'media_url': u'http://pbs.twimg.com/media/CxjM_uzXEAA2Mv7.jpg',\n",
       "    u'media_url_https': u'https://pbs.twimg.com/media/CxjM_uzXEAA2Mv7.jpg',\n",
       "    u'sizes': {u'large': {u'h': 489, u'resize': u'fit', u'w': 760},\n",
       "     u'medium': {u'h': 489, u'resize': u'fit', u'w': 760},\n",
       "     u'small': {u'h': 438, u'resize': u'fit', u'w': 680},\n",
       "     u'thumb': {u'h': 150, u'resize': u'crop', u'w': 150}},\n",
       "    u'type': u'photo',\n",
       "    u'url': u'https://t.co/RMpwiZzuQi'}]},\n",
       " u'favorite_count': 20,\n",
       " u'favorited': False,\n",
       " u'geo': None,\n",
       " u'id': 799614331570647040,\n",
       " u'id_str': u'799614331570647040',\n",
       " u'in_reply_to_screen_name': None,\n",
       " u'in_reply_to_status_id': None,\n",
       " u'in_reply_to_status_id_str': None,\n",
       " u'in_reply_to_user_id': None,\n",
       " u'in_reply_to_user_id_str': None,\n",
       " u'is_quote_status': False,\n",
       " u'lang': u'en',\n",
       " u'place': None,\n",
       " u'possibly_sensitive': False,\n",
       " u'possibly_sensitive_appealable': False,\n",
       " u'retweet_count': 10,\n",
       " u'retweeted': False,\n",
       " u'source': u'<a href=\"http://www.socialflow.com\" rel=\"nofollow\">SocialFlow</a>',\n",
       " u'text': u'Wondering what New York City looked like from the 1870s to the 1970s? Wonder no more: https://t.co/6hMOiXVawe https://t.co/RMpwiZzuQi',\n",
       " u'truncated': False,\n",
       " u'user': {u'contributors_enabled': False,\n",
       "  u'created_at': u'Fri Nov 21 20:22:19 +0000 2008',\n",
       "  u'default_profile': False,\n",
       "  u'default_profile_image': False,\n",
       "  u'description': u'Inspire lifelong learning, advance knowledge, strengthen communities. Got a question? Send us a tweet, text us at 66746, or call 917-ASK-NYPL.',\n",
       "  u'entities': {u'description': {u'urls': []},\n",
       "   u'url': {u'urls': [{u'display_url': u'nypl.org',\n",
       "      u'expanded_url': u'http://www.nypl.org',\n",
       "      u'indices': [0, 22],\n",
       "      u'url': u'http://t.co/OSZR1QKpLt'}]}},\n",
       "  u'favourites_count': 1131,\n",
       "  u'follow_request_sent': False,\n",
       "  u'followers_count': 1728535,\n",
       "  u'following': True,\n",
       "  u'friends_count': 112,\n",
       "  u'geo_enabled': True,\n",
       "  u'has_extended_profile': False,\n",
       "  u'id': 17544803,\n",
       "  u'id_str': u'17544803',\n",
       "  u'is_translation_enabled': False,\n",
       "  u'is_translator': False,\n",
       "  u'lang': u'en',\n",
       "  u'listed_count': 7879,\n",
       "  u'location': u'Bx, Manhattan, SI',\n",
       "  u'name': u'NY Public Library',\n",
       "  u'notifications': False,\n",
       "  u'profile_background_color': u'FFFFFF',\n",
       "  u'profile_background_image_url': u'http://pbs.twimg.com/profile_background_images/378800000072893605/8506699ea686127e8bf1aa206f908bcd.jpeg',\n",
       "  u'profile_background_image_url_https': u'https://pbs.twimg.com/profile_background_images/378800000072893605/8506699ea686127e8bf1aa206f908bcd.jpeg',\n",
       "  u'profile_background_tile': False,\n",
       "  u'profile_banner_url': u'https://pbs.twimg.com/profile_banners/17544803/1460144238',\n",
       "  u'profile_image_url': u'http://pbs.twimg.com/profile_images/378800000448533787/c32fb13e160ee7cd17848e8cacbbcfc5_normal.jpeg',\n",
       "  u'profile_image_url_https': u'https://pbs.twimg.com/profile_images/378800000448533787/c32fb13e160ee7cd17848e8cacbbcfc5_normal.jpeg',\n",
       "  u'profile_link_color': u'858E95',\n",
       "  u'profile_sidebar_border_color': u'FFFFFF',\n",
       "  u'profile_sidebar_fill_color': u'015E90',\n",
       "  u'profile_text_color': u'FFFFFF',\n",
       "  u'profile_use_background_image': True,\n",
       "  u'protected': False,\n",
       "  u'screen_name': u'nypl',\n",
       "  u'statuses_count': 24420,\n",
       "  u'time_zone': u'Eastern Time (US & Canada)',\n",
       "  u'translator_type': u'none',\n",
       "  u'url': u'http://t.co/OSZR1QKpLt',\n",
       "  u'utc_offset': -18000,\n",
       "  u'verified': False}}"
      ]
     },
     "execution_count": 13,
     "metadata": {},
     "output_type": "execute_result"
    }
   ],
   "source": [
    "my_tweets[0]._json"
   ]
  },
  {
   "cell_type": "code",
   "execution_count": 12,
   "metadata": {
    "collapsed": false
   },
   "outputs": [
    {
     "name": "stdout",
     "output_type": "stream",
     "text": [
      "TWEET DIR:  ['__class__', '__delattr__', '__dict__', '__doc__', '__eq__', '__format__', '__getattribute__', '__getstate__', '__hash__', '__init__', '__module__', '__ne__', '__new__', '__reduce__', '__reduce_ex__', '__repr__', '__setattr__', '__sizeof__', '__str__', '__subclasshook__', '__weakref__', '_api', '_json', 'author', 'contributors', 'coordinates', 'created_at', 'destroy', 'entities', 'extended_entities', 'favorite', 'favorite_count', 'favorited', 'geo', 'id', 'id_str', 'in_reply_to_screen_name', 'in_reply_to_status_id', 'in_reply_to_status_id_str', 'in_reply_to_user_id', 'in_reply_to_user_id_str', 'is_quote_status', 'lang', 'parse', 'parse_list', 'place', 'possibly_sensitive', 'possibly_sensitive_appealable', 'retweet', 'retweet_count', 'retweeted', 'retweets', 'source', 'source_url', 'text', 'truncated', 'user'] \n",
      "\n",
      "Help on Status in module tweepy.models object:\n",
      "\n",
      "class Status(Model)\n",
      " |  Method resolution order:\n",
      " |      Status\n",
      " |      Model\n",
      " |      __builtin__.object\n",
      " |  \n",
      " |  Methods defined here:\n",
      " |  \n",
      " |  __eq__(self, other)\n",
      " |  \n",
      " |  __ne__(self, other)\n",
      " |  \n",
      " |  destroy(self)\n",
      " |  \n",
      " |  favorite(self)\n",
      " |  \n",
      " |  retweet(self)\n",
      " |  \n",
      " |  retweets(self)\n",
      " |  \n",
      " |  ----------------------------------------------------------------------\n",
      " |  Class methods defined here:\n",
      " |  \n",
      " |  parse(cls, api, json) from __builtin__.type\n",
      " |  \n",
      " |  ----------------------------------------------------------------------\n",
      " |  Methods inherited from Model:\n",
      " |  \n",
      " |  __getstate__(self)\n",
      " |  \n",
      " |  __init__(self, api=None)\n",
      " |  \n",
      " |  __repr__(self)\n",
      " |  \n",
      " |  ----------------------------------------------------------------------\n",
      " |  Class methods inherited from Model:\n",
      " |  \n",
      " |  parse_list(cls, api, json_list) from __builtin__.type\n",
      " |      Parse a list of JSON objects into\n",
      " |      a result set of model instances.\n",
      " |  \n",
      " |  ----------------------------------------------------------------------\n",
      " |  Data descriptors inherited from Model:\n",
      " |  \n",
      " |  __dict__\n",
      " |      dictionary for instance variables (if defined)\n",
      " |  \n",
      " |  __weakref__\n",
      " |      list of weak references to the object (if defined)\n",
      "\n",
      "None\n"
     ]
    }
   ],
   "source": [
    "# Dir Command on Tweet\n",
    "print \"TWEET DIR: \", dir(my_tweets[0]), \"\\n\"\n",
    "print help(my_tweets[0])"
   ]
  },
  {
   "cell_type": "code",
   "execution_count": 17,
   "metadata": {
    "collapsed": false
   },
   "outputs": [
    {
     "name": "stdout",
     "output_type": "stream",
     "text": [
      "nypl\n"
     ]
    }
   ],
   "source": [
    "# USER of first Tweet\n",
    "# print my_tweets[0].user\n",
    "print my_tweets[0].user.screen_name"
   ]
  },
  {
   "cell_type": "code",
   "execution_count": null,
   "metadata": {
    "collapsed": false
   },
   "outputs": [],
   "source": [
    "# First 3 tweets\n",
    "for index, tw in enumerate(my_tweets):\n",
    "    if index < 3:\n",
    "        print tw.text, \"\\n\""
   ]
  },
  {
   "cell_type": "markdown",
   "metadata": {},
   "source": [
    "## My Followers"
   ]
  },
  {
   "cell_type": "code",
   "execution_count": 18,
   "metadata": {
    "collapsed": false
   },
   "outputs": [
    {
     "name": "stdout",
     "output_type": "stream",
     "text": [
      "My_Followers LEN:  2\n"
     ]
    }
   ],
   "source": [
    "## fetch follewer lists\n",
    "my_followers = api.followers()\n",
    "print \"My_Followers LEN: \", len(my_followers)"
   ]
  },
  {
   "cell_type": "code",
   "execution_count": 20,
   "metadata": {
    "collapsed": false
   },
   "outputs": [
    {
     "name": "stdout",
     "output_type": "stream",
     "text": [
      "My_Followers IDS:  [2576462520, 19590445]\n"
     ]
    }
   ],
   "source": [
    "my_followers_ids = api.followers_ids()\n",
    "print \"My_Followers IDS: \", my_followers_ids"
   ]
  },
  {
   "cell_type": "code",
   "execution_count": null,
   "metadata": {
    "collapsed": false
   },
   "outputs": [],
   "source": [
    "my_followers[0]"
   ]
  },
  {
   "cell_type": "code",
   "execution_count": null,
   "metadata": {
    "collapsed": false
   },
   "outputs": [],
   "source": [
    "print dir(my_followers[0])"
   ]
  },
  {
   "cell_type": "code",
   "execution_count": null,
   "metadata": {
    "collapsed": false
   },
   "outputs": [],
   "source": [
    "print help(my_followers[0])"
   ]
  },
  {
   "cell_type": "code",
   "execution_count": null,
   "metadata": {
    "collapsed": false
   },
   "outputs": [],
   "source": [
    "pp.pprint(my_followers[0]._json)"
   ]
  },
  {
   "cell_type": "markdown",
   "metadata": {},
   "source": [
    "# Get External User"
   ]
  },
  {
   "cell_type": "code",
   "execution_count": null,
   "metadata": {
    "collapsed": false
   },
   "outputs": [],
   "source": [
    "intesa = api.get_user(\"intesasanpaolo\") # cerca un utente\n",
    "intesa"
   ]
  },
  {
   "cell_type": "code",
   "execution_count": 171,
   "metadata": {
    "collapsed": false
   },
   "outputs": [
    {
     "name": "stdout",
     "output_type": "stream",
     "text": [
      "Help on User in module tweepy.models object:\n",
      "\n",
      "class User(Model)\n",
      " |  Method resolution order:\n",
      " |      User\n",
      " |      Model\n",
      " |      __builtin__.object\n",
      " |  \n",
      " |  Methods defined here:\n",
      " |  \n",
      " |  follow(self)\n",
      " |  \n",
      " |  followers(self, **kargs)\n",
      " |  \n",
      " |  followers_ids(self, *args, **kargs)\n",
      " |  \n",
      " |  friends(self, **kargs)\n",
      " |  \n",
      " |  lists(self, *args, **kargs)\n",
      " |  \n",
      " |  lists_memberships(self, *args, **kargs)\n",
      " |  \n",
      " |  lists_subscriptions(self, *args, **kargs)\n",
      " |  \n",
      " |  timeline(self, **kargs)\n",
      " |  \n",
      " |  unfollow(self)\n",
      " |  \n",
      " |  ----------------------------------------------------------------------\n",
      " |  Class methods defined here:\n",
      " |  \n",
      " |  parse(cls, api, json) from __builtin__.type\n",
      " |  \n",
      " |  parse_list(cls, api, json_list) from __builtin__.type\n",
      " |  \n",
      " |  ----------------------------------------------------------------------\n",
      " |  Methods inherited from Model:\n",
      " |  \n",
      " |  __getstate__(self)\n",
      " |  \n",
      " |  __init__(self, api=None)\n",
      " |  \n",
      " |  __repr__(self)\n",
      " |  \n",
      " |  ----------------------------------------------------------------------\n",
      " |  Data descriptors inherited from Model:\n",
      " |  \n",
      " |  __dict__\n",
      " |      dictionary for instance variables (if defined)\n",
      " |  \n",
      " |  __weakref__\n",
      " |      list of weak references to the object (if defined)\n",
      "\n"
     ]
    }
   ],
   "source": [
    "help(intesa)"
   ]
  },
  {
   "cell_type": "code",
   "execution_count": 23,
   "metadata": {
    "collapsed": false
   },
   "outputs": [
    {
     "name": "stdout",
     "output_type": "stream",
     "text": [
      "4240\n"
     ]
    }
   ],
   "source": [
    "print intesa.followers_count"
   ]
  },
  {
   "cell_type": "code",
   "execution_count": 24,
   "metadata": {
    "collapsed": false
   },
   "outputs": [
    {
     "name": "stdout",
     "output_type": "stream",
     "text": [
      "179\n"
     ]
    }
   ],
   "source": [
    "friends = api.friends_ids('intesasanpaolo')\n",
    "print len(friends)"
   ]
  },
  {
   "cell_type": "code",
   "execution_count": 25,
   "metadata": {
    "collapsed": false
   },
   "outputs": [
    {
     "data": {
      "text/plain": [
       "179"
      ]
     },
     "execution_count": 25,
     "metadata": {},
     "output_type": "execute_result"
    }
   ],
   "source": [
    "intesa.friends_count"
   ]
  },
  {
   "cell_type": "code",
   "execution_count": 27,
   "metadata": {
    "collapsed": false
   },
   "outputs": [
    {
     "name": "stdout",
     "output_type": "stream",
     "text": [
      "20\n"
     ]
    }
   ],
   "source": [
    "likes = api.favorites('intesasanpaolo')\n",
    "print len(likes)"
   ]
  },
  {
   "cell_type": "code",
   "execution_count": 26,
   "metadata": {
    "collapsed": false
   },
   "outputs": [
    {
     "data": {
      "text/plain": [
       "Status(contributors=None, truncated=False, text=u'Nasce oggi PowerU Digital!  Grazie a @intesasanpaolo e @DeloitteItalia per credere con noi nel progetto @HumanAgeInsIT @ManpowerGroupIT', is_quote_status=False, in_reply_to_status_id=None, id=798107981736906753, favorite_count=4, _api=<tweepy.api.API object at 0x102cdf190>, author=User(follow_request_sent=False, has_extended_profile=False, profile_use_background_image=False, _json={u'follow_request_sent': False, u'has_extended_profile': False, u'profile_use_background_image': False, u'default_profile_image': False, u'id': 1166565846, u'profile_background_image_url_https': u'https://abs.twimg.com/images/themes/theme1/bg.png', u'verified': False, u'translator_type': u'none', u'profile_text_color': u'333333', u'profile_image_url_https': u'https://pbs.twimg.com/profile_images/761270969730301952/X8-H-Adj_normal.jpg', u'profile_sidebar_fill_color': u'DDEEF6', u'entities': {u'url': {u'urls': [{u'url': u'https://t.co/HIf5VJBnyO', u'indices': [0, 23], u'expanded_url': u'http://it.linkedin.com/in/caputodaniela/', u'display_url': u'it.linkedin.com/in/caputodanie\\u2026'}]}, u'description': {u'urls': []}}, u'followers_count': 890, u'profile_sidebar_border_color': u'FFFFFF', u'id_str': u'1166565846', u'profile_background_color': u'E6C909', u'listed_count': 61, u'is_translation_enabled': False, u'utc_offset': 3600, u'statuses_count': 2542, u'description': u'Communication and #Digital Strategy Manager at @ManpowerGroupIT #RecruitmentMarketing #PersonalBranding Strategist - Make a difference, start the Change!', u'friends_count': 1330, u'location': u'', u'profile_link_color': u'AB0516', u'profile_image_url': u'http://pbs.twimg.com/profile_images/761270969730301952/X8-H-Adj_normal.jpg', u'following': False, u'geo_enabled': False, u'profile_banner_url': u'https://pbs.twimg.com/profile_banners/1166565846/1368128929', u'profile_background_image_url': u'http://abs.twimg.com/images/themes/theme1/bg.png', u'screen_name': u'DanielaCaputo72', u'lang': u'it', u'profile_background_tile': False, u'favourites_count': 757, u'name': u'Daniela Caputo', u'notifications': False, u'url': u'https://t.co/HIf5VJBnyO', u'created_at': u'Sun Feb 10 18:01:51 +0000 2013', u'contributors_enabled': False, u'time_zone': u'Amsterdam', u'protected': False, u'default_profile': False, u'is_translator': False}, time_zone=u'Amsterdam', id=1166565846, description=u'Communication and #Digital Strategy Manager at @ManpowerGroupIT #RecruitmentMarketing #PersonalBranding Strategist - Make a difference, start the Change!', _api=<tweepy.api.API object at 0x102cdf190>, verified=False, profile_text_color=u'333333', profile_image_url_https=u'https://pbs.twimg.com/profile_images/761270969730301952/X8-H-Adj_normal.jpg', profile_sidebar_fill_color=u'DDEEF6', is_translator=False, geo_enabled=False, entities={u'url': {u'urls': [{u'url': u'https://t.co/HIf5VJBnyO', u'indices': [0, 23], u'expanded_url': u'http://it.linkedin.com/in/caputodaniela/', u'display_url': u'it.linkedin.com/in/caputodanie\\u2026'}]}, u'description': {u'urls': []}}, followers_count=890, protected=False, id_str=u'1166565846', default_profile_image=False, listed_count=61, lang=u'it', utc_offset=3600, statuses_count=2542, profile_background_color=u'E6C909', friends_count=1330, profile_link_color=u'AB0516', profile_image_url=u'http://pbs.twimg.com/profile_images/761270969730301952/X8-H-Adj_normal.jpg', notifications=False, default_profile=False, profile_background_image_url_https=u'https://abs.twimg.com/images/themes/theme1/bg.png', profile_banner_url=u'https://pbs.twimg.com/profile_banners/1166565846/1368128929', profile_background_image_url=u'http://abs.twimg.com/images/themes/theme1/bg.png', name=u'Daniela Caputo', is_translation_enabled=False, profile_background_tile=False, favourites_count=757, screen_name=u'DanielaCaputo72', url=u'https://t.co/HIf5VJBnyO', created_at=datetime.datetime(2013, 2, 10, 18, 1, 51), contributors_enabled=False, location=u'', profile_sidebar_border_color=u'FFFFFF', translator_type=u'none', following=False), _json={u'contributors': None, u'truncated': False, u'text': u'Nasce oggi PowerU Digital!  Grazie a @intesasanpaolo e @DeloitteItalia per credere con noi nel progetto @HumanAgeInsIT @ManpowerGroupIT', u'is_quote_status': False, u'in_reply_to_status_id': None, u'id': 798107981736906753, u'favorite_count': 4, u'source': u'<a href=\"http://twitter.com/download/android\" rel=\"nofollow\">Twitter for Android</a>', u'retweeted': False, u'coordinates': None, u'entities': {u'symbols': [], u'user_mentions': [{u'id': 393894382, u'indices': [37, 52], u'id_str': u'393894382', u'screen_name': u'intesasanpaolo', u'name': u'Intesa Sanpaolo'}, {u'id': 2370187478, u'indices': [55, 70], u'id_str': u'2370187478', u'screen_name': u'DeloitteItalia', u'name': u'Deloitte Italia'}, {u'id': 2810032827, u'indices': [104, 118], u'id_str': u'2810032827', u'screen_name': u'HumanAgeInsIT', u'name': u'HumanAge Institute'}, {u'id': 1288266800, u'indices': [119, 135], u'id_str': u'1288266800', u'screen_name': u'ManpowerGroupIT', u'name': u'ManpowerGroup Italia'}], u'hashtags': [], u'urls': []}, u'in_reply_to_screen_name': None, u'in_reply_to_user_id': None, u'retweet_count': 4, u'id_str': u'798107981736906753', u'favorited': False, u'user': {u'follow_request_sent': False, u'has_extended_profile': False, u'profile_use_background_image': False, u'default_profile_image': False, u'id': 1166565846, u'profile_background_image_url_https': u'https://abs.twimg.com/images/themes/theme1/bg.png', u'verified': False, u'translator_type': u'none', u'profile_text_color': u'333333', u'profile_image_url_https': u'https://pbs.twimg.com/profile_images/761270969730301952/X8-H-Adj_normal.jpg', u'profile_sidebar_fill_color': u'DDEEF6', u'entities': {u'url': {u'urls': [{u'url': u'https://t.co/HIf5VJBnyO', u'indices': [0, 23], u'expanded_url': u'http://it.linkedin.com/in/caputodaniela/', u'display_url': u'it.linkedin.com/in/caputodanie\\u2026'}]}, u'description': {u'urls': []}}, u'followers_count': 890, u'profile_sidebar_border_color': u'FFFFFF', u'id_str': u'1166565846', u'profile_background_color': u'E6C909', u'listed_count': 61, u'is_translation_enabled': False, u'utc_offset': 3600, u'statuses_count': 2542, u'description': u'Communication and #Digital Strategy Manager at @ManpowerGroupIT #RecruitmentMarketing #PersonalBranding Strategist - Make a difference, start the Change!', u'friends_count': 1330, u'location': u'', u'profile_link_color': u'AB0516', u'profile_image_url': u'http://pbs.twimg.com/profile_images/761270969730301952/X8-H-Adj_normal.jpg', u'following': False, u'geo_enabled': False, u'profile_banner_url': u'https://pbs.twimg.com/profile_banners/1166565846/1368128929', u'profile_background_image_url': u'http://abs.twimg.com/images/themes/theme1/bg.png', u'screen_name': u'DanielaCaputo72', u'lang': u'it', u'profile_background_tile': False, u'favourites_count': 757, u'name': u'Daniela Caputo', u'notifications': False, u'url': u'https://t.co/HIf5VJBnyO', u'created_at': u'Sun Feb 10 18:01:51 +0000 2013', u'contributors_enabled': False, u'time_zone': u'Amsterdam', u'protected': False, u'default_profile': False, u'is_translator': False}, u'geo': None, u'in_reply_to_user_id_str': None, u'lang': u'it', u'created_at': u'Mon Nov 14 10:19:05 +0000 2016', u'in_reply_to_status_id_str': None, u'place': None}, coordinates=None, entities={u'symbols': [], u'user_mentions': [{u'id': 393894382, u'indices': [37, 52], u'id_str': u'393894382', u'screen_name': u'intesasanpaolo', u'name': u'Intesa Sanpaolo'}, {u'id': 2370187478, u'indices': [55, 70], u'id_str': u'2370187478', u'screen_name': u'DeloitteItalia', u'name': u'Deloitte Italia'}, {u'id': 2810032827, u'indices': [104, 118], u'id_str': u'2810032827', u'screen_name': u'HumanAgeInsIT', u'name': u'HumanAge Institute'}, {u'id': 1288266800, u'indices': [119, 135], u'id_str': u'1288266800', u'screen_name': u'ManpowerGroupIT', u'name': u'ManpowerGroup Italia'}], u'hashtags': [], u'urls': []}, in_reply_to_screen_name=None, id_str=u'798107981736906753', retweet_count=4, in_reply_to_user_id=None, favorited=False, source_url=u'http://twitter.com/download/android', user=User(follow_request_sent=False, has_extended_profile=False, profile_use_background_image=False, _json={u'follow_request_sent': False, u'has_extended_profile': False, u'profile_use_background_image': False, u'default_profile_image': False, u'id': 1166565846, u'profile_background_image_url_https': u'https://abs.twimg.com/images/themes/theme1/bg.png', u'verified': False, u'translator_type': u'none', u'profile_text_color': u'333333', u'profile_image_url_https': u'https://pbs.twimg.com/profile_images/761270969730301952/X8-H-Adj_normal.jpg', u'profile_sidebar_fill_color': u'DDEEF6', u'entities': {u'url': {u'urls': [{u'url': u'https://t.co/HIf5VJBnyO', u'indices': [0, 23], u'expanded_url': u'http://it.linkedin.com/in/caputodaniela/', u'display_url': u'it.linkedin.com/in/caputodanie\\u2026'}]}, u'description': {u'urls': []}}, u'followers_count': 890, u'profile_sidebar_border_color': u'FFFFFF', u'id_str': u'1166565846', u'profile_background_color': u'E6C909', u'listed_count': 61, u'is_translation_enabled': False, u'utc_offset': 3600, u'statuses_count': 2542, u'description': u'Communication and #Digital Strategy Manager at @ManpowerGroupIT #RecruitmentMarketing #PersonalBranding Strategist - Make a difference, start the Change!', u'friends_count': 1330, u'location': u'', u'profile_link_color': u'AB0516', u'profile_image_url': u'http://pbs.twimg.com/profile_images/761270969730301952/X8-H-Adj_normal.jpg', u'following': False, u'geo_enabled': False, u'profile_banner_url': u'https://pbs.twimg.com/profile_banners/1166565846/1368128929', u'profile_background_image_url': u'http://abs.twimg.com/images/themes/theme1/bg.png', u'screen_name': u'DanielaCaputo72', u'lang': u'it', u'profile_background_tile': False, u'favourites_count': 757, u'name': u'Daniela Caputo', u'notifications': False, u'url': u'https://t.co/HIf5VJBnyO', u'created_at': u'Sun Feb 10 18:01:51 +0000 2013', u'contributors_enabled': False, u'time_zone': u'Amsterdam', u'protected': False, u'default_profile': False, u'is_translator': False}, time_zone=u'Amsterdam', id=1166565846, description=u'Communication and #Digital Strategy Manager at @ManpowerGroupIT #RecruitmentMarketing #PersonalBranding Strategist - Make a difference, start the Change!', _api=<tweepy.api.API object at 0x102cdf190>, verified=False, profile_text_color=u'333333', profile_image_url_https=u'https://pbs.twimg.com/profile_images/761270969730301952/X8-H-Adj_normal.jpg', profile_sidebar_fill_color=u'DDEEF6', is_translator=False, geo_enabled=False, entities={u'url': {u'urls': [{u'url': u'https://t.co/HIf5VJBnyO', u'indices': [0, 23], u'expanded_url': u'http://it.linkedin.com/in/caputodaniela/', u'display_url': u'it.linkedin.com/in/caputodanie\\u2026'}]}, u'description': {u'urls': []}}, followers_count=890, protected=False, id_str=u'1166565846', default_profile_image=False, listed_count=61, lang=u'it', utc_offset=3600, statuses_count=2542, profile_background_color=u'E6C909', friends_count=1330, profile_link_color=u'AB0516', profile_image_url=u'http://pbs.twimg.com/profile_images/761270969730301952/X8-H-Adj_normal.jpg', notifications=False, default_profile=False, profile_background_image_url_https=u'https://abs.twimg.com/images/themes/theme1/bg.png', profile_banner_url=u'https://pbs.twimg.com/profile_banners/1166565846/1368128929', profile_background_image_url=u'http://abs.twimg.com/images/themes/theme1/bg.png', name=u'Daniela Caputo', is_translation_enabled=False, profile_background_tile=False, favourites_count=757, screen_name=u'DanielaCaputo72', url=u'https://t.co/HIf5VJBnyO', created_at=datetime.datetime(2013, 2, 10, 18, 1, 51), contributors_enabled=False, location=u'', profile_sidebar_border_color=u'FFFFFF', translator_type=u'none', following=False), geo=None, in_reply_to_user_id_str=None, lang=u'it', created_at=datetime.datetime(2016, 11, 14, 10, 19, 5), in_reply_to_status_id_str=None, place=None, source=u'Twitter for Android', retweeted=False)"
      ]
     },
     "execution_count": 26,
     "metadata": {},
     "output_type": "execute_result"
    }
   ],
   "source": [
    "likes[0]"
   ]
  },
  {
   "cell_type": "code",
   "execution_count": null,
   "metadata": {
    "collapsed": false
   },
   "outputs": [],
   "source": [
    "intesa_followers_count =  intesa.followers_ids()\n",
    "print len(intesa_followers_count)"
   ]
  },
  {
   "cell_type": "code",
   "execution_count": null,
   "metadata": {
    "collapsed": false
   },
   "outputs": [],
   "source": [
    "print intesa_followers_count[0]"
   ]
  },
  {
   "cell_type": "code",
   "execution_count": null,
   "metadata": {
    "collapsed": false
   },
   "outputs": [],
   "source": [
    "api.get_user(intesa_followers_count[0])"
   ]
  },
  {
   "cell_type": "markdown",
   "metadata": {},
   "source": [
    "# Cursor"
   ]
  },
  {
   "cell_type": "code",
   "execution_count": null,
   "metadata": {
    "collapsed": false
   },
   "outputs": [],
   "source": [
    "print len(intesa_followers_count)"
   ]
  },
  {
   "cell_type": "code",
   "execution_count": 33,
   "metadata": {
    "collapsed": false
   },
   "outputs": [
    {
     "name": "stdout",
     "output_type": "stream",
     "text": [
      "20\n"
     ]
    }
   ],
   "source": [
    "intesa_followers = intesa.followers()\n",
    "print len(intesa_followers)"
   ]
  },
  {
   "cell_type": "code",
   "execution_count": null,
   "metadata": {
    "collapsed": false
   },
   "outputs": [],
   "source": [
    "help(tweepy.Cursor)"
   ]
  },
  {
   "cell_type": "code",
   "execution_count": 34,
   "metadata": {
    "collapsed": false
   },
   "outputs": [],
   "source": [
    "intesa_cursor = tweepy.Cursor(api.followers, screen_name='intesasanpaolo')"
   ]
  },
  {
   "cell_type": "code",
   "execution_count": null,
   "metadata": {
    "collapsed": false
   },
   "outputs": [],
   "source": [
    "print dir(intesa_cursor)"
   ]
  },
  {
   "cell_type": "code",
   "execution_count": null,
   "metadata": {
    "collapsed": false
   },
   "outputs": [],
   "source": [
    "print intesa_cursor.items() # generatore, restituisce un solo elem per chiamata, con .next() scorre i risultati"
   ]
  },
  {
   "cell_type": "code",
   "execution_count": null,
   "metadata": {
    "collapsed": false,
    "scrolled": false
   },
   "outputs": [],
   "source": [
    "for follower in intesa_cursor.items():\n",
    "    print follower"
   ]
  },
  {
   "cell_type": "code",
   "execution_count": 35,
   "metadata": {
    "collapsed": false
   },
   "outputs": [
    {
     "data": {
      "text/plain": [
       "[User(follow_request_sent=False, has_extended_profile=False, profile_use_background_image=True, profile_sidebar_fill_color=u'DDEEF6', live_following=False, time_zone=None, id=799610634899980291, description=u'', _api=<tweepy.api.API object at 0x7f45deb48110>, verified=False, blocked_by=False, profile_text_color=u'333333', muting=False, profile_image_url_https=u'https://abs.twimg.com/sticky/default_profile_images/default_profile_3_normal.png', _json={u'follow_request_sent': False, u'has_extended_profile': False, u'profile_use_background_image': True, u'live_following': False, u'default_profile_image': True, u'id': 799610634899980291, u'profile_background_image_url_https': None, u'translator_type': u'none', u'verified': False, u'blocked_by': False, u'profile_text_color': u'333333', u'muting': False, u'profile_image_url_https': u'https://abs.twimg.com/sticky/default_profile_images/default_profile_3_normal.png', u'profile_sidebar_fill_color': u'DDEEF6', u'entities': {u'description': {u'urls': []}}, u'followers_count': 0, u'profile_sidebar_border_color': u'C0DEED', u'id_str': u'799610634899980291', u'profile_background_color': u'F5F8FA', u'listed_count': 0, u'is_translation_enabled': False, u'utc_offset': None, u'statuses_count': 0, u'description': u'', u'friends_count': 0, u'location': u'', u'profile_link_color': u'1DA1F2', u'profile_image_url': u'http://abs.twimg.com/sticky/default_profile_images/default_profile_3_normal.png', u'following': False, u'geo_enabled': False, u'blocking': False, u'profile_background_image_url': None, u'screen_name': u'Davide_Ritaccio', u'lang': u'en', u'profile_background_tile': False, u'favourites_count': 0, u'name': u'Davide Ritaccio', u'notifications': False, u'url': None, u'created_at': u'Fri Nov 18 13:50:06 +0000 2016', u'contributors_enabled': False, u'time_zone': None, u'protected': False, u'default_profile': True, u'is_translator': False}, is_translator=False, geo_enabled=False, entities={u'description': {u'urls': []}}, followers_count=0, protected=False, id_str=u'799610634899980291', default_profile_image=True, listed_count=0, lang=u'en', utc_offset=None, statuses_count=0, profile_background_color=u'F5F8FA', friends_count=0, profile_link_color=u'1DA1F2', profile_image_url=u'http://abs.twimg.com/sticky/default_profile_images/default_profile_3_normal.png', notifications=False, default_profile=True, profile_background_image_url_https=None, blocking=False, profile_background_image_url=None, name=u'Davide Ritaccio', is_translation_enabled=False, profile_background_tile=False, favourites_count=0, screen_name=u'Davide_Ritaccio', url=None, created_at=datetime.datetime(2016, 11, 18, 13, 50, 6), contributors_enabled=False, location=u'', profile_sidebar_border_color=u'C0DEED', translator_type=u'none', following=False),\n",
       " User(follow_request_sent=False, has_extended_profile=False, profile_use_background_image=True, profile_sidebar_fill_color=u'DDEEF6', live_following=False, time_zone=None, id=3131644312, description=u'', _api=<tweepy.api.API object at 0x7f45deb48110>, verified=False, blocked_by=False, profile_text_color=u'333333', muting=False, profile_image_url_https=u'https://pbs.twimg.com/profile_images/620955918809698304/Q1jHvphi_normal.png', _json={u'follow_request_sent': False, u'has_extended_profile': False, u'profile_use_background_image': True, u'live_following': False, u'default_profile_image': False, u'id': 3131644312, u'profile_background_image_url_https': u'https://abs.twimg.com/images/themes/theme1/bg.png', u'translator_type': u'none', u'verified': False, u'blocked_by': False, u'profile_text_color': u'333333', u'muting': False, u'profile_image_url_https': u'https://pbs.twimg.com/profile_images/620955918809698304/Q1jHvphi_normal.png', u'profile_sidebar_fill_color': u'DDEEF6', u'entities': {u'description': {u'urls': []}}, u'followers_count': 17, u'profile_sidebar_border_color': u'C0DEED', u'id_str': u'3131644312', u'profile_background_color': u'C0DEED', u'listed_count': 1, u'status': {u'contributors': None, u'truncated': False, u'text': u'Sempre presenti #dietrolequinte dei grandi #eventi #tecnoconferenceeurope https://t.co/9g55kjGYM8', u'is_quote_status': True, u'in_reply_to_status_id': None, u'id': 798183519830745088, u'favorite_count': 1, u'source': u'<a href=\"http://twitter.com\" rel=\"nofollow\">Twitter Web Client</a>', u'quoted_status_id': 793773898261209088, u'retweeted': False, u'coordinates': None, u'entities': {u'symbols': [], u'user_mentions': [], u'hashtags': [{u'indices': [16, 31], u'text': u'dietrolequinte'}, {u'indices': [43, 50], u'text': u'eventi'}, {u'indices': [51, 73], u'text': u'tecnoconferenceeurope'}], u'urls': [{u'url': u'https://t.co/9g55kjGYM8', u'indices': [74, 97], u'expanded_url': u'https://twitter.com/qualitytravelit/status/793773898261209088', u'display_url': u'twitter.com/qualitytraveli\\u2026'}]}, u'in_reply_to_screen_name': None, u'in_reply_to_user_id': None, u'retweet_count': 1, u'id_str': u'798183519830745088', u'favorited': False, u'geo': None, u'in_reply_to_user_id_str': None, u'possibly_sensitive': False, u'lang': u'it', u'created_at': u'Mon Nov 14 15:19:15 +0000 2016', u'quoted_status_id_str': u'793773898261209088', u'in_reply_to_status_id_str': None, u'place': None}, u'is_translation_enabled': False, u'utc_offset': None, u'statuses_count': 84, u'description': u'', u'friends_count': 18, u'location': u'', u'profile_link_color': u'1DA1F2', u'profile_image_url': u'http://pbs.twimg.com/profile_images/620955918809698304/Q1jHvphi_normal.png', u'following': False, u'geo_enabled': False, u'profile_banner_url': u'https://pbs.twimg.com/profile_banners/3131644312/1436882446', u'blocking': False, u'profile_background_image_url': u'http://abs.twimg.com/images/themes/theme1/bg.png', u'screen_name': u'TecnoconfEU', u'lang': u'it', u'profile_background_tile': False, u'favourites_count': 6, u'name': u'Tecnoconference EU', u'notifications': False, u'url': None, u'created_at': u'Fri Apr 03 14:20:02 +0000 2015', u'contributors_enabled': False, u'time_zone': None, u'protected': False, u'default_profile': True, u'is_translator': False}, is_translator=False, geo_enabled=False, entities={u'description': {u'urls': []}}, followers_count=17, protected=False, id_str=u'3131644312', default_profile_image=False, listed_count=1, status=Status(contributors=None, truncated=False, text=u'Sempre presenti #dietrolequinte dei grandi #eventi #tecnoconferenceeurope https://t.co/9g55kjGYM8', is_quote_status=True, in_reply_to_status_id=None, id=798183519830745088, favorite_count=1, _api=<tweepy.api.API object at 0x7f45deb48110>, source=u'Twitter Web Client', quoted_status_id=793773898261209088, _json={u'contributors': None, u'truncated': False, u'text': u'Sempre presenti #dietrolequinte dei grandi #eventi #tecnoconferenceeurope https://t.co/9g55kjGYM8', u'is_quote_status': True, u'in_reply_to_status_id': None, u'id': 798183519830745088, u'favorite_count': 1, u'source': u'<a href=\"http://twitter.com\" rel=\"nofollow\">Twitter Web Client</a>', u'quoted_status_id': 793773898261209088, u'retweeted': False, u'coordinates': None, u'entities': {u'symbols': [], u'user_mentions': [], u'hashtags': [{u'indices': [16, 31], u'text': u'dietrolequinte'}, {u'indices': [43, 50], u'text': u'eventi'}, {u'indices': [51, 73], u'text': u'tecnoconferenceeurope'}], u'urls': [{u'url': u'https://t.co/9g55kjGYM8', u'indices': [74, 97], u'expanded_url': u'https://twitter.com/qualitytravelit/status/793773898261209088', u'display_url': u'twitter.com/qualitytraveli\\u2026'}]}, u'in_reply_to_screen_name': None, u'in_reply_to_user_id': None, u'retweet_count': 1, u'id_str': u'798183519830745088', u'favorited': False, u'geo': None, u'in_reply_to_user_id_str': None, u'possibly_sensitive': False, u'lang': u'it', u'created_at': u'Mon Nov 14 15:19:15 +0000 2016', u'quoted_status_id_str': u'793773898261209088', u'in_reply_to_status_id_str': None, u'place': None}, coordinates=None, entities={u'symbols': [], u'user_mentions': [], u'hashtags': [{u'indices': [16, 31], u'text': u'dietrolequinte'}, {u'indices': [43, 50], u'text': u'eventi'}, {u'indices': [51, 73], u'text': u'tecnoconferenceeurope'}], u'urls': [{u'url': u'https://t.co/9g55kjGYM8', u'indices': [74, 97], u'expanded_url': u'https://twitter.com/qualitytravelit/status/793773898261209088', u'display_url': u'twitter.com/qualitytraveli\\u2026'}]}, in_reply_to_screen_name=None, id_str=u'798183519830745088', retweet_count=1, in_reply_to_user_id=None, favorited=False, source_url=u'http://twitter.com', geo=None, in_reply_to_user_id_str=None, possibly_sensitive=False, lang=u'it', created_at=datetime.datetime(2016, 11, 14, 15, 19, 15), quoted_status_id_str=u'793773898261209088', in_reply_to_status_id_str=None, place=None, retweeted=False), lang=u'it', utc_offset=None, statuses_count=84, profile_background_color=u'C0DEED', friends_count=18, profile_link_color=u'1DA1F2', profile_image_url=u'http://pbs.twimg.com/profile_images/620955918809698304/Q1jHvphi_normal.png', notifications=False, default_profile=True, profile_background_image_url_https=u'https://abs.twimg.com/images/themes/theme1/bg.png', profile_banner_url=u'https://pbs.twimg.com/profile_banners/3131644312/1436882446', blocking=False, profile_background_image_url=u'http://abs.twimg.com/images/themes/theme1/bg.png', name=u'Tecnoconference EU', is_translation_enabled=False, profile_background_tile=False, favourites_count=6, screen_name=u'TecnoconfEU', url=None, created_at=datetime.datetime(2015, 4, 3, 14, 20, 2), contributors_enabled=False, location=u'', profile_sidebar_border_color=u'C0DEED', translator_type=u'none', following=False),\n",
       " User(follow_request_sent=False, has_extended_profile=False, profile_use_background_image=False, profile_sidebar_fill_color=u'000000', live_following=False, time_zone=u'Abu Dhabi', id=20493008, description=u'Head of Multichannel & CRM @emiratesnbd #digital #digitalbanking  #innovation #fintech Digital enthusiast, innovator and intrapreneur', _api=<tweepy.api.API object at 0x7f45deb48110>, verified=False, blocked_by=False, profile_text_color=u'000000', muting=False, profile_image_url_https=u'https://pbs.twimg.com/profile_images/775626677128929284/-UuSbAhA_normal.jpg', _json={u'follow_request_sent': False, u'has_extended_profile': False, u'profile_use_background_image': False, u'live_following': False, u'default_profile_image': False, u'id': 20493008, u'profile_background_image_url_https': u'https://abs.twimg.com/images/themes/theme1/bg.png', u'translator_type': u'none', u'verified': False, u'blocked_by': False, u'profile_text_color': u'000000', u'muting': False, u'profile_image_url_https': u'https://pbs.twimg.com/profile_images/775626677128929284/-UuSbAhA_normal.jpg', u'profile_sidebar_fill_color': u'000000', u'entities': {u'description': {u'urls': []}}, u'followers_count': 262, u'profile_sidebar_border_color': u'000000', u'id_str': u'20493008', u'profile_background_color': u'000000', u'listed_count': 61, u'status': {u'contributors': None, u'truncated': False, u'text': u'RT @UAE_innovates: Be part of the biggest national innovation celebration in UAE! #UAE_Innovates\\nVisit us on:\\nhttps://t.co/hmhcOOVG8W https\\u2026', u'is_quote_status': False, u'in_reply_to_status_id': None, u'id': 799603876148039680, u'favorite_count': 0, u'source': u'<a href=\"http://twitter.com/download/iphone\" rel=\"nofollow\">Twitter for iPhone</a>', u'retweeted': False, u'coordinates': None, u'entities': {u'symbols': [], u'user_mentions': [{u'id': 557450699, u'indices': [3, 17], u'id_str': u'557450699', u'screen_name': u'UAE_innovates', u'name': u'UAE Innovates'}], u'hashtags': [{u'indices': [82, 96], u'text': u'UAE_Innovates'}], u'urls': [{u'url': u'https://t.co/hmhcOOVG8W', u'indices': [110, 133], u'expanded_url': u'http://www.uaeinnovates.ae', u'display_url': u'uaeinnovates.ae'}]}, u'in_reply_to_screen_name': None, u'in_reply_to_user_id': None, u'retweet_count': 10, u'id_str': u'799603876148039680', u'favorited': False, u'retweeted_status': {u'contributors': None, u'truncated': False, u'text': u'Be part of the biggest national innovation celebration in UAE! #UAE_Innovates\\nVisit us on:\\nhttps://t.co/hmhcOOVG8W https://t.co/fncrcqVEeQ', u'is_quote_status': False, u'in_reply_to_status_id': None, u'id': 799592483638407168, u'favorite_count': 24, u'source': u'<a href=\"https://ads.twitter.com\" rel=\"nofollow\">Twitter Ads</a>', u'retweeted': False, u'coordinates': None, u'entities': {u'symbols': [], u'user_mentions': [], u'hashtags': [{u'indices': [63, 77], u'text': u'UAE_Innovates'}], u'urls': [{u'url': u'https://t.co/hmhcOOVG8W', u'indices': [91, 114], u'expanded_url': u'http://www.uaeinnovates.ae', u'display_url': u'uaeinnovates.ae'}], u'media': [{u'expanded_url': u'http://twitter.com/UAE_innovates/status/799592483638407168/photo/1', u'display_url': u'pic.twitter.com/fncrcqVEeQ', u'url': u'https://t.co/fncrcqVEeQ', u'media_url_https': u'https://pbs.twimg.com/media/Cxi2TVHXcAEbmMK.jpg', u'id_str': u'799589377060073473', u'sizes': {u'small': {u'h': 272, u'resize': u'fit', u'w': 680}, u'large': {u'h': 819, u'resize': u'fit', u'w': 2048}, u'medium': {u'h': 480, u'resize': u'fit', u'w': 1200}, u'thumb': {u'h': 150, u'resize': u'crop', u'w': 150}}, u'indices': [115, 138], u'type': u'photo', u'id': 799589377060073473, u'media_url': u'http://pbs.twimg.com/media/Cxi2TVHXcAEbmMK.jpg'}]}, u'in_reply_to_screen_name': None, u'in_reply_to_user_id': None, u'scopes': {u'followers': False}, u'retweet_count': 10, u'id_str': u'799592483638407168', u'favorited': False, u'geo': None, u'in_reply_to_user_id_str': None, u'possibly_sensitive': False, u'lang': u'en', u'created_at': u'Fri Nov 18 12:37:58 +0000 2016', u'in_reply_to_status_id_str': None, u'place': None, u'extended_entities': {u'media': [{u'expanded_url': u'http://twitter.com/UAE_innovates/status/799592483638407168/photo/1', u'display_url': u'pic.twitter.com/fncrcqVEeQ', u'url': u'https://t.co/fncrcqVEeQ', u'media_url_https': u'https://pbs.twimg.com/media/Cxi2TVHXcAEbmMK.jpg', u'id_str': u'799589377060073473', u'sizes': {u'small': {u'h': 272, u'resize': u'fit', u'w': 680}, u'large': {u'h': 819, u'resize': u'fit', u'w': 2048}, u'medium': {u'h': 480, u'resize': u'fit', u'w': 1200}, u'thumb': {u'h': 150, u'resize': u'crop', u'w': 150}}, u'indices': [115, 138], u'type': u'photo', u'id': 799589377060073473, u'media_url': u'http://pbs.twimg.com/media/Cxi2TVHXcAEbmMK.jpg'}]}}, u'geo': None, u'in_reply_to_user_id_str': None, u'possibly_sensitive': False, u'lang': u'en', u'created_at': u'Fri Nov 18 13:23:14 +0000 2016', u'in_reply_to_status_id_str': None, u'place': None}, u'is_translation_enabled': False, u'utc_offset': 14400, u'statuses_count': 405, u'description': u'Head of Multichannel & CRM @emiratesnbd #digital #digitalbanking  #innovation #fintech Digital enthusiast, innovator and intrapreneur', u'friends_count': 870, u'location': u'Dubai, United Arab Emirates', u'profile_link_color': u'3B94D9', u'profile_image_url': u'http://pbs.twimg.com/profile_images/775626677128929284/-UuSbAhA_normal.jpg', u'following': False, u'geo_enabled': True, u'profile_banner_url': u'https://pbs.twimg.com/profile_banners/20493008/1447528837', u'blocking': False, u'profile_background_image_url': u'http://abs.twimg.com/images/themes/theme1/bg.png', u'screen_name': u'pedro_s_cardoso', u'lang': u'en', u'profile_background_tile': False, u'favourites_count': 80, u'name': u'pedro sousa cardoso', u'notifications': False, u'url': None, u'created_at': u'Tue Feb 10 05:01:44 +0000 2009', u'contributors_enabled': False, u'time_zone': u'Abu Dhabi', u'protected': False, u'default_profile': False, u'is_translator': False}, is_translator=False, geo_enabled=True, entities={u'description': {u'urls': []}}, followers_count=262, protected=False, id_str=u'20493008', default_profile_image=False, listed_count=61, status=Status(contributors=None, truncated=False, text=u'RT @UAE_innovates: Be part of the biggest national innovation celebration in UAE! #UAE_Innovates\\nVisit us on:\\nhttps://t.co/hmhcOOVG8W https\\u2026', is_quote_status=False, in_reply_to_status_id=None, id=799603876148039680, favorite_count=0, _api=<tweepy.api.API object at 0x7f45deb48110>, source=u'Twitter for iPhone', _json={u'contributors': None, u'truncated': False, u'text': u'RT @UAE_innovates: Be part of the biggest national innovation celebration in UAE! #UAE_Innovates\\nVisit us on:\\nhttps://t.co/hmhcOOVG8W https\\u2026', u'is_quote_status': False, u'in_reply_to_status_id': None, u'id': 799603876148039680, u'favorite_count': 0, u'source': u'<a href=\"http://twitter.com/download/iphone\" rel=\"nofollow\">Twitter for iPhone</a>', u'retweeted': False, u'coordinates': None, u'entities': {u'symbols': [], u'user_mentions': [{u'id': 557450699, u'indices': [3, 17], u'id_str': u'557450699', u'screen_name': u'UAE_innovates', u'name': u'UAE Innovates'}], u'hashtags': [{u'indices': [82, 96], u'text': u'UAE_Innovates'}], u'urls': [{u'url': u'https://t.co/hmhcOOVG8W', u'indices': [110, 133], u'expanded_url': u'http://www.uaeinnovates.ae', u'display_url': u'uaeinnovates.ae'}]}, u'in_reply_to_screen_name': None, u'in_reply_to_user_id': None, u'retweet_count': 10, u'id_str': u'799603876148039680', u'favorited': False, u'retweeted_status': {u'contributors': None, u'truncated': False, u'text': u'Be part of the biggest national innovation celebration in UAE! #UAE_Innovates\\nVisit us on:\\nhttps://t.co/hmhcOOVG8W https://t.co/fncrcqVEeQ', u'is_quote_status': False, u'in_reply_to_status_id': None, u'id': 799592483638407168, u'favorite_count': 24, u'source': u'<a href=\"https://ads.twitter.com\" rel=\"nofollow\">Twitter Ads</a>', u'retweeted': False, u'coordinates': None, u'entities': {u'symbols': [], u'user_mentions': [], u'hashtags': [{u'indices': [63, 77], u'text': u'UAE_Innovates'}], u'urls': [{u'url': u'https://t.co/hmhcOOVG8W', u'indices': [91, 114], u'expanded_url': u'http://www.uaeinnovates.ae', u'display_url': u'uaeinnovates.ae'}], u'media': [{u'expanded_url': u'http://twitter.com/UAE_innovates/status/799592483638407168/photo/1', u'display_url': u'pic.twitter.com/fncrcqVEeQ', u'url': u'https://t.co/fncrcqVEeQ', u'media_url_https': u'https://pbs.twimg.com/media/Cxi2TVHXcAEbmMK.jpg', u'id_str': u'799589377060073473', u'sizes': {u'small': {u'h': 272, u'resize': u'fit', u'w': 680}, u'large': {u'h': 819, u'resize': u'fit', u'w': 2048}, u'medium': {u'h': 480, u'resize': u'fit', u'w': 1200}, u'thumb': {u'h': 150, u'resize': u'crop', u'w': 150}}, u'indices': [115, 138], u'type': u'photo', u'id': 799589377060073473, u'media_url': u'http://pbs.twimg.com/media/Cxi2TVHXcAEbmMK.jpg'}]}, u'in_reply_to_screen_name': None, u'in_reply_to_user_id': None, u'scopes': {u'followers': False}, u'retweet_count': 10, u'id_str': u'799592483638407168', u'favorited': False, u'geo': None, u'in_reply_to_user_id_str': None, u'possibly_sensitive': False, u'lang': u'en', u'created_at': u'Fri Nov 18 12:37:58 +0000 2016', u'in_reply_to_status_id_str': None, u'place': None, u'extended_entities': {u'media': [{u'expanded_url': u'http://twitter.com/UAE_innovates/status/799592483638407168/photo/1', u'display_url': u'pic.twitter.com/fncrcqVEeQ', u'url': u'https://t.co/fncrcqVEeQ', u'media_url_https': u'https://pbs.twimg.com/media/Cxi2TVHXcAEbmMK.jpg', u'id_str': u'799589377060073473', u'sizes': {u'small': {u'h': 272, u'resize': u'fit', u'w': 680}, u'large': {u'h': 819, u'resize': u'fit', u'w': 2048}, u'medium': {u'h': 480, u'resize': u'fit', u'w': 1200}, u'thumb': {u'h': 150, u'resize': u'crop', u'w': 150}}, u'indices': [115, 138], u'type': u'photo', u'id': 799589377060073473, u'media_url': u'http://pbs.twimg.com/media/Cxi2TVHXcAEbmMK.jpg'}]}}, u'geo': None, u'in_reply_to_user_id_str': None, u'possibly_sensitive': False, u'lang': u'en', u'created_at': u'Fri Nov 18 13:23:14 +0000 2016', u'in_reply_to_status_id_str': None, u'place': None}, coordinates=None, entities={u'symbols': [], u'user_mentions': [{u'id': 557450699, u'indices': [3, 17], u'id_str': u'557450699', u'screen_name': u'UAE_innovates', u'name': u'UAE Innovates'}], u'hashtags': [{u'indices': [82, 96], u'text': u'UAE_Innovates'}], u'urls': [{u'url': u'https://t.co/hmhcOOVG8W', u'indices': [110, 133], u'expanded_url': u'http://www.uaeinnovates.ae', u'display_url': u'uaeinnovates.ae'}]}, in_reply_to_screen_name=None, id_str=u'799603876148039680', retweet_count=10, in_reply_to_user_id=None, favorited=False, retweeted_status=Status(contributors=None, truncated=False, text=u'Be part of the biggest national innovation celebration in UAE! #UAE_Innovates\\nVisit us on:\\nhttps://t.co/hmhcOOVG8W https://t.co/fncrcqVEeQ', is_quote_status=False, in_reply_to_status_id=None, id=799592483638407168, favorite_count=24, _api=<tweepy.api.API object at 0x7f45deb48110>, source=u'Twitter Ads', _json={u'contributors': None, u'truncated': False, u'text': u'Be part of the biggest national innovation celebration in UAE! #UAE_Innovates\\nVisit us on:\\nhttps://t.co/hmhcOOVG8W https://t.co/fncrcqVEeQ', u'is_quote_status': False, u'in_reply_to_status_id': None, u'id': 799592483638407168, u'favorite_count': 24, u'source': u'<a href=\"https://ads.twitter.com\" rel=\"nofollow\">Twitter Ads</a>', u'retweeted': False, u'coordinates': None, u'entities': {u'symbols': [], u'user_mentions': [], u'hashtags': [{u'indices': [63, 77], u'text': u'UAE_Innovates'}], u'urls': [{u'url': u'https://t.co/hmhcOOVG8W', u'indices': [91, 114], u'expanded_url': u'http://www.uaeinnovates.ae', u'display_url': u'uaeinnovates.ae'}], u'media': [{u'expanded_url': u'http://twitter.com/UAE_innovates/status/799592483638407168/photo/1', u'display_url': u'pic.twitter.com/fncrcqVEeQ', u'url': u'https://t.co/fncrcqVEeQ', u'media_url_https': u'https://pbs.twimg.com/media/Cxi2TVHXcAEbmMK.jpg', u'id_str': u'799589377060073473', u'sizes': {u'small': {u'h': 272, u'resize': u'fit', u'w': 680}, u'large': {u'h': 819, u'resize': u'fit', u'w': 2048}, u'medium': {u'h': 480, u'resize': u'fit', u'w': 1200}, u'thumb': {u'h': 150, u'resize': u'crop', u'w': 150}}, u'indices': [115, 138], u'type': u'photo', u'id': 799589377060073473, u'media_url': u'http://pbs.twimg.com/media/Cxi2TVHXcAEbmMK.jpg'}]}, u'in_reply_to_screen_name': None, u'in_reply_to_user_id': None, u'scopes': {u'followers': False}, u'retweet_count': 10, u'id_str': u'799592483638407168', u'favorited': False, u'geo': None, u'in_reply_to_user_id_str': None, u'possibly_sensitive': False, u'lang': u'en', u'created_at': u'Fri Nov 18 12:37:58 +0000 2016', u'in_reply_to_status_id_str': None, u'place': None, u'extended_entities': {u'media': [{u'expanded_url': u'http://twitter.com/UAE_innovates/status/799592483638407168/photo/1', u'display_url': u'pic.twitter.com/fncrcqVEeQ', u'url': u'https://t.co/fncrcqVEeQ', u'media_url_https': u'https://pbs.twimg.com/media/Cxi2TVHXcAEbmMK.jpg', u'id_str': u'799589377060073473', u'sizes': {u'small': {u'h': 272, u'resize': u'fit', u'w': 680}, u'large': {u'h': 819, u'resize': u'fit', u'w': 2048}, u'medium': {u'h': 480, u'resize': u'fit', u'w': 1200}, u'thumb': {u'h': 150, u'resize': u'crop', u'w': 150}}, u'indices': [115, 138], u'type': u'photo', u'id': 799589377060073473, u'media_url': u'http://pbs.twimg.com/media/Cxi2TVHXcAEbmMK.jpg'}]}}, coordinates=None, entities={u'symbols': [], u'user_mentions': [], u'hashtags': [{u'indices': [63, 77], u'text': u'UAE_Innovates'}], u'urls': [{u'url': u'https://t.co/hmhcOOVG8W', u'indices': [91, 114], u'expanded_url': u'http://www.uaeinnovates.ae', u'display_url': u'uaeinnovates.ae'}], u'media': [{u'expanded_url': u'http://twitter.com/UAE_innovates/status/799592483638407168/photo/1', u'display_url': u'pic.twitter.com/fncrcqVEeQ', u'url': u'https://t.co/fncrcqVEeQ', u'media_url_https': u'https://pbs.twimg.com/media/Cxi2TVHXcAEbmMK.jpg', u'id_str': u'799589377060073473', u'sizes': {u'small': {u'h': 272, u'resize': u'fit', u'w': 680}, u'large': {u'h': 819, u'resize': u'fit', u'w': 2048}, u'medium': {u'h': 480, u'resize': u'fit', u'w': 1200}, u'thumb': {u'h': 150, u'resize': u'crop', u'w': 150}}, u'indices': [115, 138], u'type': u'photo', u'id': 799589377060073473, u'media_url': u'http://pbs.twimg.com/media/Cxi2TVHXcAEbmMK.jpg'}]}, in_reply_to_screen_name=None, id_str=u'799592483638407168', scopes={u'followers': False}, retweet_count=10, in_reply_to_user_id=None, favorited=False, source_url=u'https://ads.twitter.com', geo=None, in_reply_to_user_id_str=None, possibly_sensitive=False, lang=u'en', created_at=datetime.datetime(2016, 11, 18, 12, 37, 58), in_reply_to_status_id_str=None, place=None, extended_entities={u'media': [{u'expanded_url': u'http://twitter.com/UAE_innovates/status/799592483638407168/photo/1', u'display_url': u'pic.twitter.com/fncrcqVEeQ', u'url': u'https://t.co/fncrcqVEeQ', u'media_url_https': u'https://pbs.twimg.com/media/Cxi2TVHXcAEbmMK.jpg', u'id_str': u'799589377060073473', u'sizes': {u'small': {u'h': 272, u'resize': u'fit', u'w': 680}, u'large': {u'h': 819, u'resize': u'fit', u'w': 2048}, u'medium': {u'h': 480, u'resize': u'fit', u'w': 1200}, u'thumb': {u'h': 150, u'resize': u'crop', u'w': 150}}, u'indices': [115, 138], u'type': u'photo', u'id': 799589377060073473, u'media_url': u'http://pbs.twimg.com/media/Cxi2TVHXcAEbmMK.jpg'}]}, retweeted=False), source_url=u'http://twitter.com/download/iphone', geo=None, in_reply_to_user_id_str=None, possibly_sensitive=False, lang=u'en', created_at=datetime.datetime(2016, 11, 18, 13, 23, 14), in_reply_to_status_id_str=None, place=None, retweeted=False), lang=u'en', utc_offset=14400, statuses_count=405, profile_background_color=u'000000', friends_count=870, profile_link_color=u'3B94D9', profile_image_url=u'http://pbs.twimg.com/profile_images/775626677128929284/-UuSbAhA_normal.jpg', notifications=False, default_profile=False, profile_background_image_url_https=u'https://abs.twimg.com/images/themes/theme1/bg.png', profile_banner_url=u'https://pbs.twimg.com/profile_banners/20493008/1447528837', blocking=False, profile_background_image_url=u'http://abs.twimg.com/images/themes/theme1/bg.png', name=u'pedro sousa cardoso', is_translation_enabled=False, profile_background_tile=False, favourites_count=80, screen_name=u'pedro_s_cardoso', url=None, created_at=datetime.datetime(2009, 2, 10, 5, 1, 44), contributors_enabled=False, location=u'Dubai, United Arab Emirates', profile_sidebar_border_color=u'000000', translator_type=u'none', following=False),\n",
       " User(follow_request_sent=False, has_extended_profile=True, profile_use_background_image=True, profile_sidebar_fill_color=u'DDEEF6', live_following=False, time_zone=None, id=745305296730492928, description=u'', _api=<tweepy.api.API object at 0x7f45deb48110>, verified=False, blocked_by=False, profile_text_color=u'333333', muting=False, profile_image_url_https=u'https://pbs.twimg.com/profile_images/746044197774499840/0iJks8ND_normal.jpg', _json={u'follow_request_sent': False, u'has_extended_profile': True, u'profile_use_background_image': True, u'live_following': False, u'default_profile_image': False, u'id': 745305296730492928, u'profile_background_image_url_https': None, u'translator_type': u'none', u'verified': False, u'blocked_by': False, u'profile_text_color': u'333333', u'muting': False, u'profile_image_url_https': u'https://pbs.twimg.com/profile_images/746044197774499840/0iJks8ND_normal.jpg', u'profile_sidebar_fill_color': u'DDEEF6', u'entities': {u'description': {u'urls': []}}, u'followers_count': 39, u'profile_sidebar_border_color': u'C0DEED', u'id_str': u'745305296730492928', u'profile_background_color': u'F5F8FA', u'listed_count': 1, u'status': {u'contributors': None, u'truncated': False, u'text': u'@LaSelenOfficial  mi manderesti una foto tua un saluto andrea properzio', u'is_quote_status': False, u'in_reply_to_status_id': None, u'id': 799563156490256385, u'favorite_count': 0, u'source': u'<a href=\"http://twitter.com\" rel=\"nofollow\">Twitter Web Client</a>', u'retweeted': False, u'coordinates': None, u'entities': {u'symbols': [], u'user_mentions': [{u'id': 1141948008, u'indices': [0, 16], u'id_str': u'1141948008', u'screen_name': u'LaSelenOfficial', u'name': u'Luce Selen Caponegro'}], u'hashtags': [], u'urls': []}, u'in_reply_to_screen_name': u'LaSelenOfficial', u'in_reply_to_user_id': 1141948008, u'retweet_count': 0, u'id_str': u'799563156490256385', u'favorited': False, u'geo': None, u'in_reply_to_user_id_str': u'1141948008', u'lang': u'it', u'created_at': u'Fri Nov 18 10:41:26 +0000 2016', u'in_reply_to_status_id_str': None, u'place': None}, u'is_translation_enabled': False, u'utc_offset': None, u'statuses_count': 168, u'description': u'', u'friends_count': 289, u'location': u'Arese, Lombardia', u'profile_link_color': u'1DA1F2', u'profile_image_url': u'http://pbs.twimg.com/profile_images/746044197774499840/0iJks8ND_normal.jpg', u'following': False, u'geo_enabled': False, u'profile_banner_url': u'https://pbs.twimg.com/profile_banners/745305296730492928/1479223013', u'blocking': False, u'profile_background_image_url': None, u'screen_name': u'ProperzioAndrea', u'lang': u'it', u'profile_background_tile': False, u'favourites_count': 0, u'name': u'andrea properzio', u'notifications': False, u'url': None, u'created_at': u'Tue Jun 21 17:20:04 +0000 2016', u'contributors_enabled': False, u'time_zone': None, u'protected': False, u'default_profile': True, u'is_translator': False}, is_translator=False, geo_enabled=False, entities={u'description': {u'urls': []}}, followers_count=39, protected=False, id_str=u'745305296730492928', default_profile_image=False, listed_count=1, status=Status(contributors=None, truncated=False, text=u'@LaSelenOfficial  mi manderesti una foto tua un saluto andrea properzio', is_quote_status=False, in_reply_to_status_id=None, id=799563156490256385, favorite_count=0, _api=<tweepy.api.API object at 0x7f45deb48110>, source=u'Twitter Web Client', _json={u'contributors': None, u'truncated': False, u'text': u'@LaSelenOfficial  mi manderesti una foto tua un saluto andrea properzio', u'is_quote_status': False, u'in_reply_to_status_id': None, u'id': 799563156490256385, u'favorite_count': 0, u'source': u'<a href=\"http://twitter.com\" rel=\"nofollow\">Twitter Web Client</a>', u'retweeted': False, u'coordinates': None, u'entities': {u'symbols': [], u'user_mentions': [{u'id': 1141948008, u'indices': [0, 16], u'id_str': u'1141948008', u'screen_name': u'LaSelenOfficial', u'name': u'Luce Selen Caponegro'}], u'hashtags': [], u'urls': []}, u'in_reply_to_screen_name': u'LaSelenOfficial', u'in_reply_to_user_id': 1141948008, u'retweet_count': 0, u'id_str': u'799563156490256385', u'favorited': False, u'geo': None, u'in_reply_to_user_id_str': u'1141948008', u'lang': u'it', u'created_at': u'Fri Nov 18 10:41:26 +0000 2016', u'in_reply_to_status_id_str': None, u'place': None}, coordinates=None, entities={u'symbols': [], u'user_mentions': [{u'id': 1141948008, u'indices': [0, 16], u'id_str': u'1141948008', u'screen_name': u'LaSelenOfficial', u'name': u'Luce Selen Caponegro'}], u'hashtags': [], u'urls': []}, in_reply_to_screen_name=u'LaSelenOfficial', id_str=u'799563156490256385', retweet_count=0, in_reply_to_user_id=1141948008, favorited=False, source_url=u'http://twitter.com', geo=None, in_reply_to_user_id_str=u'1141948008', lang=u'it', created_at=datetime.datetime(2016, 11, 18, 10, 41, 26), in_reply_to_status_id_str=None, place=None, retweeted=False), lang=u'it', utc_offset=None, statuses_count=168, profile_background_color=u'F5F8FA', friends_count=289, profile_link_color=u'1DA1F2', profile_image_url=u'http://pbs.twimg.com/profile_images/746044197774499840/0iJks8ND_normal.jpg', notifications=False, default_profile=True, profile_background_image_url_https=None, profile_banner_url=u'https://pbs.twimg.com/profile_banners/745305296730492928/1479223013', blocking=False, profile_background_image_url=None, name=u'andrea properzio', is_translation_enabled=False, profile_background_tile=False, favourites_count=0, screen_name=u'ProperzioAndrea', url=None, created_at=datetime.datetime(2016, 6, 21, 17, 20, 4), contributors_enabled=False, location=u'Arese, Lombardia', profile_sidebar_border_color=u'C0DEED', translator_type=u'none', following=False),\n",
       " User(follow_request_sent=False, has_extended_profile=True, profile_use_background_image=True, profile_sidebar_fill_color=u'DDEEF6', live_following=False, time_zone=None, id=790166910147125256, description=u'Finance and Sports. Wine, worldwide news and more.', _api=<tweepy.api.API object at 0x7f45deb48110>, verified=False, blocked_by=False, profile_text_color=u'333333', muting=False, profile_image_url_https=u'https://pbs.twimg.com/profile_images/790169113163333632/oc9Myw-x_normal.jpg', _json={u'follow_request_sent': False, u'has_extended_profile': True, u'profile_use_background_image': True, u'live_following': False, u'default_profile_image': False, u'id': 790166910147125256, u'profile_background_image_url_https': None, u'translator_type': u'none', u'verified': False, u'blocked_by': False, u'profile_text_color': u'333333', u'muting': False, u'profile_image_url_https': u'https://pbs.twimg.com/profile_images/790169113163333632/oc9Myw-x_normal.jpg', u'profile_sidebar_fill_color': u'DDEEF6', u'entities': {u'description': {u'urls': []}}, u'followers_count': 28, u'profile_sidebar_border_color': u'C0DEED', u'id_str': u'790166910147125256', u'profile_background_color': u'F5F8FA', u'listed_count': 2, u'status': {u'contributors': None, u'truncated': False, u'text': u\"Per #Draghi non c'\\xe8 ripresa in #Europa senza sostegno monetario. Continua la #politica accomodante #BCE\\nI #tassi non si ritoccano\", u'is_quote_status': False, u'in_reply_to_status_id': None, u'id': 799560927943262212, u'favorite_count': 1, u'source': u'<a href=\"http://twitter.com/download/iphone\" rel=\"nofollow\">Twitter for iPhone</a>', u'retweeted': False, u'coordinates': None, u'entities': {u'symbols': [], u'user_mentions': [], u'hashtags': [{u'indices': [4, 11], u'text': u'Draghi'}, {u'indices': [31, 38], u'text': u'Europa'}, {u'indices': [77, 86], u'text': u'politica'}, {u'indices': [99, 103], u'text': u'BCE'}, {u'indices': [106, 112], u'text': u'tassi'}], u'urls': []}, u'in_reply_to_screen_name': None, u'in_reply_to_user_id': None, u'retweet_count': 0, u'id_str': u'799560927943262212', u'favorited': False, u'geo': None, u'in_reply_to_user_id_str': None, u'lang': u'it', u'created_at': u'Fri Nov 18 10:32:35 +0000 2016', u'in_reply_to_status_id_str': None, u'place': {u'full_name': u'Fiumicino, Lazio', u'url': u'https://api.twitter.com/1.1/geo/id/853cac1ebe034aac.json', u'country': u'Italia', u'place_type': u'city', u'bounding_box': {u'type': u'Polygon', u'coordinates': [[[12.1250835, 41.7410238], [12.3174662, 41.7410238], [12.3174662, 42.020287], [12.1250835, 42.020287]]]}, u'contained_within': [], u'country_code': u'IT', u'attributes': {}, u'id': u'853cac1ebe034aac', u'name': u'Fiumicino'}}, u'is_translation_enabled': False, u'utc_offset': None, u'statuses_count': 24, u'description': u'Finance and Sports. Wine, worldwide news and more.', u'friends_count': 176, u'location': u'Italy', u'profile_link_color': u'1DA1F2', u'profile_image_url': u'http://pbs.twimg.com/profile_images/790169113163333632/oc9Myw-x_normal.jpg', u'following': False, u'geo_enabled': True, u'profile_banner_url': u'https://pbs.twimg.com/profile_banners/790166910147125256/1477226011', u'blocking': False, u'profile_background_image_url': None, u'screen_name': u'gianp_dam', u'lang': u'en', u'profile_background_tile': False, u'favourites_count': 16, u'name': u\"Gianpiero D'amicis\", u'notifications': False, u'url': None, u'created_at': u'Sun Oct 23 12:24:06 +0000 2016', u'contributors_enabled': False, u'time_zone': None, u'protected': False, u'default_profile': True, u'is_translator': False}, is_translator=False, geo_enabled=True, entities={u'description': {u'urls': []}}, followers_count=28, protected=False, id_str=u'790166910147125256', default_profile_image=False, listed_count=2, status=Status(contributors=None, truncated=False, text=u\"Per #Draghi non c'\\xe8 ripresa in #Europa senza sostegno monetario. Continua la #politica accomodante #BCE\\nI #tassi non si ritoccano\", is_quote_status=False, in_reply_to_status_id=None, id=799560927943262212, favorite_count=1, _api=<tweepy.api.API object at 0x7f45deb48110>, source=u'Twitter for iPhone', _json={u'contributors': None, u'truncated': False, u'text': u\"Per #Draghi non c'\\xe8 ripresa in #Europa senza sostegno monetario. Continua la #politica accomodante #BCE\\nI #tassi non si ritoccano\", u'is_quote_status': False, u'in_reply_to_status_id': None, u'id': 799560927943262212, u'favorite_count': 1, u'source': u'<a href=\"http://twitter.com/download/iphone\" rel=\"nofollow\">Twitter for iPhone</a>', u'retweeted': False, u'coordinates': None, u'entities': {u'symbols': [], u'user_mentions': [], u'hashtags': [{u'indices': [4, 11], u'text': u'Draghi'}, {u'indices': [31, 38], u'text': u'Europa'}, {u'indices': [77, 86], u'text': u'politica'}, {u'indices': [99, 103], u'text': u'BCE'}, {u'indices': [106, 112], u'text': u'tassi'}], u'urls': []}, u'in_reply_to_screen_name': None, u'in_reply_to_user_id': None, u'retweet_count': 0, u'id_str': u'799560927943262212', u'favorited': False, u'geo': None, u'in_reply_to_user_id_str': None, u'lang': u'it', u'created_at': u'Fri Nov 18 10:32:35 +0000 2016', u'in_reply_to_status_id_str': None, u'place': {u'full_name': u'Fiumicino, Lazio', u'url': u'https://api.twitter.com/1.1/geo/id/853cac1ebe034aac.json', u'country': u'Italia', u'place_type': u'city', u'bounding_box': {u'type': u'Polygon', u'coordinates': [[[12.1250835, 41.7410238], [12.3174662, 41.7410238], [12.3174662, 42.020287], [12.1250835, 42.020287]]]}, u'contained_within': [], u'country_code': u'IT', u'attributes': {}, u'id': u'853cac1ebe034aac', u'name': u'Fiumicino'}}, coordinates=None, entities={u'symbols': [], u'user_mentions': [], u'hashtags': [{u'indices': [4, 11], u'text': u'Draghi'}, {u'indices': [31, 38], u'text': u'Europa'}, {u'indices': [77, 86], u'text': u'politica'}, {u'indices': [99, 103], u'text': u'BCE'}, {u'indices': [106, 112], u'text': u'tassi'}], u'urls': []}, in_reply_to_screen_name=None, id_str=u'799560927943262212', retweet_count=0, in_reply_to_user_id=None, favorited=False, source_url=u'http://twitter.com/download/iphone', geo=None, in_reply_to_user_id_str=None, lang=u'it', created_at=datetime.datetime(2016, 11, 18, 10, 32, 35), in_reply_to_status_id_str=None, place=Place(_api=<tweepy.api.API object at 0x7f45deb48110>, country_code=u'IT', url=u'https://api.twitter.com/1.1/geo/id/853cac1ebe034aac.json', country=u'Italia', place_type=u'city', bounding_box=BoundingBox(_api=<tweepy.api.API object at 0x7f45deb48110>, type=u'Polygon', coordinates=[[[12.1250835, 41.7410238], [12.3174662, 41.7410238], [12.3174662, 42.020287], [12.1250835, 42.020287]]]), contained_within=[], full_name=u'Fiumicino, Lazio', attributes={}, id=u'853cac1ebe034aac', name=u'Fiumicino'), retweeted=False), lang=u'en', utc_offset=None, statuses_count=24, profile_background_color=u'F5F8FA', friends_count=176, profile_link_color=u'1DA1F2', profile_image_url=u'http://pbs.twimg.com/profile_images/790169113163333632/oc9Myw-x_normal.jpg', notifications=False, default_profile=True, profile_background_image_url_https=None, profile_banner_url=u'https://pbs.twimg.com/profile_banners/790166910147125256/1477226011', blocking=False, profile_background_image_url=None, name=u\"Gianpiero D'amicis\", is_translation_enabled=False, profile_background_tile=False, favourites_count=16, screen_name=u'gianp_dam', url=None, created_at=datetime.datetime(2016, 10, 23, 12, 24, 6), contributors_enabled=False, location=u'Italy', profile_sidebar_border_color=u'C0DEED', translator_type=u'none', following=False),\n",
       " User(follow_request_sent=False, has_extended_profile=False, profile_use_background_image=True, profile_sidebar_fill_color=u'DDEEF6', live_following=False, time_zone=u'Greenland', id=342645708, description=u'', _api=<tweepy.api.API object at 0x7f45deb48110>, verified=False, blocked_by=False, profile_text_color=u'333333', muting=False, profile_image_url_https=u'https://pbs.twimg.com/profile_images/1655886365/image_normal.jpg', _json={u'follow_request_sent': False, u'has_extended_profile': False, u'profile_use_background_image': True, u'live_following': False, u'default_profile_image': False, u'id': 342645708, u'profile_background_image_url_https': u'https://abs.twimg.com/images/themes/theme1/bg.png', u'translator_type': u'none', u'verified': False, u'blocked_by': False, u'profile_text_color': u'333333', u'muting': False, u'profile_image_url_https': u'https://pbs.twimg.com/profile_images/1655886365/image_normal.jpg', u'profile_sidebar_fill_color': u'DDEEF6', u'entities': {u'description': {u'urls': []}}, u'followers_count': 34, u'profile_sidebar_border_color': u'C0DEED', u'id_str': u'342645708', u'profile_background_color': u'C0DEED', u'listed_count': 0, u'status': {u'contributors': None, u'truncated': False, u'text': u'@TIM_Official ho problemi sul mio numero tim. Quando chiamo e ricevo mi appare SCONOSCIUTO. Come lo risolvo?', u'is_quote_status': False, u'in_reply_to_status_id': None, u'id': 793166730461863940, u'favorite_count': 0, u'source': u'<a href=\"http://twitter.com/#!/download/ipad\" rel=\"nofollow\">Twitter for iPad</a>', u'retweeted': False, u'coordinates': None, u'entities': {u'symbols': [], u'user_mentions': [{u'id': 132506126, u'indices': [0, 13], u'id_str': u'132506126', u'screen_name': u'TIM_Official', u'name': u'TIM Official'}], u'hashtags': [], u'urls': []}, u'in_reply_to_screen_name': u'TIM_Official', u'in_reply_to_user_id': 132506126, u'retweet_count': 0, u'id_str': u'793166730461863940', u'favorited': False, u'geo': None, u'in_reply_to_user_id_str': u'132506126', u'lang': u'it', u'created_at': u'Mon Oct 31 19:04:19 +0000 2016', u'in_reply_to_status_id_str': None, u'place': None}, u'is_translation_enabled': False, u'utc_offset': -10800, u'statuses_count': 109, u'description': u'', u'friends_count': 175, u'location': u'terlizzi', u'profile_link_color': u'1DA1F2', u'profile_image_url': u'http://pbs.twimg.com/profile_images/1655886365/image_normal.jpg', u'following': False, u'geo_enabled': False, u'blocking': False, u'profile_background_image_url': u'http://abs.twimg.com/images/themes/theme1/bg.png', u'screen_name': u'ciccio_volpe', u'lang': u'it', u'profile_background_tile': False, u'favourites_count': 43, u'name': u'Francesco Volpe', u'notifications': False, u'url': None, u'created_at': u'Tue Jul 26 10:45:52 +0000 2011', u'contributors_enabled': False, u'time_zone': u'Greenland', u'protected': False, u'default_profile': True, u'is_translator': False}, is_translator=False, geo_enabled=False, entities={u'description': {u'urls': []}}, followers_count=34, protected=False, id_str=u'342645708', default_profile_image=False, listed_count=0, status=Status(contributors=None, truncated=False, text=u'@TIM_Official ho problemi sul mio numero tim. Quando chiamo e ricevo mi appare SCONOSCIUTO. Come lo risolvo?', is_quote_status=False, in_reply_to_status_id=None, id=793166730461863940, favorite_count=0, _api=<tweepy.api.API object at 0x7f45deb48110>, source=u'Twitter for iPad', _json={u'contributors': None, u'truncated': False, u'text': u'@TIM_Official ho problemi sul mio numero tim. Quando chiamo e ricevo mi appare SCONOSCIUTO. Come lo risolvo?', u'is_quote_status': False, u'in_reply_to_status_id': None, u'id': 793166730461863940, u'favorite_count': 0, u'source': u'<a href=\"http://twitter.com/#!/download/ipad\" rel=\"nofollow\">Twitter for iPad</a>', u'retweeted': False, u'coordinates': None, u'entities': {u'symbols': [], u'user_mentions': [{u'id': 132506126, u'indices': [0, 13], u'id_str': u'132506126', u'screen_name': u'TIM_Official', u'name': u'TIM Official'}], u'hashtags': [], u'urls': []}, u'in_reply_to_screen_name': u'TIM_Official', u'in_reply_to_user_id': 132506126, u'retweet_count': 0, u'id_str': u'793166730461863940', u'favorited': False, u'geo': None, u'in_reply_to_user_id_str': u'132506126', u'lang': u'it', u'created_at': u'Mon Oct 31 19:04:19 +0000 2016', u'in_reply_to_status_id_str': None, u'place': None}, coordinates=None, entities={u'symbols': [], u'user_mentions': [{u'id': 132506126, u'indices': [0, 13], u'id_str': u'132506126', u'screen_name': u'TIM_Official', u'name': u'TIM Official'}], u'hashtags': [], u'urls': []}, in_reply_to_screen_name=u'TIM_Official', id_str=u'793166730461863940', retweet_count=0, in_reply_to_user_id=132506126, favorited=False, source_url=u'http://twitter.com/#!/download/ipad', geo=None, in_reply_to_user_id_str=u'132506126', lang=u'it', created_at=datetime.datetime(2016, 10, 31, 19, 4, 19), in_reply_to_status_id_str=None, place=None, retweeted=False), lang=u'it', utc_offset=-10800, statuses_count=109, profile_background_color=u'C0DEED', friends_count=175, profile_link_color=u'1DA1F2', profile_image_url=u'http://pbs.twimg.com/profile_images/1655886365/image_normal.jpg', notifications=False, default_profile=True, profile_background_image_url_https=u'https://abs.twimg.com/images/themes/theme1/bg.png', blocking=False, profile_background_image_url=u'http://abs.twimg.com/images/themes/theme1/bg.png', name=u'Francesco Volpe', is_translation_enabled=False, profile_background_tile=False, favourites_count=43, screen_name=u'ciccio_volpe', url=None, created_at=datetime.datetime(2011, 7, 26, 10, 45, 52), contributors_enabled=False, location=u'terlizzi', profile_sidebar_border_color=u'C0DEED', translator_type=u'none', following=False),\n",
       " User(follow_request_sent=False, has_extended_profile=False, profile_use_background_image=True, profile_sidebar_fill_color=u'DDEEF6', live_following=False, time_zone=None, id=2582103893, description=u'', _api=<tweepy.api.API object at 0x7f45deb48110>, verified=False, blocked_by=False, profile_text_color=u'333333', muting=False, profile_image_url_https=u'https://pbs.twimg.com/profile_images/557647629967179776/efLpnXJ__normal.jpeg', _json={u'follow_request_sent': False, u'has_extended_profile': False, u'profile_use_background_image': True, u'live_following': False, u'default_profile_image': False, u'id': 2582103893, u'profile_background_image_url_https': u'https://abs.twimg.com/images/themes/theme1/bg.png', u'translator_type': u'none', u'verified': False, u'blocked_by': False, u'profile_text_color': u'333333', u'muting': False, u'profile_image_url_https': u'https://pbs.twimg.com/profile_images/557647629967179776/efLpnXJ__normal.jpeg', u'profile_sidebar_fill_color': u'DDEEF6', u'entities': {u'description': {u'urls': []}}, u'followers_count': 4, u'profile_sidebar_border_color': u'C0DEED', u'id_str': u'2582103893', u'profile_background_color': u'C0DEED', u'listed_count': 0, u'status': {u'contributors': None, u'truncated': False, u'text': u'@InfoAtac Metro A, ritardi in quale tratta/direzione?', u'is_quote_status': False, u'in_reply_to_status_id': 795581276208189440, u'id': 795593775632551936, u'favorite_count': 0, u'source': u'<a href=\"http://twitter.com/download/iphone\" rel=\"nofollow\">Twitter for iPhone</a>', u'retweeted': False, u'coordinates': None, u'entities': {u'symbols': [], u'user_mentions': [{u'id': 370690455, u'indices': [0, 9], u'id_str': u'370690455', u'screen_name': u'InfoAtac', u'name': u'infoatac'}], u'hashtags': [], u'urls': []}, u'in_reply_to_screen_name': u'InfoAtac', u'in_reply_to_user_id': 370690455, u'retweet_count': 0, u'id_str': u'795593775632551936', u'favorited': False, u'geo': None, u'in_reply_to_user_id_str': u'370690455', u'lang': u'it', u'created_at': u'Mon Nov 07 11:48:32 +0000 2016', u'in_reply_to_status_id_str': u'795581276208189440', u'place': None}, u'is_translation_enabled': False, u'utc_offset': None, u'statuses_count': 33, u'description': u'', u'friends_count': 50, u'location': u'', u'profile_link_color': u'1DA1F2', u'profile_image_url': u'http://pbs.twimg.com/profile_images/557647629967179776/efLpnXJ__normal.jpeg', u'following': False, u'geo_enabled': False, u'profile_banner_url': u'https://pbs.twimg.com/profile_banners/2582103893/1401879185', u'blocking': False, u'profile_background_image_url': u'http://abs.twimg.com/images/themes/theme1/bg.png', u'screen_name': u'MaxdeRoma', u'lang': u'it', u'profile_background_tile': False, u'favourites_count': 1, u'name': u'Max de Roma', u'notifications': False, u'url': None, u'created_at': u'Wed Jun 04 10:51:50 +0000 2014', u'contributors_enabled': False, u'time_zone': None, u'protected': False, u'default_profile': True, u'is_translator': False}, is_translator=False, geo_enabled=False, entities={u'description': {u'urls': []}}, followers_count=4, protected=False, id_str=u'2582103893', default_profile_image=False, listed_count=0, status=Status(contributors=None, truncated=False, text=u'@InfoAtac Metro A, ritardi in quale tratta/direzione?', is_quote_status=False, in_reply_to_status_id=795581276208189440, id=795593775632551936, favorite_count=0, _api=<tweepy.api.API object at 0x7f45deb48110>, source=u'Twitter for iPhone', _json={u'contributors': None, u'truncated': False, u'text': u'@InfoAtac Metro A, ritardi in quale tratta/direzione?', u'is_quote_status': False, u'in_reply_to_status_id': 795581276208189440, u'id': 795593775632551936, u'favorite_count': 0, u'source': u'<a href=\"http://twitter.com/download/iphone\" rel=\"nofollow\">Twitter for iPhone</a>', u'retweeted': False, u'coordinates': None, u'entities': {u'symbols': [], u'user_mentions': [{u'id': 370690455, u'indices': [0, 9], u'id_str': u'370690455', u'screen_name': u'InfoAtac', u'name': u'infoatac'}], u'hashtags': [], u'urls': []}, u'in_reply_to_screen_name': u'InfoAtac', u'in_reply_to_user_id': 370690455, u'retweet_count': 0, u'id_str': u'795593775632551936', u'favorited': False, u'geo': None, u'in_reply_to_user_id_str': u'370690455', u'lang': u'it', u'created_at': u'Mon Nov 07 11:48:32 +0000 2016', u'in_reply_to_status_id_str': u'795581276208189440', u'place': None}, coordinates=None, entities={u'symbols': [], u'user_mentions': [{u'id': 370690455, u'indices': [0, 9], u'id_str': u'370690455', u'screen_name': u'InfoAtac', u'name': u'infoatac'}], u'hashtags': [], u'urls': []}, in_reply_to_screen_name=u'InfoAtac', id_str=u'795593775632551936', retweet_count=0, in_reply_to_user_id=370690455, favorited=False, source_url=u'http://twitter.com/download/iphone', geo=None, in_reply_to_user_id_str=u'370690455', lang=u'it', created_at=datetime.datetime(2016, 11, 7, 11, 48, 32), in_reply_to_status_id_str=u'795581276208189440', place=None, retweeted=False), lang=u'it', utc_offset=None, statuses_count=33, profile_background_color=u'C0DEED', friends_count=50, profile_link_color=u'1DA1F2', profile_image_url=u'http://pbs.twimg.com/profile_images/557647629967179776/efLpnXJ__normal.jpeg', notifications=False, default_profile=True, profile_background_image_url_https=u'https://abs.twimg.com/images/themes/theme1/bg.png', profile_banner_url=u'https://pbs.twimg.com/profile_banners/2582103893/1401879185', blocking=False, profile_background_image_url=u'http://abs.twimg.com/images/themes/theme1/bg.png', name=u'Max de Roma', is_translation_enabled=False, profile_background_tile=False, favourites_count=1, screen_name=u'MaxdeRoma', url=None, created_at=datetime.datetime(2014, 6, 4, 10, 51, 50), contributors_enabled=False, location=u'', profile_sidebar_border_color=u'C0DEED', translator_type=u'none', following=False),\n",
       " User(follow_request_sent=False, has_extended_profile=False, profile_use_background_image=False, profile_sidebar_fill_color=u'000000', live_following=False, time_zone=None, id=3907053811, description=u'', _api=<tweepy.api.API object at 0x7f45deb48110>, verified=False, blocked_by=False, profile_text_color=u'000000', muting=False, profile_image_url_https=u'https://pbs.twimg.com/profile_images/654792776383492096/TN0HHnmu_normal.jpg', _json={u'follow_request_sent': False, u'has_extended_profile': False, u'profile_use_background_image': False, u'live_following': False, u'default_profile_image': False, u'id': 3907053811, u'profile_background_image_url_https': u'https://abs.twimg.com/images/themes/theme1/bg.png', u'translator_type': u'none', u'verified': False, u'blocked_by': False, u'profile_text_color': u'000000', u'muting': False, u'profile_image_url_https': u'https://pbs.twimg.com/profile_images/654792776383492096/TN0HHnmu_normal.jpg', u'profile_sidebar_fill_color': u'000000', u'entities': {u'description': {u'urls': []}}, u'followers_count': 24, u'profile_sidebar_border_color': u'000000', u'id_str': u'3907053811', u'profile_background_color': u'000000', u'listed_count': 0, u'status': {u'contributors': None, u'truncated': True, u'text': u\"Bell'iniziativa! Qui la mappa delle farmacie: https://t.co/jpADAVB0VP \\n#infarmaciaperibambini #Haiti #haitirelief\\u2026 https://t.co/Vrr88cv6MO\", u'is_quote_status': True, u'in_reply_to_status_id': None, u'id': 799569647741894656, u'favorite_count': 0, u'source': u'<a href=\"http://twitter.com\" rel=\"nofollow\">Twitter Web Client</a>', u'quoted_status_id': 799567073915576320, u'retweeted': False, u'coordinates': None, u'entities': {u'symbols': [], u'user_mentions': [], u'hashtags': [{u'indices': [71, 93], u'text': u'infarmaciaperibambini'}, {u'indices': [94, 100], u'text': u'Haiti'}, {u'indices': [101, 113], u'text': u'haitirelief'}], u'urls': [{u'url': u'https://t.co/jpADAVB0VP', u'indices': [46, 69], u'expanded_url': u'https://infarmaciaperibambini.nph-italia.org/farmacie/', u'display_url': u'infarmaciaperibambini.nph-italia.org/farmacie/'}, {u'url': u'https://t.co/Vrr88cv6MO', u'indices': [115, 138], u'expanded_url': u'https://twitter.com/i/web/status/799569647741894656', u'display_url': u'twitter.com/i/web/status/7\\u2026'}]}, u'in_reply_to_screen_name': None, u'in_reply_to_user_id': None, u'retweet_count': 0, u'id_str': u'799569647741894656', u'favorited': False, u'geo': None, u'in_reply_to_user_id_str': None, u'possibly_sensitive': False, u'lang': u'it', u'created_at': u'Fri Nov 18 11:07:13 +0000 2016', u'quoted_status_id_str': u'799567073915576320', u'in_reply_to_status_id_str': None, u'place': None}, u'is_translation_enabled': False, u'utc_offset': None, u'statuses_count': 139, u'description': u'', u'friends_count': 233, u'location': u'', u'profile_link_color': u'1B95E0', u'profile_image_url': u'http://pbs.twimg.com/profile_images/654792776383492096/TN0HHnmu_normal.jpg', u'following': False, u'geo_enabled': False, u'profile_banner_url': u'https://pbs.twimg.com/profile_banners/3907053811/1476372024', u'blocking': False, u'profile_background_image_url': u'http://abs.twimg.com/images/themes/theme1/bg.png', u'screen_name': u'marco_sberla', u'lang': u'it', u'profile_background_tile': False, u'favourites_count': 254, u'name': u'marcosberla', u'notifications': False, u'url': None, u'created_at': u'Thu Oct 15 21:53:01 +0000 2015', u'contributors_enabled': False, u'time_zone': None, u'protected': False, u'default_profile': False, u'is_translator': False}, is_translator=False, geo_enabled=False, entities={u'description': {u'urls': []}}, followers_count=24, protected=False, id_str=u'3907053811', default_profile_image=False, listed_count=0, status=Status(contributors=None, truncated=True, text=u\"Bell'iniziativa! Qui la mappa delle farmacie: https://t.co/jpADAVB0VP \\n#infarmaciaperibambini #Haiti #haitirelief\\u2026 https://t.co/Vrr88cv6MO\", is_quote_status=True, in_reply_to_status_id=None, id=799569647741894656, favorite_count=0, _api=<tweepy.api.API object at 0x7f45deb48110>, source=u'Twitter Web Client', quoted_status_id=799567073915576320, _json={u'contributors': None, u'truncated': True, u'text': u\"Bell'iniziativa! Qui la mappa delle farmacie: https://t.co/jpADAVB0VP \\n#infarmaciaperibambini #Haiti #haitirelief\\u2026 https://t.co/Vrr88cv6MO\", u'is_quote_status': True, u'in_reply_to_status_id': None, u'id': 799569647741894656, u'favorite_count': 0, u'source': u'<a href=\"http://twitter.com\" rel=\"nofollow\">Twitter Web Client</a>', u'quoted_status_id': 799567073915576320, u'retweeted': False, u'coordinates': None, u'entities': {u'symbols': [], u'user_mentions': [], u'hashtags': [{u'indices': [71, 93], u'text': u'infarmaciaperibambini'}, {u'indices': [94, 100], u'text': u'Haiti'}, {u'indices': [101, 113], u'text': u'haitirelief'}], u'urls': [{u'url': u'https://t.co/jpADAVB0VP', u'indices': [46, 69], u'expanded_url': u'https://infarmaciaperibambini.nph-italia.org/farmacie/', u'display_url': u'infarmaciaperibambini.nph-italia.org/farmacie/'}, {u'url': u'https://t.co/Vrr88cv6MO', u'indices': [115, 138], u'expanded_url': u'https://twitter.com/i/web/status/799569647741894656', u'display_url': u'twitter.com/i/web/status/7\\u2026'}]}, u'in_reply_to_screen_name': None, u'in_reply_to_user_id': None, u'retweet_count': 0, u'id_str': u'799569647741894656', u'favorited': False, u'geo': None, u'in_reply_to_user_id_str': None, u'possibly_sensitive': False, u'lang': u'it', u'created_at': u'Fri Nov 18 11:07:13 +0000 2016', u'quoted_status_id_str': u'799567073915576320', u'in_reply_to_status_id_str': None, u'place': None}, coordinates=None, entities={u'symbols': [], u'user_mentions': [], u'hashtags': [{u'indices': [71, 93], u'text': u'infarmaciaperibambini'}, {u'indices': [94, 100], u'text': u'Haiti'}, {u'indices': [101, 113], u'text': u'haitirelief'}], u'urls': [{u'url': u'https://t.co/jpADAVB0VP', u'indices': [46, 69], u'expanded_url': u'https://infarmaciaperibambini.nph-italia.org/farmacie/', u'display_url': u'infarmaciaperibambini.nph-italia.org/farmacie/'}, {u'url': u'https://t.co/Vrr88cv6MO', u'indices': [115, 138], u'expanded_url': u'https://twitter.com/i/web/status/799569647741894656', u'display_url': u'twitter.com/i/web/status/7\\u2026'}]}, in_reply_to_screen_name=None, id_str=u'799569647741894656', retweet_count=0, in_reply_to_user_id=None, favorited=False, source_url=u'http://twitter.com', geo=None, in_reply_to_user_id_str=None, possibly_sensitive=False, lang=u'it', created_at=datetime.datetime(2016, 11, 18, 11, 7, 13), quoted_status_id_str=u'799567073915576320', in_reply_to_status_id_str=None, place=None, retweeted=False), lang=u'it', utc_offset=None, statuses_count=139, profile_background_color=u'000000', friends_count=233, profile_link_color=u'1B95E0', profile_image_url=u'http://pbs.twimg.com/profile_images/654792776383492096/TN0HHnmu_normal.jpg', notifications=False, default_profile=False, profile_background_image_url_https=u'https://abs.twimg.com/images/themes/theme1/bg.png', profile_banner_url=u'https://pbs.twimg.com/profile_banners/3907053811/1476372024', blocking=False, profile_background_image_url=u'http://abs.twimg.com/images/themes/theme1/bg.png', name=u'marcosberla', is_translation_enabled=False, profile_background_tile=False, favourites_count=254, screen_name=u'marco_sberla', url=None, created_at=datetime.datetime(2015, 10, 15, 21, 53, 1), contributors_enabled=False, location=u'', profile_sidebar_border_color=u'000000', translator_type=u'none', following=False),\n",
       " User(follow_request_sent=False, has_extended_profile=False, profile_use_background_image=True, profile_sidebar_fill_color=u'DDEEF6', live_following=False, time_zone=None, id=2472674419, description=u'', _api=<tweepy.api.API object at 0x7f45deb48110>, verified=False, blocked_by=False, profile_text_color=u'333333', muting=False, profile_image_url_https=u'https://pbs.twimg.com/profile_images/763029431120171009/X_7I3it4_normal.jpg', _json={u'follow_request_sent': False, u'has_extended_profile': False, u'profile_use_background_image': True, u'live_following': False, u'default_profile_image': False, u'id': 2472674419, u'profile_background_image_url_https': u'https://abs.twimg.com/images/themes/theme1/bg.png', u'translator_type': u'none', u'verified': False, u'blocked_by': False, u'profile_text_color': u'333333', u'muting': False, u'profile_image_url_https': u'https://pbs.twimg.com/profile_images/763029431120171009/X_7I3it4_normal.jpg', u'profile_sidebar_fill_color': u'DDEEF6', u'entities': {u'description': {u'urls': []}}, u'followers_count': 98, u'profile_sidebar_border_color': u'C0DEED', u'id_str': u'2472674419', u'profile_background_color': u'C0DEED', u'listed_count': 0, u'status': {u'contributors': None, u'truncated': False, u'text': u'#ferrari #greatgp https://t.co/cocx78MYiY', u'is_quote_status': False, u'in_reply_to_status_id': None, u'id': 772710528531783680, u'favorite_count': 26, u'source': u'<a href=\"http://twitter.com/download/android\" rel=\"nofollow\">Twitter for Android</a>', u'retweeted': False, u'coordinates': None, u'entities': {u'symbols': [], u'user_mentions': [], u'hashtags': [{u'indices': [0, 8], u'text': u'ferrari'}, {u'indices': [9, 17], u'text': u'greatgp'}], u'urls': [], u'media': [{u'expanded_url': u'https://twitter.com/RoccoLapennak3/status/772710528531783680/photo/1', u'display_url': u'pic.twitter.com/cocx78MYiY', u'url': u'https://t.co/cocx78MYiY', u'media_url_https': u'https://pbs.twimg.com/media/Crk3_5gXEAQzMEm.jpg', u'id_str': u'772710381978587140', u'sizes': {u'small': {u'h': 454, u'resize': u'fit', u'w': 680}, u'large': {u'h': 1366, u'resize': u'fit', u'w': 2048}, u'medium': {u'h': 800, u'resize': u'fit', u'w': 1200}, u'thumb': {u'h': 150, u'resize': u'crop', u'w': 150}}, u'indices': [18, 41], u'type': u'photo', u'id': 772710381978587140, u'media_url': u'http://pbs.twimg.com/media/Crk3_5gXEAQzMEm.jpg'}]}, u'in_reply_to_screen_name': None, u'in_reply_to_user_id': None, u'retweet_count': 0, u'id_str': u'772710528531783680', u'favorited': False, u'geo': None, u'in_reply_to_user_id_str': None, u'possibly_sensitive': False, u'lang': u'und', u'created_at': u'Mon Sep 05 08:18:40 +0000 2016', u'in_reply_to_status_id_str': None, u'place': None, u'extended_entities': {u'media': [{u'expanded_url': u'https://twitter.com/RoccoLapennak3/status/772710528531783680/photo/1', u'display_url': u'pic.twitter.com/cocx78MYiY', u'url': u'https://t.co/cocx78MYiY', u'media_url_https': u'https://pbs.twimg.com/media/Crk3_5gXEAQzMEm.jpg', u'id_str': u'772710381978587140', u'sizes': {u'small': {u'h': 454, u'resize': u'fit', u'w': 680}, u'large': {u'h': 1366, u'resize': u'fit', u'w': 2048}, u'medium': {u'h': 800, u'resize': u'fit', u'w': 1200}, u'thumb': {u'h': 150, u'resize': u'crop', u'w': 150}}, u'indices': [18, 41], u'type': u'photo', u'id': 772710381978587140, u'media_url': u'http://pbs.twimg.com/media/Crk3_5gXEAQzMEm.jpg'}]}}, u'is_translation_enabled': False, u'utc_offset': None, u'statuses_count': 3, u'description': u'', u'friends_count': 709, u'location': u'', u'profile_link_color': u'1DA1F2', u'profile_image_url': u'http://pbs.twimg.com/profile_images/763029431120171009/X_7I3it4_normal.jpg', u'following': False, u'geo_enabled': False, u'blocking': False, u'profile_background_image_url': u'http://abs.twimg.com/images/themes/theme1/bg.png', u'screen_name': u'RoccoLapennak3', u'lang': u'it', u'profile_background_tile': False, u'favourites_count': 10, u'name': u'Rocco Lapenna', u'notifications': False, u'url': None, u'created_at': u'Thu May 01 15:25:45 +0000 2014', u'contributors_enabled': False, u'time_zone': None, u'protected': False, u'default_profile': True, u'is_translator': False}, is_translator=False, geo_enabled=False, entities={u'description': {u'urls': []}}, followers_count=98, protected=False, id_str=u'2472674419', default_profile_image=False, listed_count=0, status=Status(contributors=None, truncated=False, text=u'#ferrari #greatgp https://t.co/cocx78MYiY', is_quote_status=False, in_reply_to_status_id=None, id=772710528531783680, favorite_count=26, _api=<tweepy.api.API object at 0x7f45deb48110>, source=u'Twitter for Android', _json={u'contributors': None, u'truncated': False, u'text': u'#ferrari #greatgp https://t.co/cocx78MYiY', u'is_quote_status': False, u'in_reply_to_status_id': None, u'id': 772710528531783680, u'favorite_count': 26, u'source': u'<a href=\"http://twitter.com/download/android\" rel=\"nofollow\">Twitter for Android</a>', u'retweeted': False, u'coordinates': None, u'entities': {u'symbols': [], u'user_mentions': [], u'hashtags': [{u'indices': [0, 8], u'text': u'ferrari'}, {u'indices': [9, 17], u'text': u'greatgp'}], u'urls': [], u'media': [{u'expanded_url': u'https://twitter.com/RoccoLapennak3/status/772710528531783680/photo/1', u'display_url': u'pic.twitter.com/cocx78MYiY', u'url': u'https://t.co/cocx78MYiY', u'media_url_https': u'https://pbs.twimg.com/media/Crk3_5gXEAQzMEm.jpg', u'id_str': u'772710381978587140', u'sizes': {u'small': {u'h': 454, u'resize': u'fit', u'w': 680}, u'large': {u'h': 1366, u'resize': u'fit', u'w': 2048}, u'medium': {u'h': 800, u'resize': u'fit', u'w': 1200}, u'thumb': {u'h': 150, u'resize': u'crop', u'w': 150}}, u'indices': [18, 41], u'type': u'photo', u'id': 772710381978587140, u'media_url': u'http://pbs.twimg.com/media/Crk3_5gXEAQzMEm.jpg'}]}, u'in_reply_to_screen_name': None, u'in_reply_to_user_id': None, u'retweet_count': 0, u'id_str': u'772710528531783680', u'favorited': False, u'geo': None, u'in_reply_to_user_id_str': None, u'possibly_sensitive': False, u'lang': u'und', u'created_at': u'Mon Sep 05 08:18:40 +0000 2016', u'in_reply_to_status_id_str': None, u'place': None, u'extended_entities': {u'media': [{u'expanded_url': u'https://twitter.com/RoccoLapennak3/status/772710528531783680/photo/1', u'display_url': u'pic.twitter.com/cocx78MYiY', u'url': u'https://t.co/cocx78MYiY', u'media_url_https': u'https://pbs.twimg.com/media/Crk3_5gXEAQzMEm.jpg', u'id_str': u'772710381978587140', u'sizes': {u'small': {u'h': 454, u'resize': u'fit', u'w': 680}, u'large': {u'h': 1366, u'resize': u'fit', u'w': 2048}, u'medium': {u'h': 800, u'resize': u'fit', u'w': 1200}, u'thumb': {u'h': 150, u'resize': u'crop', u'w': 150}}, u'indices': [18, 41], u'type': u'photo', u'id': 772710381978587140, u'media_url': u'http://pbs.twimg.com/media/Crk3_5gXEAQzMEm.jpg'}]}}, coordinates=None, entities={u'symbols': [], u'user_mentions': [], u'hashtags': [{u'indices': [0, 8], u'text': u'ferrari'}, {u'indices': [9, 17], u'text': u'greatgp'}], u'urls': [], u'media': [{u'expanded_url': u'https://twitter.com/RoccoLapennak3/status/772710528531783680/photo/1', u'display_url': u'pic.twitter.com/cocx78MYiY', u'url': u'https://t.co/cocx78MYiY', u'media_url_https': u'https://pbs.twimg.com/media/Crk3_5gXEAQzMEm.jpg', u'id_str': u'772710381978587140', u'sizes': {u'small': {u'h': 454, u'resize': u'fit', u'w': 680}, u'large': {u'h': 1366, u'resize': u'fit', u'w': 2048}, u'medium': {u'h': 800, u'resize': u'fit', u'w': 1200}, u'thumb': {u'h': 150, u'resize': u'crop', u'w': 150}}, u'indices': [18, 41], u'type': u'photo', u'id': 772710381978587140, u'media_url': u'http://pbs.twimg.com/media/Crk3_5gXEAQzMEm.jpg'}]}, in_reply_to_screen_name=None, id_str=u'772710528531783680', retweet_count=0, in_reply_to_user_id=None, favorited=False, source_url=u'http://twitter.com/download/android', geo=None, in_reply_to_user_id_str=None, possibly_sensitive=False, lang=u'und', created_at=datetime.datetime(2016, 9, 5, 8, 18, 40), in_reply_to_status_id_str=None, place=None, extended_entities={u'media': [{u'expanded_url': u'https://twitter.com/RoccoLapennak3/status/772710528531783680/photo/1', u'display_url': u'pic.twitter.com/cocx78MYiY', u'url': u'https://t.co/cocx78MYiY', u'media_url_https': u'https://pbs.twimg.com/media/Crk3_5gXEAQzMEm.jpg', u'id_str': u'772710381978587140', u'sizes': {u'small': {u'h': 454, u'resize': u'fit', u'w': 680}, u'large': {u'h': 1366, u'resize': u'fit', u'w': 2048}, u'medium': {u'h': 800, u'resize': u'fit', u'w': 1200}, u'thumb': {u'h': 150, u'resize': u'crop', u'w': 150}}, u'indices': [18, 41], u'type': u'photo', u'id': 772710381978587140, u'media_url': u'http://pbs.twimg.com/media/Crk3_5gXEAQzMEm.jpg'}]}, retweeted=False), lang=u'it', utc_offset=None, statuses_count=3, profile_background_color=u'C0DEED', friends_count=709, profile_link_color=u'1DA1F2', profile_image_url=u'http://pbs.twimg.com/profile_images/763029431120171009/X_7I3it4_normal.jpg', notifications=False, default_profile=True, profile_background_image_url_https=u'https://abs.twimg.com/images/themes/theme1/bg.png', blocking=False, profile_background_image_url=u'http://abs.twimg.com/images/themes/theme1/bg.png', name=u'Rocco Lapenna', is_translation_enabled=False, profile_background_tile=False, favourites_count=10, screen_name=u'RoccoLapennak3', url=None, created_at=datetime.datetime(2014, 5, 1, 15, 25, 45), contributors_enabled=False, location=u'', profile_sidebar_border_color=u'C0DEED', translator_type=u'none', following=False),\n",
       " User(follow_request_sent=False, has_extended_profile=True, profile_use_background_image=True, profile_sidebar_fill_color=u'DDEEF6', live_following=False, time_zone=None, id=3406754963, description=u'', _api=<tweepy.api.API object at 0x7f45deb48110>, verified=False, blocked_by=False, profile_text_color=u'333333', muting=False, profile_image_url_https=u'https://pbs.twimg.com/profile_images/725851830945767425/Kcrc5fov_normal.jpg', _json={u'follow_request_sent': False, u'has_extended_profile': True, u'profile_use_background_image': True, u'live_following': False, u'default_profile_image': False, u'id': 3406754963, u'profile_background_image_url_https': u'https://abs.twimg.com/images/themes/theme1/bg.png', u'translator_type': u'none', u'verified': False, u'blocked_by': False, u'profile_text_color': u'333333', u'muting': False, u'profile_image_url_https': u'https://pbs.twimg.com/profile_images/725851830945767425/Kcrc5fov_normal.jpg', u'profile_sidebar_fill_color': u'DDEEF6', u'entities': {u'description': {u'urls': []}}, u'followers_count': 21, u'profile_sidebar_border_color': u'C0DEED', u'id_str': u'3406754963', u'profile_background_color': u'C0DEED', u'listed_count': 2, u'status': {u'contributors': None, u'truncated': False, u'text': u'Transmedia storytelling - segmenti di storia attraverso giusti canali\\nCrossmedia-stesso contenuto tutti i canali \\n#smm17', u'is_quote_status': False, u'in_reply_to_status_id': None, u'id': 799224466752540672, u'favorite_count': 0, u'source': u'<a href=\"http://twitter.com/download/iphone\" rel=\"nofollow\">Twitter for iPhone</a>', u'retweeted': False, u'coordinates': None, u'entities': {u'symbols': [], u'user_mentions': [], u'hashtags': [{u'indices': [114, 120], u'text': u'smm17'}], u'urls': []}, u'in_reply_to_screen_name': None, u'in_reply_to_user_id': None, u'retweet_count': 0, u'id_str': u'799224466752540672', u'favorited': False, u'geo': None, u'in_reply_to_user_id_str': None, u'lang': u'it', u'created_at': u'Thu Nov 17 12:15:36 +0000 2016', u'in_reply_to_status_id_str': None, u'place': None}, u'is_translation_enabled': False, u'utc_offset': None, u'statuses_count': 63, u'description': u'', u'friends_count': 56, u'location': u'', u'profile_link_color': u'1DA1F2', u'profile_image_url': u'http://pbs.twimg.com/profile_images/725851830945767425/Kcrc5fov_normal.jpg', u'following': False, u'geo_enabled': False, u'profile_banner_url': u'https://pbs.twimg.com/profile_banners/3406754963/1461891537', u'blocking': False, u'profile_background_image_url': u'http://abs.twimg.com/images/themes/theme1/bg.png', u'screen_name': u'andreamadonna2', u'lang': u'it', u'profile_background_tile': False, u'favourites_count': 31, u'name': u'andrea madonna', u'notifications': False, u'url': None, u'created_at': u'Fri Aug 07 05:53:03 +0000 2015', u'contributors_enabled': False, u'time_zone': None, u'protected': False, u'default_profile': True, u'is_translator': False}, is_translator=False, geo_enabled=False, entities={u'description': {u'urls': []}}, followers_count=21, protected=False, id_str=u'3406754963', default_profile_image=False, listed_count=2, status=Status(contributors=None, truncated=False, text=u'Transmedia storytelling - segmenti di storia attraverso giusti canali\\nCrossmedia-stesso contenuto tutti i canali \\n#smm17', is_quote_status=False, in_reply_to_status_id=None, id=799224466752540672, favorite_count=0, _api=<tweepy.api.API object at 0x7f45deb48110>, source=u'Twitter for iPhone', _json={u'contributors': None, u'truncated': False, u'text': u'Transmedia storytelling - segmenti di storia attraverso giusti canali\\nCrossmedia-stesso contenuto tutti i canali \\n#smm17', u'is_quote_status': False, u'in_reply_to_status_id': None, u'id': 799224466752540672, u'favorite_count': 0, u'source': u'<a href=\"http://twitter.com/download/iphone\" rel=\"nofollow\">Twitter for iPhone</a>', u'retweeted': False, u'coordinates': None, u'entities': {u'symbols': [], u'user_mentions': [], u'hashtags': [{u'indices': [114, 120], u'text': u'smm17'}], u'urls': []}, u'in_reply_to_screen_name': None, u'in_reply_to_user_id': None, u'retweet_count': 0, u'id_str': u'799224466752540672', u'favorited': False, u'geo': None, u'in_reply_to_user_id_str': None, u'lang': u'it', u'created_at': u'Thu Nov 17 12:15:36 +0000 2016', u'in_reply_to_status_id_str': None, u'place': None}, coordinates=None, entities={u'symbols': [], u'user_mentions': [], u'hashtags': [{u'indices': [114, 120], u'text': u'smm17'}], u'urls': []}, in_reply_to_screen_name=None, id_str=u'799224466752540672', retweet_count=0, in_reply_to_user_id=None, favorited=False, source_url=u'http://twitter.com/download/iphone', geo=None, in_reply_to_user_id_str=None, lang=u'it', created_at=datetime.datetime(2016, 11, 17, 12, 15, 36), in_reply_to_status_id_str=None, place=None, retweeted=False), lang=u'it', utc_offset=None, statuses_count=63, profile_background_color=u'C0DEED', friends_count=56, profile_link_color=u'1DA1F2', profile_image_url=u'http://pbs.twimg.com/profile_images/725851830945767425/Kcrc5fov_normal.jpg', notifications=False, default_profile=True, profile_background_image_url_https=u'https://abs.twimg.com/images/themes/theme1/bg.png', profile_banner_url=u'https://pbs.twimg.com/profile_banners/3406754963/1461891537', blocking=False, profile_background_image_url=u'http://abs.twimg.com/images/themes/theme1/bg.png', name=u'andrea madonna', is_translation_enabled=False, profile_background_tile=False, favourites_count=31, screen_name=u'andreamadonna2', url=None, created_at=datetime.datetime(2015, 8, 7, 5, 53, 3), contributors_enabled=False, location=u'', profile_sidebar_border_color=u'C0DEED', translator_type=u'none', following=False),\n",
       " User(follow_request_sent=False, has_extended_profile=False, profile_use_background_image=True, profile_sidebar_fill_color=u'DDEEF6', live_following=False, time_zone=None, id=794906523306749952, description=u'', _api=<tweepy.api.API object at 0x7f45deb48110>, verified=False, blocked_by=False, profile_text_color=u'333333', muting=False, profile_image_url_https=u'https://pbs.twimg.com/profile_images/799385218562068480/QjTuJL_R_normal.jpg', _json={u'follow_request_sent': False, u'has_extended_profile': False, u'profile_use_background_image': True, u'live_following': False, u'default_profile_image': False, u'id': 794906523306749952, u'profile_background_image_url_https': None, u'translator_type': u'none', u'verified': False, u'blocked_by': False, u'profile_text_color': u'333333', u'muting': False, u'profile_image_url_https': u'https://pbs.twimg.com/profile_images/799385218562068480/QjTuJL_R_normal.jpg', u'profile_sidebar_fill_color': u'DDEEF6', u'entities': {u'description': {u'urls': []}}, u'followers_count': 1, u'profile_sidebar_border_color': u'C0DEED', u'id_str': u'794906523306749952', u'profile_background_color': u'F5F8FA', u'listed_count': 0, u'is_translation_enabled': False, u'utc_offset': None, u'statuses_count': 0, u'description': u'', u'friends_count': 27, u'location': u'', u'profile_link_color': u'1DA1F2', u'profile_image_url': u'http://pbs.twimg.com/profile_images/799385218562068480/QjTuJL_R_normal.jpg', u'following': False, u'geo_enabled': False, u'profile_banner_url': u'https://pbs.twimg.com/profile_banners/794906523306749952/1479423261', u'blocking': False, u'profile_background_image_url': None, u'screen_name': u'Tommaso29044038', u'lang': u'it', u'profile_background_tile': False, u'favourites_count': 0, u'name': u'Tommaso', u'notifications': False, u'url': None, u'created_at': u'Sat Nov 05 14:17:38 +0000 2016', u'contributors_enabled': False, u'time_zone': None, u'protected': False, u'default_profile': True, u'is_translator': False}, is_translator=False, geo_enabled=False, entities={u'description': {u'urls': []}}, followers_count=1, protected=False, id_str=u'794906523306749952', default_profile_image=False, listed_count=0, lang=u'it', utc_offset=None, statuses_count=0, profile_background_color=u'F5F8FA', friends_count=27, profile_link_color=u'1DA1F2', profile_image_url=u'http://pbs.twimg.com/profile_images/799385218562068480/QjTuJL_R_normal.jpg', notifications=False, default_profile=True, profile_background_image_url_https=None, profile_banner_url=u'https://pbs.twimg.com/profile_banners/794906523306749952/1479423261', blocking=False, profile_background_image_url=None, name=u'Tommaso', is_translation_enabled=False, profile_background_tile=False, favourites_count=0, screen_name=u'Tommaso29044038', url=None, created_at=datetime.datetime(2016, 11, 5, 14, 17, 38), contributors_enabled=False, location=u'', profile_sidebar_border_color=u'C0DEED', translator_type=u'none', following=False),\n",
       " User(follow_request_sent=False, has_extended_profile=True, profile_use_background_image=True, profile_sidebar_fill_color=u'DDEEF6', live_following=False, time_zone=None, id=775022256644825088, description=u'', _api=<tweepy.api.API object at 0x7f45deb48110>, verified=False, blocked_by=False, profile_text_color=u'333333', muting=False, profile_image_url_https=u'https://pbs.twimg.com/profile_images/792768696452259840/nmfNchy__normal.jpg', _json={u'follow_request_sent': False, u'has_extended_profile': True, u'profile_use_background_image': True, u'live_following': False, u'default_profile_image': False, u'id': 775022256644825088, u'profile_background_image_url_https': None, u'translator_type': u'none', u'verified': False, u'blocked_by': False, u'profile_text_color': u'333333', u'muting': False, u'profile_image_url_https': u'https://pbs.twimg.com/profile_images/792768696452259840/nmfNchy__normal.jpg', u'profile_sidebar_fill_color': u'DDEEF6', u'entities': {u'description': {u'urls': []}}, u'followers_count': 17, u'profile_sidebar_border_color': u'C0DEED', u'id_str': u'775022256644825088', u'profile_background_color': u'F5F8FA', u'listed_count': 0, u'status': {u'contributors': None, u'truncated': False, u'text': u'RT @MiamiMadeHER: Exactly https://t.co/J7pNAHyB5n', u'is_quote_status': True, u'in_reply_to_status_id': None, u'id': 799616854985740288, u'favorite_count': 0, u'source': u'<a href=\"http://twitter.com/download/android\" rel=\"nofollow\">Twitter for Android</a>', u'quoted_status_id': 799615410719035392, u'retweeted': False, u'coordinates': None, u'entities': {u'symbols': [], u'user_mentions': [{u'id': 319016816, u'indices': [3, 16], u'id_str': u'319016816', u'screen_name': u'MiamiMadeHER', u'name': u'Unfuckwithable.\\u2728'}], u'hashtags': [], u'urls': [{u'url': u'https://t.co/J7pNAHyB5n', u'indices': [26, 49], u'expanded_url': u'https://twitter.com/bewhiteshawty/status/799615410719035392', u'display_url': u'twitter.com/bewhiteshawty/\\u2026'}]}, u'in_reply_to_screen_name': None, u'in_reply_to_user_id': None, u'retweet_count': 2, u'id_str': u'799616854985740288', u'favorited': False, u'retweeted_status': {u'contributors': None, u'truncated': False, u'text': u'Exactly https://t.co/J7pNAHyB5n', u'is_quote_status': True, u'in_reply_to_status_id': None, u'id': 799615649811222528, u'favorite_count': 1, u'source': u'<a href=\"http://twitter.com/download/android\" rel=\"nofollow\">Twitter for Android</a>', u'quoted_status_id': 799615410719035392, u'retweeted': False, u'coordinates': None, u'entities': {u'symbols': [], u'user_mentions': [], u'hashtags': [], u'urls': [{u'url': u'https://t.co/J7pNAHyB5n', u'indices': [8, 31], u'expanded_url': u'https://twitter.com/bewhiteshawty/status/799615410719035392', u'display_url': u'twitter.com/bewhiteshawty/\\u2026'}]}, u'in_reply_to_screen_name': None, u'in_reply_to_user_id': None, u'retweet_count': 2, u'id_str': u'799615649811222528', u'favorited': False, u'geo': None, u'in_reply_to_user_id_str': None, u'possibly_sensitive': False, u'lang': u'en', u'created_at': u'Fri Nov 18 14:10:01 +0000 2016', u'quoted_status_id_str': u'799615410719035392', u'in_reply_to_status_id_str': None, u'place': None}, u'geo': None, u'in_reply_to_user_id_str': None, u'possibly_sensitive': False, u'lang': u'en', u'created_at': u'Fri Nov 18 14:14:49 +0000 2016', u'quoted_status_id_str': u'799615410719035392', u'in_reply_to_status_id_str': None, u'place': None}, u'is_translation_enabled': False, u'utc_offset': None, u'statuses_count': 22, u'description': u'', u'friends_count': 451, u'location': u'', u'profile_link_color': u'1DA1F2', u'profile_image_url': u'http://pbs.twimg.com/profile_images/792768696452259840/nmfNchy__normal.jpg', u'following': False, u'geo_enabled': True, u'profile_banner_url': u'https://pbs.twimg.com/profile_banners/775022256644825088/1479248091', u'blocking': False, u'profile_background_image_url': None, u'screen_name': u'MoussaT31335056', u'lang': u'fr', u'profile_background_tile': False, u'favourites_count': 20, u'name': u'Moussa Traore', u'notifications': False, u'url': None, u'created_at': u'Sun Sep 11 17:24:40 +0000 2016', u'contributors_enabled': False, u'time_zone': None, u'protected': False, u'default_profile': True, u'is_translator': False}, is_translator=False, geo_enabled=True, entities={u'description': {u'urls': []}}, followers_count=17, protected=False, id_str=u'775022256644825088', default_profile_image=False, listed_count=0, status=Status(contributors=None, truncated=False, text=u'RT @MiamiMadeHER: Exactly https://t.co/J7pNAHyB5n', is_quote_status=True, in_reply_to_status_id=None, id=799616854985740288, favorite_count=0, _api=<tweepy.api.API object at 0x7f45deb48110>, source=u'Twitter for Android', quoted_status_id=799615410719035392, _json={u'contributors': None, u'truncated': False, u'text': u'RT @MiamiMadeHER: Exactly https://t.co/J7pNAHyB5n', u'is_quote_status': True, u'in_reply_to_status_id': None, u'id': 799616854985740288, u'favorite_count': 0, u'source': u'<a href=\"http://twitter.com/download/android\" rel=\"nofollow\">Twitter for Android</a>', u'quoted_status_id': 799615410719035392, u'retweeted': False, u'coordinates': None, u'entities': {u'symbols': [], u'user_mentions': [{u'id': 319016816, u'indices': [3, 16], u'id_str': u'319016816', u'screen_name': u'MiamiMadeHER', u'name': u'Unfuckwithable.\\u2728'}], u'hashtags': [], u'urls': [{u'url': u'https://t.co/J7pNAHyB5n', u'indices': [26, 49], u'expanded_url': u'https://twitter.com/bewhiteshawty/status/799615410719035392', u'display_url': u'twitter.com/bewhiteshawty/\\u2026'}]}, u'in_reply_to_screen_name': None, u'in_reply_to_user_id': None, u'retweet_count': 2, u'id_str': u'799616854985740288', u'favorited': False, u'retweeted_status': {u'contributors': None, u'truncated': False, u'text': u'Exactly https://t.co/J7pNAHyB5n', u'is_quote_status': True, u'in_reply_to_status_id': None, u'id': 799615649811222528, u'favorite_count': 1, u'source': u'<a href=\"http://twitter.com/download/android\" rel=\"nofollow\">Twitter for Android</a>', u'quoted_status_id': 799615410719035392, u'retweeted': False, u'coordinates': None, u'entities': {u'symbols': [], u'user_mentions': [], u'hashtags': [], u'urls': [{u'url': u'https://t.co/J7pNAHyB5n', u'indices': [8, 31], u'expanded_url': u'https://twitter.com/bewhiteshawty/status/799615410719035392', u'display_url': u'twitter.com/bewhiteshawty/\\u2026'}]}, u'in_reply_to_screen_name': None, u'in_reply_to_user_id': None, u'retweet_count': 2, u'id_str': u'799615649811222528', u'favorited': False, u'geo': None, u'in_reply_to_user_id_str': None, u'possibly_sensitive': False, u'lang': u'en', u'created_at': u'Fri Nov 18 14:10:01 +0000 2016', u'quoted_status_id_str': u'799615410719035392', u'in_reply_to_status_id_str': None, u'place': None}, u'geo': None, u'in_reply_to_user_id_str': None, u'possibly_sensitive': False, u'lang': u'en', u'created_at': u'Fri Nov 18 14:14:49 +0000 2016', u'quoted_status_id_str': u'799615410719035392', u'in_reply_to_status_id_str': None, u'place': None}, coordinates=None, entities={u'symbols': [], u'user_mentions': [{u'id': 319016816, u'indices': [3, 16], u'id_str': u'319016816', u'screen_name': u'MiamiMadeHER', u'name': u'Unfuckwithable.\\u2728'}], u'hashtags': [], u'urls': [{u'url': u'https://t.co/J7pNAHyB5n', u'indices': [26, 49], u'expanded_url': u'https://twitter.com/bewhiteshawty/status/799615410719035392', u'display_url': u'twitter.com/bewhiteshawty/\\u2026'}]}, in_reply_to_screen_name=None, id_str=u'799616854985740288', retweet_count=2, in_reply_to_user_id=None, favorited=False, retweeted_status=Status(contributors=None, truncated=False, text=u'Exactly https://t.co/J7pNAHyB5n', is_quote_status=True, in_reply_to_status_id=None, id=799615649811222528, favorite_count=1, _api=<tweepy.api.API object at 0x7f45deb48110>, source=u'Twitter for Android', quoted_status_id=799615410719035392, _json={u'contributors': None, u'truncated': False, u'text': u'Exactly https://t.co/J7pNAHyB5n', u'is_quote_status': True, u'in_reply_to_status_id': None, u'id': 799615649811222528, u'favorite_count': 1, u'source': u'<a href=\"http://twitter.com/download/android\" rel=\"nofollow\">Twitter for Android</a>', u'quoted_status_id': 799615410719035392, u'retweeted': False, u'coordinates': None, u'entities': {u'symbols': [], u'user_mentions': [], u'hashtags': [], u'urls': [{u'url': u'https://t.co/J7pNAHyB5n', u'indices': [8, 31], u'expanded_url': u'https://twitter.com/bewhiteshawty/status/799615410719035392', u'display_url': u'twitter.com/bewhiteshawty/\\u2026'}]}, u'in_reply_to_screen_name': None, u'in_reply_to_user_id': None, u'retweet_count': 2, u'id_str': u'799615649811222528', u'favorited': False, u'geo': None, u'in_reply_to_user_id_str': None, u'possibly_sensitive': False, u'lang': u'en', u'created_at': u'Fri Nov 18 14:10:01 +0000 2016', u'quoted_status_id_str': u'799615410719035392', u'in_reply_to_status_id_str': None, u'place': None}, coordinates=None, entities={u'symbols': [], u'user_mentions': [], u'hashtags': [], u'urls': [{u'url': u'https://t.co/J7pNAHyB5n', u'indices': [8, 31], u'expanded_url': u'https://twitter.com/bewhiteshawty/status/799615410719035392', u'display_url': u'twitter.com/bewhiteshawty/\\u2026'}]}, in_reply_to_screen_name=None, id_str=u'799615649811222528', retweet_count=2, in_reply_to_user_id=None, favorited=False, source_url=u'http://twitter.com/download/android', geo=None, in_reply_to_user_id_str=None, possibly_sensitive=False, lang=u'en', created_at=datetime.datetime(2016, 11, 18, 14, 10, 1), quoted_status_id_str=u'799615410719035392', in_reply_to_status_id_str=None, place=None, retweeted=False), source_url=u'http://twitter.com/download/android', geo=None, in_reply_to_user_id_str=None, possibly_sensitive=False, lang=u'en', created_at=datetime.datetime(2016, 11, 18, 14, 14, 49), quoted_status_id_str=u'799615410719035392', in_reply_to_status_id_str=None, place=None, retweeted=False), lang=u'fr', utc_offset=None, statuses_count=22, profile_background_color=u'F5F8FA', friends_count=451, profile_link_color=u'1DA1F2', profile_image_url=u'http://pbs.twimg.com/profile_images/792768696452259840/nmfNchy__normal.jpg', notifications=False, default_profile=True, profile_background_image_url_https=None, profile_banner_url=u'https://pbs.twimg.com/profile_banners/775022256644825088/1479248091', blocking=False, profile_background_image_url=None, name=u'Moussa Traore', is_translation_enabled=False, profile_background_tile=False, favourites_count=20, screen_name=u'MoussaT31335056', url=None, created_at=datetime.datetime(2016, 9, 11, 17, 24, 40), contributors_enabled=False, location=u'', profile_sidebar_border_color=u'C0DEED', translator_type=u'none', following=False),\n",
       " User(follow_request_sent=False, has_extended_profile=False, profile_use_background_image=True, profile_sidebar_fill_color=u'DDEEF6', live_following=False, time_zone=None, id=2943882130, description=u'', _api=<tweepy.api.API object at 0x7f45deb48110>, verified=False, blocked_by=False, profile_text_color=u'333333', muting=False, profile_image_url_https=u'https://pbs.twimg.com/profile_images/785020866144894976/jH8N0vm2_normal.jpg', _json={u'follow_request_sent': False, u'has_extended_profile': False, u'profile_use_background_image': True, u'live_following': False, u'default_profile_image': False, u'id': 2943882130, u'profile_background_image_url_https': u'https://abs.twimg.com/images/themes/theme1/bg.png', u'translator_type': u'none', u'verified': False, u'blocked_by': False, u'profile_text_color': u'333333', u'muting': False, u'profile_image_url_https': u'https://pbs.twimg.com/profile_images/785020866144894976/jH8N0vm2_normal.jpg', u'profile_sidebar_fill_color': u'DDEEF6', u'entities': {u'description': {u'urls': []}}, u'followers_count': 27, u'profile_sidebar_border_color': u'C0DEED', u'id_str': u'2943882130', u'profile_background_color': u'C0DEED', u'listed_count': 0, u'status': {u'contributors': None, u'truncated': False, u'text': u'Ciao https://t.co/LSqDZlShQi', u'is_quote_status': False, u'in_reply_to_status_id': None, u'id': 797976727574183940, u'favorite_count': 1, u'source': u'<a href=\"http://twitter.com/download/android\" rel=\"nofollow\">Twitter for Android</a>', u'retweeted': False, u'coordinates': None, u'entities': {u'symbols': [], u'user_mentions': [], u'hashtags': [], u'urls': [], u'media': [{u'expanded_url': u'https://twitter.com/c940567cd281404/status/797976727574183940/photo/1', u'display_url': u'pic.twitter.com/LSqDZlShQi', u'url': u'https://t.co/LSqDZlShQi', u'media_url_https': u'https://pbs.twimg.com/media/CxL7XT9XAAAOArN.jpg', u'id_str': u'797976461911195648', u'sizes': {u'large': {u'h': 1280, u'resize': u'fit', u'w': 960}, u'small': {u'h': 680, u'resize': u'fit', u'w': 510}, u'medium': {u'h': 1200, u'resize': u'fit', u'w': 900}, u'thumb': {u'h': 150, u'resize': u'crop', u'w': 150}}, u'indices': [5, 28], u'type': u'photo', u'id': 797976461911195648, u'media_url': u'http://pbs.twimg.com/media/CxL7XT9XAAAOArN.jpg'}]}, u'in_reply_to_screen_name': None, u'in_reply_to_user_id': None, u'retweet_count': 0, u'id_str': u'797976727574183940', u'favorited': False, u'geo': None, u'in_reply_to_user_id_str': None, u'possibly_sensitive': False, u'lang': u'it', u'created_at': u'Mon Nov 14 01:37:32 +0000 2016', u'in_reply_to_status_id_str': None, u'place': None, u'extended_entities': {u'media': [{u'expanded_url': u'https://twitter.com/c940567cd281404/status/797976727574183940/photo/1', u'display_url': u'pic.twitter.com/LSqDZlShQi', u'url': u'https://t.co/LSqDZlShQi', u'media_url_https': u'https://pbs.twimg.com/media/CxL7XT9XAAAOArN.jpg', u'id_str': u'797976461911195648', u'sizes': {u'large': {u'h': 1280, u'resize': u'fit', u'w': 960}, u'small': {u'h': 680, u'resize': u'fit', u'w': 510}, u'medium': {u'h': 1200, u'resize': u'fit', u'w': 900}, u'thumb': {u'h': 150, u'resize': u'crop', u'w': 150}}, u'indices': [5, 28], u'type': u'photo', u'id': 797976461911195648, u'media_url': u'http://pbs.twimg.com/media/CxL7XT9XAAAOArN.jpg'}]}}, u'is_translation_enabled': False, u'utc_offset': None, u'statuses_count': 13, u'description': u'', u'friends_count': 444, u'location': u'', u'profile_link_color': u'1DA1F2', u'profile_image_url': u'http://pbs.twimg.com/profile_images/785020866144894976/jH8N0vm2_normal.jpg', u'following': False, u'geo_enabled': False, u'profile_banner_url': u'https://pbs.twimg.com/profile_banners/2943882130/1475440038', u'blocking': False, u'profile_background_image_url': u'http://abs.twimg.com/images/themes/theme1/bg.png', u'screen_name': u'c940567cd281404', u'lang': u'it', u'profile_background_tile': False, u'favourites_count': 105, u'name': u'Muhammad Waseem', u'notifications': False, u'url': None, u'created_at': u'Sat Dec 27 14:17:46 +0000 2014', u'contributors_enabled': False, u'time_zone': None, u'protected': False, u'default_profile': True, u'is_translator': False}, is_translator=False, geo_enabled=False, entities={u'description': {u'urls': []}}, followers_count=27, protected=False, id_str=u'2943882130', default_profile_image=False, listed_count=0, status=Status(contributors=None, truncated=False, text=u'Ciao https://t.co/LSqDZlShQi', is_quote_status=False, in_reply_to_status_id=None, id=797976727574183940, favorite_count=1, _api=<tweepy.api.API object at 0x7f45deb48110>, source=u'Twitter for Android', _json={u'contributors': None, u'truncated': False, u'text': u'Ciao https://t.co/LSqDZlShQi', u'is_quote_status': False, u'in_reply_to_status_id': None, u'id': 797976727574183940, u'favorite_count': 1, u'source': u'<a href=\"http://twitter.com/download/android\" rel=\"nofollow\">Twitter for Android</a>', u'retweeted': False, u'coordinates': None, u'entities': {u'symbols': [], u'user_mentions': [], u'hashtags': [], u'urls': [], u'media': [{u'expanded_url': u'https://twitter.com/c940567cd281404/status/797976727574183940/photo/1', u'display_url': u'pic.twitter.com/LSqDZlShQi', u'url': u'https://t.co/LSqDZlShQi', u'media_url_https': u'https://pbs.twimg.com/media/CxL7XT9XAAAOArN.jpg', u'id_str': u'797976461911195648', u'sizes': {u'large': {u'h': 1280, u'resize': u'fit', u'w': 960}, u'small': {u'h': 680, u'resize': u'fit', u'w': 510}, u'medium': {u'h': 1200, u'resize': u'fit', u'w': 900}, u'thumb': {u'h': 150, u'resize': u'crop', u'w': 150}}, u'indices': [5, 28], u'type': u'photo', u'id': 797976461911195648, u'media_url': u'http://pbs.twimg.com/media/CxL7XT9XAAAOArN.jpg'}]}, u'in_reply_to_screen_name': None, u'in_reply_to_user_id': None, u'retweet_count': 0, u'id_str': u'797976727574183940', u'favorited': False, u'geo': None, u'in_reply_to_user_id_str': None, u'possibly_sensitive': False, u'lang': u'it', u'created_at': u'Mon Nov 14 01:37:32 +0000 2016', u'in_reply_to_status_id_str': None, u'place': None, u'extended_entities': {u'media': [{u'expanded_url': u'https://twitter.com/c940567cd281404/status/797976727574183940/photo/1', u'display_url': u'pic.twitter.com/LSqDZlShQi', u'url': u'https://t.co/LSqDZlShQi', u'media_url_https': u'https://pbs.twimg.com/media/CxL7XT9XAAAOArN.jpg', u'id_str': u'797976461911195648', u'sizes': {u'large': {u'h': 1280, u'resize': u'fit', u'w': 960}, u'small': {u'h': 680, u'resize': u'fit', u'w': 510}, u'medium': {u'h': 1200, u'resize': u'fit', u'w': 900}, u'thumb': {u'h': 150, u'resize': u'crop', u'w': 150}}, u'indices': [5, 28], u'type': u'photo', u'id': 797976461911195648, u'media_url': u'http://pbs.twimg.com/media/CxL7XT9XAAAOArN.jpg'}]}}, coordinates=None, entities={u'symbols': [], u'user_mentions': [], u'hashtags': [], u'urls': [], u'media': [{u'expanded_url': u'https://twitter.com/c940567cd281404/status/797976727574183940/photo/1', u'display_url': u'pic.twitter.com/LSqDZlShQi', u'url': u'https://t.co/LSqDZlShQi', u'media_url_https': u'https://pbs.twimg.com/media/CxL7XT9XAAAOArN.jpg', u'id_str': u'797976461911195648', u'sizes': {u'large': {u'h': 1280, u'resize': u'fit', u'w': 960}, u'small': {u'h': 680, u'resize': u'fit', u'w': 510}, u'medium': {u'h': 1200, u'resize': u'fit', u'w': 900}, u'thumb': {u'h': 150, u'resize': u'crop', u'w': 150}}, u'indices': [5, 28], u'type': u'photo', u'id': 797976461911195648, u'media_url': u'http://pbs.twimg.com/media/CxL7XT9XAAAOArN.jpg'}]}, in_reply_to_screen_name=None, id_str=u'797976727574183940', retweet_count=0, in_reply_to_user_id=None, favorited=False, source_url=u'http://twitter.com/download/android', geo=None, in_reply_to_user_id_str=None, possibly_sensitive=False, lang=u'it', created_at=datetime.datetime(2016, 11, 14, 1, 37, 32), in_reply_to_status_id_str=None, place=None, extended_entities={u'media': [{u'expanded_url': u'https://twitter.com/c940567cd281404/status/797976727574183940/photo/1', u'display_url': u'pic.twitter.com/LSqDZlShQi', u'url': u'https://t.co/LSqDZlShQi', u'media_url_https': u'https://pbs.twimg.com/media/CxL7XT9XAAAOArN.jpg', u'id_str': u'797976461911195648', u'sizes': {u'large': {u'h': 1280, u'resize': u'fit', u'w': 960}, u'small': {u'h': 680, u'resize': u'fit', u'w': 510}, u'medium': {u'h': 1200, u'resize': u'fit', u'w': 900}, u'thumb': {u'h': 150, u'resize': u'crop', u'w': 150}}, u'indices': [5, 28], u'type': u'photo', u'id': 797976461911195648, u'media_url': u'http://pbs.twimg.com/media/CxL7XT9XAAAOArN.jpg'}]}, retweeted=False), lang=u'it', utc_offset=None, statuses_count=13, profile_background_color=u'C0DEED', friends_count=444, profile_link_color=u'1DA1F2', profile_image_url=u'http://pbs.twimg.com/profile_images/785020866144894976/jH8N0vm2_normal.jpg', notifications=False, default_profile=True, profile_background_image_url_https=u'https://abs.twimg.com/images/themes/theme1/bg.png', profile_banner_url=u'https://pbs.twimg.com/profile_banners/2943882130/1475440038', blocking=False, profile_background_image_url=u'http://abs.twimg.com/images/themes/theme1/bg.png', name=u'Muhammad Waseem', is_translation_enabled=False, profile_background_tile=False, favourites_count=105, screen_name=u'c940567cd281404', url=None, created_at=datetime.datetime(2014, 12, 27, 14, 17, 46), contributors_enabled=False, location=u'', profile_sidebar_border_color=u'C0DEED', translator_type=u'none', following=False),\n",
       " User(follow_request_sent=False, has_extended_profile=True, profile_use_background_image=True, profile_sidebar_fill_color=u'DDEEF6', live_following=False, time_zone=u'Ljubljana', id=359157949, description=u'', _api=<tweepy.api.API object at 0x7f45deb48110>, verified=False, blocked_by=False, profile_text_color=u'333333', muting=False, profile_image_url_https=u'https://pbs.twimg.com/profile_images/738657783642529792/bdoRDNzR_normal.jpg', _json={u'follow_request_sent': False, u'has_extended_profile': True, u'profile_use_background_image': True, u'live_following': False, u'default_profile_image': False, u'id': 359157949, u'profile_background_image_url_https': u'https://abs.twimg.com/images/themes/theme1/bg.png', u'translator_type': u'none', u'verified': False, u'blocked_by': False, u'profile_text_color': u'333333', u'muting': False, u'profile_image_url_https': u'https://pbs.twimg.com/profile_images/738657783642529792/bdoRDNzR_normal.jpg', u'profile_sidebar_fill_color': u'DDEEF6', u'entities': {u'description': {u'urls': []}}, u'followers_count': 31, u'profile_sidebar_border_color': u'C0DEED', u'id_str': u'359157949', u'profile_background_color': u'C0DEED', u'listed_count': 0, u'is_translation_enabled': False, u'utc_offset': 3600, u'statuses_count': 173, u'description': u'', u'friends_count': 575, u'location': u\"Reggio nell'Emilia, Emilia Rom\", u'profile_link_color': u'1DA1F2', u'profile_image_url': u'http://pbs.twimg.com/profile_images/738657783642529792/bdoRDNzR_normal.jpg', u'following': False, u'geo_enabled': False, u'profile_banner_url': u'https://pbs.twimg.com/profile_banners/359157949/1456333755', u'blocking': False, u'profile_background_image_url': u'http://abs.twimg.com/images/themes/theme1/bg.png', u'screen_name': u'Sheraz_gujjar87', u'lang': u'it', u'profile_background_tile': False, u'favourites_count': 61, u'name': u'Ch Sheraz Ahmad', u'notifications': False, u'url': None, u'created_at': u'Sun Aug 21 03:32:43 +0000 2011', u'contributors_enabled': False, u'time_zone': u'Ljubljana', u'protected': True, u'default_profile': True, u'is_translator': False}, is_translator=False, geo_enabled=False, entities={u'description': {u'urls': []}}, followers_count=31, protected=True, id_str=u'359157949', default_profile_image=False, listed_count=0, lang=u'it', utc_offset=3600, statuses_count=173, profile_background_color=u'C0DEED', friends_count=575, profile_link_color=u'1DA1F2', profile_image_url=u'http://pbs.twimg.com/profile_images/738657783642529792/bdoRDNzR_normal.jpg', notifications=False, default_profile=True, profile_background_image_url_https=u'https://abs.twimg.com/images/themes/theme1/bg.png', profile_banner_url=u'https://pbs.twimg.com/profile_banners/359157949/1456333755', blocking=False, profile_background_image_url=u'http://abs.twimg.com/images/themes/theme1/bg.png', name=u'Ch Sheraz Ahmad', is_translation_enabled=False, profile_background_tile=False, favourites_count=61, screen_name=u'Sheraz_gujjar87', url=None, created_at=datetime.datetime(2011, 8, 21, 3, 32, 43), contributors_enabled=False, location=u\"Reggio nell'Emilia, Emilia Rom\", profile_sidebar_border_color=u'C0DEED', translator_type=u'none', following=False),\n",
       " User(follow_request_sent=False, has_extended_profile=True, profile_use_background_image=True, profile_sidebar_fill_color=u'DDEEF6', live_following=False, time_zone=None, id=585623695, description=u'', _api=<tweepy.api.API object at 0x7f45deb48110>, verified=False, blocked_by=False, profile_text_color=u'333333', muting=False, profile_image_url_https=u'https://pbs.twimg.com/profile_images/2234672253/image_normal.jpg', _json={u'follow_request_sent': False, u'has_extended_profile': True, u'profile_use_background_image': True, u'live_following': False, u'default_profile_image': False, u'id': 585623695, u'profile_background_image_url_https': u'https://abs.twimg.com/images/themes/theme1/bg.png', u'translator_type': u'none', u'verified': False, u'blocked_by': False, u'profile_text_color': u'333333', u'muting': False, u'profile_image_url_https': u'https://pbs.twimg.com/profile_images/2234672253/image_normal.jpg', u'profile_sidebar_fill_color': u'DDEEF6', u'entities': {u'description': {u'urls': []}}, u'followers_count': 45, u'profile_sidebar_border_color': u'C0DEED', u'id_str': u'585623695', u'profile_background_color': u'C0DEED', u'listed_count': 0, u'status': {u'contributors': None, u'truncated': False, u'text': u'RT @Pescara_VAVEL: #TerremotoCentroItalia: La Propagazione Delle Onde Sismiche Durata Pi\\xf9 Di 2 Minuti. IL VIDEO #INGV https://t.co/wpdpgdGJ\\u2026', u'is_quote_status': False, u'in_reply_to_status_id': None, u'id': 793019814264578048, u'favorite_count': 0, u'source': u'<a href=\"http://twitter.com/download/iphone\" rel=\"nofollow\">Twitter for iPhone</a>', u'retweeted': False, u'coordinates': None, u'entities': {u'symbols': [], u'user_mentions': [{u'id': 904246076, u'indices': [3, 17], u'id_str': u'904246076', u'screen_name': u'Pescara_VAVEL', u'name': u'Pescara VAVEL'}], u'hashtags': [{u'indices': [19, 41], u'text': u'TerremotoCentroItalia'}, {u'indices': [112, 117], u'text': u'INGV'}], u'urls': []}, u'in_reply_to_screen_name': None, u'in_reply_to_user_id': None, u'retweet_count': 1, u'id_str': u'793019814264578048', u'favorited': False, u'retweeted_status': {u'contributors': None, u'truncated': False, u'text': u'#TerremotoCentroItalia: La Propagazione Delle Onde Sismiche Durata Pi\\xf9 Di 2 Minuti. IL VIDEO #INGV https://t.co/wpdpgdGJ3R', u'is_quote_status': False, u'in_reply_to_status_id': None, u'id': 793018953224245251, u'favorite_count': 0, u'source': u'<a href=\"http://dlvr.it\" rel=\"nofollow\">dlvr.it</a>', u'retweeted': False, u'coordinates': None, u'entities': {u'symbols': [], u'user_mentions': [], u'hashtags': [{u'indices': [0, 22], u'text': u'TerremotoCentroItalia'}, {u'indices': [93, 98], u'text': u'INGV'}], u'urls': [{u'url': u'https://t.co/wpdpgdGJ3R', u'indices': [99, 122], u'expanded_url': u'http://dlvr.it/MYpMrh', u'display_url': u'dlvr.it/MYpMrh'}]}, u'in_reply_to_screen_name': None, u'in_reply_to_user_id': None, u'retweet_count': 1, u'id_str': u'793018953224245251', u'favorited': False, u'geo': None, u'in_reply_to_user_id_str': None, u'possibly_sensitive': False, u'lang': u'it', u'created_at': u'Mon Oct 31 09:17:06 +0000 2016', u'in_reply_to_status_id_str': None, u'place': None}, u'geo': None, u'in_reply_to_user_id_str': None, u'lang': u'it', u'created_at': u'Mon Oct 31 09:20:31 +0000 2016', u'in_reply_to_status_id_str': None, u'place': None}, u'is_translation_enabled': False, u'utc_offset': None, u'statuses_count': 10, u'description': u'', u'friends_count': 557, u'location': u'', u'profile_link_color': u'1DA1F2', u'profile_image_url': u'http://pbs.twimg.com/profile_images/2234672253/image_normal.jpg', u'following': False, u'geo_enabled': False, u'blocking': False, u'profile_background_image_url': u'http://abs.twimg.com/images/themes/theme1/bg.png', u'screen_name': u'monicapaus', u'lang': u'it', u'profile_background_tile': False, u'favourites_count': 18, u'name': u'monica pauselli', u'notifications': False, u'url': None, u'created_at': u'Sun May 20 12:15:22 +0000 2012', u'contributors_enabled': False, u'time_zone': None, u'protected': False, u'default_profile': True, u'is_translator': False}, is_translator=False, geo_enabled=False, entities={u'description': {u'urls': []}}, followers_count=45, protected=False, id_str=u'585623695', default_profile_image=False, listed_count=0, status=Status(contributors=None, truncated=False, text=u'RT @Pescara_VAVEL: #TerremotoCentroItalia: La Propagazione Delle Onde Sismiche Durata Pi\\xf9 Di 2 Minuti. IL VIDEO #INGV https://t.co/wpdpgdGJ\\u2026', is_quote_status=False, in_reply_to_status_id=None, id=793019814264578048, favorite_count=0, _api=<tweepy.api.API object at 0x7f45deb48110>, source=u'Twitter for iPhone', _json={u'contributors': None, u'truncated': False, u'text': u'RT @Pescara_VAVEL: #TerremotoCentroItalia: La Propagazione Delle Onde Sismiche Durata Pi\\xf9 Di 2 Minuti. IL VIDEO #INGV https://t.co/wpdpgdGJ\\u2026', u'is_quote_status': False, u'in_reply_to_status_id': None, u'id': 793019814264578048, u'favorite_count': 0, u'source': u'<a href=\"http://twitter.com/download/iphone\" rel=\"nofollow\">Twitter for iPhone</a>', u'retweeted': False, u'coordinates': None, u'entities': {u'symbols': [], u'user_mentions': [{u'id': 904246076, u'indices': [3, 17], u'id_str': u'904246076', u'screen_name': u'Pescara_VAVEL', u'name': u'Pescara VAVEL'}], u'hashtags': [{u'indices': [19, 41], u'text': u'TerremotoCentroItalia'}, {u'indices': [112, 117], u'text': u'INGV'}], u'urls': []}, u'in_reply_to_screen_name': None, u'in_reply_to_user_id': None, u'retweet_count': 1, u'id_str': u'793019814264578048', u'favorited': False, u'retweeted_status': {u'contributors': None, u'truncated': False, u'text': u'#TerremotoCentroItalia: La Propagazione Delle Onde Sismiche Durata Pi\\xf9 Di 2 Minuti. IL VIDEO #INGV https://t.co/wpdpgdGJ3R', u'is_quote_status': False, u'in_reply_to_status_id': None, u'id': 793018953224245251, u'favorite_count': 0, u'source': u'<a href=\"http://dlvr.it\" rel=\"nofollow\">dlvr.it</a>', u'retweeted': False, u'coordinates': None, u'entities': {u'symbols': [], u'user_mentions': [], u'hashtags': [{u'indices': [0, 22], u'text': u'TerremotoCentroItalia'}, {u'indices': [93, 98], u'text': u'INGV'}], u'urls': [{u'url': u'https://t.co/wpdpgdGJ3R', u'indices': [99, 122], u'expanded_url': u'http://dlvr.it/MYpMrh', u'display_url': u'dlvr.it/MYpMrh'}]}, u'in_reply_to_screen_name': None, u'in_reply_to_user_id': None, u'retweet_count': 1, u'id_str': u'793018953224245251', u'favorited': False, u'geo': None, u'in_reply_to_user_id_str': None, u'possibly_sensitive': False, u'lang': u'it', u'created_at': u'Mon Oct 31 09:17:06 +0000 2016', u'in_reply_to_status_id_str': None, u'place': None}, u'geo': None, u'in_reply_to_user_id_str': None, u'lang': u'it', u'created_at': u'Mon Oct 31 09:20:31 +0000 2016', u'in_reply_to_status_id_str': None, u'place': None}, coordinates=None, entities={u'symbols': [], u'user_mentions': [{u'id': 904246076, u'indices': [3, 17], u'id_str': u'904246076', u'screen_name': u'Pescara_VAVEL', u'name': u'Pescara VAVEL'}], u'hashtags': [{u'indices': [19, 41], u'text': u'TerremotoCentroItalia'}, {u'indices': [112, 117], u'text': u'INGV'}], u'urls': []}, in_reply_to_screen_name=None, id_str=u'793019814264578048', retweet_count=1, in_reply_to_user_id=None, favorited=False, retweeted_status=Status(contributors=None, truncated=False, text=u'#TerremotoCentroItalia: La Propagazione Delle Onde Sismiche Durata Pi\\xf9 Di 2 Minuti. IL VIDEO #INGV https://t.co/wpdpgdGJ3R', is_quote_status=False, in_reply_to_status_id=None, id=793018953224245251, favorite_count=0, _api=<tweepy.api.API object at 0x7f45deb48110>, source=u'dlvr.it', _json={u'contributors': None, u'truncated': False, u'text': u'#TerremotoCentroItalia: La Propagazione Delle Onde Sismiche Durata Pi\\xf9 Di 2 Minuti. IL VIDEO #INGV https://t.co/wpdpgdGJ3R', u'is_quote_status': False, u'in_reply_to_status_id': None, u'id': 793018953224245251, u'favorite_count': 0, u'source': u'<a href=\"http://dlvr.it\" rel=\"nofollow\">dlvr.it</a>', u'retweeted': False, u'coordinates': None, u'entities': {u'symbols': [], u'user_mentions': [], u'hashtags': [{u'indices': [0, 22], u'text': u'TerremotoCentroItalia'}, {u'indices': [93, 98], u'text': u'INGV'}], u'urls': [{u'url': u'https://t.co/wpdpgdGJ3R', u'indices': [99, 122], u'expanded_url': u'http://dlvr.it/MYpMrh', u'display_url': u'dlvr.it/MYpMrh'}]}, u'in_reply_to_screen_name': None, u'in_reply_to_user_id': None, u'retweet_count': 1, u'id_str': u'793018953224245251', u'favorited': False, u'geo': None, u'in_reply_to_user_id_str': None, u'possibly_sensitive': False, u'lang': u'it', u'created_at': u'Mon Oct 31 09:17:06 +0000 2016', u'in_reply_to_status_id_str': None, u'place': None}, coordinates=None, entities={u'symbols': [], u'user_mentions': [], u'hashtags': [{u'indices': [0, 22], u'text': u'TerremotoCentroItalia'}, {u'indices': [93, 98], u'text': u'INGV'}], u'urls': [{u'url': u'https://t.co/wpdpgdGJ3R', u'indices': [99, 122], u'expanded_url': u'http://dlvr.it/MYpMrh', u'display_url': u'dlvr.it/MYpMrh'}]}, in_reply_to_screen_name=None, id_str=u'793018953224245251', retweet_count=1, in_reply_to_user_id=None, favorited=False, source_url=u'http://dlvr.it', geo=None, in_reply_to_user_id_str=None, possibly_sensitive=False, lang=u'it', created_at=datetime.datetime(2016, 10, 31, 9, 17, 6), in_reply_to_status_id_str=None, place=None, retweeted=False), source_url=u'http://twitter.com/download/iphone', geo=None, in_reply_to_user_id_str=None, lang=u'it', created_at=datetime.datetime(2016, 10, 31, 9, 20, 31), in_reply_to_status_id_str=None, place=None, retweeted=False), lang=u'it', utc_offset=None, statuses_count=10, profile_background_color=u'C0DEED', friends_count=557, profile_link_color=u'1DA1F2', profile_image_url=u'http://pbs.twimg.com/profile_images/2234672253/image_normal.jpg', notifications=False, default_profile=True, profile_background_image_url_https=u'https://abs.twimg.com/images/themes/theme1/bg.png', blocking=False, profile_background_image_url=u'http://abs.twimg.com/images/themes/theme1/bg.png', name=u'monica pauselli', is_translation_enabled=False, profile_background_tile=False, favourites_count=18, screen_name=u'monicapaus', url=None, created_at=datetime.datetime(2012, 5, 20, 12, 15, 22), contributors_enabled=False, location=u'', profile_sidebar_border_color=u'C0DEED', translator_type=u'none', following=False),\n",
       " User(follow_request_sent=False, has_extended_profile=False, profile_use_background_image=False, profile_sidebar_fill_color=u'000000', live_following=False, time_zone=None, id=797410921777860608, description=u'South African retail banking executive. Excited by #Fintech, drives #data analytics, a #consumer #lending specialist believes in #FinancialInclusion. #dataviz', _api=<tweepy.api.API object at 0x7f45deb48110>, verified=False, blocked_by=False, profile_text_color=u'000000', muting=False, profile_image_url_https=u'https://pbs.twimg.com/profile_images/798602254664237057/N124NBRM_normal.jpg', _json={u'follow_request_sent': False, u'has_extended_profile': False, u'profile_use_background_image': False, u'live_following': False, u'default_profile_image': False, u'id': 797410921777860608, u'profile_background_image_url_https': u'https://abs.twimg.com/images/themes/theme1/bg.png', u'translator_type': u'none', u'verified': False, u'blocked_by': False, u'profile_text_color': u'000000', u'muting': False, u'profile_image_url_https': u'https://pbs.twimg.com/profile_images/798602254664237057/N124NBRM_normal.jpg', u'profile_sidebar_fill_color': u'000000', u'entities': {u'description': {u'urls': []}}, u'followers_count': 305, u'profile_sidebar_border_color': u'000000', u'id_str': u'797410921777860608', u'profile_background_color': u'000000', u'listed_count': 22, u'status': {u'contributors': None, u'truncated': False, u'text': u'RT @JimMarous: Great start to day:\\nAngela Mhlanga from @StandardBankZA discusses how BancAssurance delivers an exceptional #digital experie\\u2026', u'is_quote_status': False, u'in_reply_to_status_id': None, u'id': 799556769173438464, u'favorite_count': 0, u'source': u'<a href=\"http://twitter.com/download/iphone\" rel=\"nofollow\">Twitter for iPhone</a>', u'retweeted': False, u'coordinates': None, u'entities': {u'symbols': [], u'user_mentions': [{u'id': 16137442, u'indices': [3, 13], u'id_str': u'16137442', u'screen_name': u'JimMarous', u'name': u'Jim Marous'}, {u'id': 56980888, u'indices': [55, 70], u'id_str': u'56980888', u'screen_name': u'StandardBankZA', u'name': u'Standard Bank SA'}], u'hashtags': [{u'indices': [123, 131], u'text': u'digital'}], u'urls': []}, u'in_reply_to_screen_name': None, u'in_reply_to_user_id': None, u'retweet_count': 4, u'id_str': u'799556769173438464', u'favorited': False, u'retweeted_status': {u'contributors': None, u'truncated': True, u'text': u'Great start to day:\\nAngela Mhlanga from @StandardBankZA discusses how BancAssurance delivers an exceptional\\u2026 https://t.co/ubKuAn5m8W', u'is_quote_status': False, u'in_reply_to_status_id': None, u'id': 799543299145166850, u'favorite_count': 1, u'source': u'<a href=\"http://twitter.com/download/iphone\" rel=\"nofollow\">Twitter for iPhone</a>', u'retweeted': False, u'coordinates': None, u'entities': {u'symbols': [], u'user_mentions': [{u'id': 56980888, u'indices': [40, 55], u'id_str': u'56980888', u'screen_name': u'StandardBankZA', u'name': u'Standard Bank SA'}], u'hashtags': [], u'urls': [{u'url': u'https://t.co/ubKuAn5m8W', u'indices': [109, 132], u'expanded_url': u'https://twitter.com/i/web/status/799543299145166850', u'display_url': u'twitter.com/i/web/status/7\\u2026'}]}, u'in_reply_to_screen_name': None, u'in_reply_to_user_id': None, u'retweet_count': 4, u'id_str': u'799543299145166850', u'favorited': False, u'geo': None, u'in_reply_to_user_id_str': None, u'possibly_sensitive': False, u'lang': u'en', u'created_at': u'Fri Nov 18 09:22:31 +0000 2016', u'in_reply_to_status_id_str': None, u'place': None}, u'geo': None, u'in_reply_to_user_id_str': None, u'lang': u'en', u'created_at': u'Fri Nov 18 10:16:03 +0000 2016', u'in_reply_to_status_id_str': None, u'place': None}, u'is_translation_enabled': False, u'utc_offset': None, u'statuses_count': 109, u'description': u'South African retail banking executive. Excited by #Fintech, drives #data analytics, a #consumer #lending specialist believes in #FinancialInclusion. #dataviz', u'friends_count': 1771, u'location': u'Cape Town, South Africa', u'profile_link_color': u'ABB8C2', u'profile_image_url': u'http://pbs.twimg.com/profile_images/798602254664237057/N124NBRM_normal.jpg', u'following': False, u'geo_enabled': False, u'profile_banner_url': u'https://pbs.twimg.com/profile_banners/797410921777860608/1478963175', u'blocking': False, u'profile_background_image_url': u'http://abs.twimg.com/images/themes/theme1/bg.png', u'screen_name': u'thiruvilasen', u'lang': u'en', u'profile_background_tile': False, u'favourites_count': 102, u'name': u'Thiru Pillay', u'notifications': False, u'url': None, u'created_at': u'Sat Nov 12 12:09:13 +0000 2016', u'contributors_enabled': False, u'time_zone': None, u'protected': False, u'default_profile': False, u'is_translator': False}, is_translator=False, geo_enabled=False, entities={u'description': {u'urls': []}}, followers_count=305, protected=False, id_str=u'797410921777860608', default_profile_image=False, listed_count=22, status=Status(contributors=None, truncated=False, text=u'RT @JimMarous: Great start to day:\\nAngela Mhlanga from @StandardBankZA discusses how BancAssurance delivers an exceptional #digital experie\\u2026', is_quote_status=False, in_reply_to_status_id=None, id=799556769173438464, favorite_count=0, _api=<tweepy.api.API object at 0x7f45deb48110>, source=u'Twitter for iPhone', _json={u'contributors': None, u'truncated': False, u'text': u'RT @JimMarous: Great start to day:\\nAngela Mhlanga from @StandardBankZA discusses how BancAssurance delivers an exceptional #digital experie\\u2026', u'is_quote_status': False, u'in_reply_to_status_id': None, u'id': 799556769173438464, u'favorite_count': 0, u'source': u'<a href=\"http://twitter.com/download/iphone\" rel=\"nofollow\">Twitter for iPhone</a>', u'retweeted': False, u'coordinates': None, u'entities': {u'symbols': [], u'user_mentions': [{u'id': 16137442, u'indices': [3, 13], u'id_str': u'16137442', u'screen_name': u'JimMarous', u'name': u'Jim Marous'}, {u'id': 56980888, u'indices': [55, 70], u'id_str': u'56980888', u'screen_name': u'StandardBankZA', u'name': u'Standard Bank SA'}], u'hashtags': [{u'indices': [123, 131], u'text': u'digital'}], u'urls': []}, u'in_reply_to_screen_name': None, u'in_reply_to_user_id': None, u'retweet_count': 4, u'id_str': u'799556769173438464', u'favorited': False, u'retweeted_status': {u'contributors': None, u'truncated': True, u'text': u'Great start to day:\\nAngela Mhlanga from @StandardBankZA discusses how BancAssurance delivers an exceptional\\u2026 https://t.co/ubKuAn5m8W', u'is_quote_status': False, u'in_reply_to_status_id': None, u'id': 799543299145166850, u'favorite_count': 1, u'source': u'<a href=\"http://twitter.com/download/iphone\" rel=\"nofollow\">Twitter for iPhone</a>', u'retweeted': False, u'coordinates': None, u'entities': {u'symbols': [], u'user_mentions': [{u'id': 56980888, u'indices': [40, 55], u'id_str': u'56980888', u'screen_name': u'StandardBankZA', u'name': u'Standard Bank SA'}], u'hashtags': [], u'urls': [{u'url': u'https://t.co/ubKuAn5m8W', u'indices': [109, 132], u'expanded_url': u'https://twitter.com/i/web/status/799543299145166850', u'display_url': u'twitter.com/i/web/status/7\\u2026'}]}, u'in_reply_to_screen_name': None, u'in_reply_to_user_id': None, u'retweet_count': 4, u'id_str': u'799543299145166850', u'favorited': False, u'geo': None, u'in_reply_to_user_id_str': None, u'possibly_sensitive': False, u'lang': u'en', u'created_at': u'Fri Nov 18 09:22:31 +0000 2016', u'in_reply_to_status_id_str': None, u'place': None}, u'geo': None, u'in_reply_to_user_id_str': None, u'lang': u'en', u'created_at': u'Fri Nov 18 10:16:03 +0000 2016', u'in_reply_to_status_id_str': None, u'place': None}, coordinates=None, entities={u'symbols': [], u'user_mentions': [{u'id': 16137442, u'indices': [3, 13], u'id_str': u'16137442', u'screen_name': u'JimMarous', u'name': u'Jim Marous'}, {u'id': 56980888, u'indices': [55, 70], u'id_str': u'56980888', u'screen_name': u'StandardBankZA', u'name': u'Standard Bank SA'}], u'hashtags': [{u'indices': [123, 131], u'text': u'digital'}], u'urls': []}, in_reply_to_screen_name=None, id_str=u'799556769173438464', retweet_count=4, in_reply_to_user_id=None, favorited=False, retweeted_status=Status(contributors=None, truncated=True, text=u'Great start to day:\\nAngela Mhlanga from @StandardBankZA discusses how BancAssurance delivers an exceptional\\u2026 https://t.co/ubKuAn5m8W', is_quote_status=False, in_reply_to_status_id=None, id=799543299145166850, favorite_count=1, _api=<tweepy.api.API object at 0x7f45deb48110>, source=u'Twitter for iPhone', _json={u'contributors': None, u'truncated': True, u'text': u'Great start to day:\\nAngela Mhlanga from @StandardBankZA discusses how BancAssurance delivers an exceptional\\u2026 https://t.co/ubKuAn5m8W', u'is_quote_status': False, u'in_reply_to_status_id': None, u'id': 799543299145166850, u'favorite_count': 1, u'source': u'<a href=\"http://twitter.com/download/iphone\" rel=\"nofollow\">Twitter for iPhone</a>', u'retweeted': False, u'coordinates': None, u'entities': {u'symbols': [], u'user_mentions': [{u'id': 56980888, u'indices': [40, 55], u'id_str': u'56980888', u'screen_name': u'StandardBankZA', u'name': u'Standard Bank SA'}], u'hashtags': [], u'urls': [{u'url': u'https://t.co/ubKuAn5m8W', u'indices': [109, 132], u'expanded_url': u'https://twitter.com/i/web/status/799543299145166850', u'display_url': u'twitter.com/i/web/status/7\\u2026'}]}, u'in_reply_to_screen_name': None, u'in_reply_to_user_id': None, u'retweet_count': 4, u'id_str': u'799543299145166850', u'favorited': False, u'geo': None, u'in_reply_to_user_id_str': None, u'possibly_sensitive': False, u'lang': u'en', u'created_at': u'Fri Nov 18 09:22:31 +0000 2016', u'in_reply_to_status_id_str': None, u'place': None}, coordinates=None, entities={u'symbols': [], u'user_mentions': [{u'id': 56980888, u'indices': [40, 55], u'id_str': u'56980888', u'screen_name': u'StandardBankZA', u'name': u'Standard Bank SA'}], u'hashtags': [], u'urls': [{u'url': u'https://t.co/ubKuAn5m8W', u'indices': [109, 132], u'expanded_url': u'https://twitter.com/i/web/status/799543299145166850', u'display_url': u'twitter.com/i/web/status/7\\u2026'}]}, in_reply_to_screen_name=None, id_str=u'799543299145166850', retweet_count=4, in_reply_to_user_id=None, favorited=False, source_url=u'http://twitter.com/download/iphone', geo=None, in_reply_to_user_id_str=None, possibly_sensitive=False, lang=u'en', created_at=datetime.datetime(2016, 11, 18, 9, 22, 31), in_reply_to_status_id_str=None, place=None, retweeted=False), source_url=u'http://twitter.com/download/iphone', geo=None, in_reply_to_user_id_str=None, lang=u'en', created_at=datetime.datetime(2016, 11, 18, 10, 16, 3), in_reply_to_status_id_str=None, place=None, retweeted=False), lang=u'en', utc_offset=None, statuses_count=109, profile_background_color=u'000000', friends_count=1771, profile_link_color=u'ABB8C2', profile_image_url=u'http://pbs.twimg.com/profile_images/798602254664237057/N124NBRM_normal.jpg', notifications=False, default_profile=False, profile_background_image_url_https=u'https://abs.twimg.com/images/themes/theme1/bg.png', profile_banner_url=u'https://pbs.twimg.com/profile_banners/797410921777860608/1478963175', blocking=False, profile_background_image_url=u'http://abs.twimg.com/images/themes/theme1/bg.png', name=u'Thiru Pillay', is_translation_enabled=False, profile_background_tile=False, favourites_count=102, screen_name=u'thiruvilasen', url=None, created_at=datetime.datetime(2016, 11, 12, 12, 9, 13), contributors_enabled=False, location=u'Cape Town, South Africa', profile_sidebar_border_color=u'000000', translator_type=u'none', following=False),\n",
       " User(follow_request_sent=False, has_extended_profile=False, profile_use_background_image=True, profile_sidebar_fill_color=u'252429', live_following=False, time_zone=u'Rome', id=268228482, description=u'Designer. Achiever. 25. Sterminate ogni pensiero razionale (W.B.)', _api=<tweepy.api.API object at 0x7f45deb48110>, verified=False, blocked_by=False, profile_text_color=u'666666', muting=False, profile_image_url_https=u'https://pbs.twimg.com/profile_images/781060584670367745/aSFF24HG_normal.jpg', _json={u'follow_request_sent': False, u'has_extended_profile': False, u'profile_use_background_image': True, u'live_following': False, u'default_profile_image': False, u'id': 268228482, u'profile_background_image_url_https': u'https://abs.twimg.com/images/themes/theme9/bg.gif', u'translator_type': u'none', u'verified': False, u'blocked_by': False, u'profile_text_color': u'666666', u'muting': False, u'profile_image_url_https': u'https://pbs.twimg.com/profile_images/781060584670367745/aSFF24HG_normal.jpg', u'profile_sidebar_fill_color': u'252429', u'entities': {u'url': {u'urls': [{u'url': u'https://t.co/wJ4iMtBcZr', u'indices': [0, 23], u'expanded_url': u'http://www.2l2t.it', u'display_url': u'2l2t.it'}]}, u'description': {u'urls': []}}, u'followers_count': 114, u'profile_sidebar_border_color': u'FFFFFF', u'id_str': u'268228482', u'profile_background_color': u'1A1B1F', u'listed_count': 13, u'status': {u'contributors': None, u'truncated': False, u'text': u'\\u201cTelling the user\\u2019s story\\u201d by @christianrick https://t.co/hvq1J9BfV7 #storytelling #ux', u'is_quote_status': False, u'in_reply_to_status_id': None, u'id': 799363825447354368, u'favorite_count': 7, u'source': u'<a href=\"http://twitter.com\" rel=\"nofollow\">Twitter Web Client</a>', u'retweeted': False, u'coordinates': None, u'entities': {u'symbols': [], u'user_mentions': [{u'id': 44577332, u'indices': [30, 44], u'id_str': u'44577332', u'screen_name': u'christianrick', u'name': u'Christian Rick'}], u'hashtags': [{u'indices': [69, 82], u'text': u'storytelling'}, {u'indices': [83, 86], u'text': u'ux'}], u'urls': [{u'url': u'https://t.co/hvq1J9BfV7', u'indices': [45, 68], u'expanded_url': u'https://uxdesign.cc/telling-the-users-story-b64619b6636e#.4gcd20f4w', u'display_url': u'uxdesign.cc/telling-the-us\\u2026'}]}, u'in_reply_to_screen_name': None, u'in_reply_to_user_id': None, u'retweet_count': 1, u'id_str': u'799363825447354368', u'favorited': False, u'geo': None, u'in_reply_to_user_id_str': None, u'possibly_sensitive': False, u'lang': u'en', u'created_at': u'Thu Nov 17 21:29:22 +0000 2016', u'in_reply_to_status_id_str': None, u'place': None}, u'is_translation_enabled': False, u'utc_offset': 3600, u'statuses_count': 848, u'description': u'Designer. Achiever. 25. Sterminate ogni pensiero razionale (W.B.)', u'friends_count': 320, u'location': u'Italia', u'profile_link_color': u'19CF86', u'profile_image_url': u'http://pbs.twimg.com/profile_images/781060584670367745/aSFF24HG_normal.jpg', u'following': False, u'geo_enabled': True, u'blocking': False, u'profile_background_image_url': u'http://abs.twimg.com/images/themes/theme9/bg.gif', u'screen_name': u'fabersince991', u'lang': u'it', u'profile_background_tile': False, u'favourites_count': 80, u'name': u'Fabrizio Ponzelletti', u'notifications': False, u'url': u'https://t.co/wJ4iMtBcZr', u'created_at': u'Fri Mar 18 11:10:35 +0000 2011', u'contributors_enabled': False, u'time_zone': u'Rome', u'protected': False, u'default_profile': False, u'is_translator': False}, is_translator=False, geo_enabled=True, entities={u'url': {u'urls': [{u'url': u'https://t.co/wJ4iMtBcZr', u'indices': [0, 23], u'expanded_url': u'http://www.2l2t.it', u'display_url': u'2l2t.it'}]}, u'description': {u'urls': []}}, followers_count=114, protected=False, id_str=u'268228482', default_profile_image=False, listed_count=13, status=Status(contributors=None, truncated=False, text=u'\\u201cTelling the user\\u2019s story\\u201d by @christianrick https://t.co/hvq1J9BfV7 #storytelling #ux', is_quote_status=False, in_reply_to_status_id=None, id=799363825447354368, favorite_count=7, _api=<tweepy.api.API object at 0x7f45deb48110>, source=u'Twitter Web Client', _json={u'contributors': None, u'truncated': False, u'text': u'\\u201cTelling the user\\u2019s story\\u201d by @christianrick https://t.co/hvq1J9BfV7 #storytelling #ux', u'is_quote_status': False, u'in_reply_to_status_id': None, u'id': 799363825447354368, u'favorite_count': 7, u'source': u'<a href=\"http://twitter.com\" rel=\"nofollow\">Twitter Web Client</a>', u'retweeted': False, u'coordinates': None, u'entities': {u'symbols': [], u'user_mentions': [{u'id': 44577332, u'indices': [30, 44], u'id_str': u'44577332', u'screen_name': u'christianrick', u'name': u'Christian Rick'}], u'hashtags': [{u'indices': [69, 82], u'text': u'storytelling'}, {u'indices': [83, 86], u'text': u'ux'}], u'urls': [{u'url': u'https://t.co/hvq1J9BfV7', u'indices': [45, 68], u'expanded_url': u'https://uxdesign.cc/telling-the-users-story-b64619b6636e#.4gcd20f4w', u'display_url': u'uxdesign.cc/telling-the-us\\u2026'}]}, u'in_reply_to_screen_name': None, u'in_reply_to_user_id': None, u'retweet_count': 1, u'id_str': u'799363825447354368', u'favorited': False, u'geo': None, u'in_reply_to_user_id_str': None, u'possibly_sensitive': False, u'lang': u'en', u'created_at': u'Thu Nov 17 21:29:22 +0000 2016', u'in_reply_to_status_id_str': None, u'place': None}, coordinates=None, entities={u'symbols': [], u'user_mentions': [{u'id': 44577332, u'indices': [30, 44], u'id_str': u'44577332', u'screen_name': u'christianrick', u'name': u'Christian Rick'}], u'hashtags': [{u'indices': [69, 82], u'text': u'storytelling'}, {u'indices': [83, 86], u'text': u'ux'}], u'urls': [{u'url': u'https://t.co/hvq1J9BfV7', u'indices': [45, 68], u'expanded_url': u'https://uxdesign.cc/telling-the-users-story-b64619b6636e#.4gcd20f4w', u'display_url': u'uxdesign.cc/telling-the-us\\u2026'}]}, in_reply_to_screen_name=None, id_str=u'799363825447354368', retweet_count=1, in_reply_to_user_id=None, favorited=False, source_url=u'http://twitter.com', geo=None, in_reply_to_user_id_str=None, possibly_sensitive=False, lang=u'en', created_at=datetime.datetime(2016, 11, 17, 21, 29, 22), in_reply_to_status_id_str=None, place=None, retweeted=False), lang=u'it', utc_offset=3600, statuses_count=848, profile_background_color=u'1A1B1F', friends_count=320, profile_link_color=u'19CF86', profile_image_url=u'http://pbs.twimg.com/profile_images/781060584670367745/aSFF24HG_normal.jpg', notifications=False, default_profile=False, profile_background_image_url_https=u'https://abs.twimg.com/images/themes/theme9/bg.gif', blocking=False, profile_background_image_url=u'http://abs.twimg.com/images/themes/theme9/bg.gif', name=u'Fabrizio Ponzelletti', is_translation_enabled=False, profile_background_tile=False, favourites_count=80, screen_name=u'fabersince991', url=u'https://t.co/wJ4iMtBcZr', created_at=datetime.datetime(2011, 3, 18, 11, 10, 35), contributors_enabled=False, location=u'Italia', profile_sidebar_border_color=u'FFFFFF', translator_type=u'none', following=False),\n",
       " User(follow_request_sent=False, has_extended_profile=False, profile_use_background_image=True, profile_sidebar_fill_color=u'DDEEF6', live_following=False, time_zone=None, id=789788444486733824, description=u\"La vita \\xe8 come un albero di natale c'\\xe8 sempre qualcuno che rompe le palle\", _api=<tweepy.api.API object at 0x7f45deb48110>, verified=False, blocked_by=False, profile_text_color=u'333333', muting=False, profile_image_url_https=u'https://pbs.twimg.com/profile_images/789789639615909888/deihH0mN_normal.jpg', _json={u'follow_request_sent': False, u'has_extended_profile': False, u'profile_use_background_image': True, u'live_following': False, u'default_profile_image': False, u'id': 789788444486733824, u'profile_background_image_url_https': None, u'translator_type': u'none', u'verified': False, u'blocked_by': False, u'profile_text_color': u'333333', u'muting': False, u'profile_image_url_https': u'https://pbs.twimg.com/profile_images/789789639615909888/deihH0mN_normal.jpg', u'profile_sidebar_fill_color': u'DDEEF6', u'entities': {u'description': {u'urls': []}}, u'followers_count': 28, u'profile_sidebar_border_color': u'C0DEED', u'id_str': u'789788444486733824', u'profile_background_color': u'F5F8FA', u'listed_count': 0, u'status': {u'contributors': None, u'truncated': False, u'text': u'Puoi essere un mio follower  jack https://t.co/BfPGo26V4q', u'is_quote_status': True, u'in_reply_to_status_id': None, u'id': 799605874155290624, u'favorite_count': 0, u'source': u'<a href=\"http://twitter.com/download/android\" rel=\"nofollow\">Twitter for Android</a>', u'quoted_status_id': 799366027427586048, u'retweeted': False, u'coordinates': None, u'entities': {u'symbols': [], u'user_mentions': [], u'hashtags': [], u'urls': [{u'url': u'https://t.co/BfPGo26V4q', u'indices': [34, 57], u'expanded_url': u'https://twitter.com/NobileJack/status/799366027427586048', u'display_url': u'twitter.com/NobileJack/sta\\u2026'}]}, u'in_reply_to_screen_name': None, u'in_reply_to_user_id': None, u'retweet_count': 0, u'id_str': u'799605874155290624', u'favorited': False, u'geo': None, u'in_reply_to_user_id_str': None, u'possibly_sensitive': False, u'lang': u'it', u'created_at': u'Fri Nov 18 13:31:11 +0000 2016', u'quoted_status_id_str': u'799366027427586048', u'in_reply_to_status_id_str': None, u'place': None}, u'is_translation_enabled': False, u'utc_offset': None, u'statuses_count': 13, u'description': u\"La vita \\xe8 come un albero di natale c'\\xe8 sempre qualcuno che rompe le palle\", u'friends_count': 376, u'location': u'', u'profile_link_color': u'1DA1F2', u'profile_image_url': u'http://pbs.twimg.com/profile_images/789789639615909888/deihH0mN_normal.jpg', u'following': False, u'geo_enabled': False, u'blocking': False, u'profile_background_image_url': None, u'screen_name': u'marcomccall11', u'lang': u'it', u'profile_background_tile': False, u'favourites_count': 48, u'name': u'Marco Nard\\xf2', u'notifications': False, u'url': None, u'created_at': u'Sat Oct 22 11:20:13 +0000 2016', u'contributors_enabled': False, u'time_zone': None, u'protected': False, u'default_profile': True, u'is_translator': False}, is_translator=False, geo_enabled=False, entities={u'description': {u'urls': []}}, followers_count=28, protected=False, id_str=u'789788444486733824', default_profile_image=False, listed_count=0, status=Status(contributors=None, truncated=False, text=u'Puoi essere un mio follower  jack https://t.co/BfPGo26V4q', is_quote_status=True, in_reply_to_status_id=None, id=799605874155290624, favorite_count=0, _api=<tweepy.api.API object at 0x7f45deb48110>, source=u'Twitter for Android', quoted_status_id=799366027427586048, _json={u'contributors': None, u'truncated': False, u'text': u'Puoi essere un mio follower  jack https://t.co/BfPGo26V4q', u'is_quote_status': True, u'in_reply_to_status_id': None, u'id': 799605874155290624, u'favorite_count': 0, u'source': u'<a href=\"http://twitter.com/download/android\" rel=\"nofollow\">Twitter for Android</a>', u'quoted_status_id': 799366027427586048, u'retweeted': False, u'coordinates': None, u'entities': {u'symbols': [], u'user_mentions': [], u'hashtags': [], u'urls': [{u'url': u'https://t.co/BfPGo26V4q', u'indices': [34, 57], u'expanded_url': u'https://twitter.com/NobileJack/status/799366027427586048', u'display_url': u'twitter.com/NobileJack/sta\\u2026'}]}, u'in_reply_to_screen_name': None, u'in_reply_to_user_id': None, u'retweet_count': 0, u'id_str': u'799605874155290624', u'favorited': False, u'geo': None, u'in_reply_to_user_id_str': None, u'possibly_sensitive': False, u'lang': u'it', u'created_at': u'Fri Nov 18 13:31:11 +0000 2016', u'quoted_status_id_str': u'799366027427586048', u'in_reply_to_status_id_str': None, u'place': None}, coordinates=None, entities={u'symbols': [], u'user_mentions': [], u'hashtags': [], u'urls': [{u'url': u'https://t.co/BfPGo26V4q', u'indices': [34, 57], u'expanded_url': u'https://twitter.com/NobileJack/status/799366027427586048', u'display_url': u'twitter.com/NobileJack/sta\\u2026'}]}, in_reply_to_screen_name=None, id_str=u'799605874155290624', retweet_count=0, in_reply_to_user_id=None, favorited=False, source_url=u'http://twitter.com/download/android', geo=None, in_reply_to_user_id_str=None, possibly_sensitive=False, lang=u'it', created_at=datetime.datetime(2016, 11, 18, 13, 31, 11), quoted_status_id_str=u'799366027427586048', in_reply_to_status_id_str=None, place=None, retweeted=False), lang=u'it', utc_offset=None, statuses_count=13, profile_background_color=u'F5F8FA', friends_count=376, profile_link_color=u'1DA1F2', profile_image_url=u'http://pbs.twimg.com/profile_images/789789639615909888/deihH0mN_normal.jpg', notifications=False, default_profile=True, profile_background_image_url_https=None, blocking=False, profile_background_image_url=None, name=u'Marco Nard\\xf2', is_translation_enabled=False, profile_background_tile=False, favourites_count=48, screen_name=u'marcomccall11', url=None, created_at=datetime.datetime(2016, 10, 22, 11, 20, 13), contributors_enabled=False, location=u'', profile_sidebar_border_color=u'C0DEED', translator_type=u'none', following=False),\n",
       " User(follow_request_sent=False, has_extended_profile=False, profile_use_background_image=False, profile_sidebar_fill_color=u'000000', live_following=False, time_zone=u'Athens', id=96963956, description=u'Questo \\xe8 il mio account originale. Anche se a volte sono meglio le imitazioni. (Papaleo) \\u263a\\n\\nTweets from me signed \\u2013D', _api=<tweepy.api.API object at 0x7f45deb48110>, verified=False, blocked_by=False, profile_text_color=u'000000', muting=False, profile_image_url_https=u'https://pbs.twimg.com/profile_images/1803038390/dario055_normal.JPG', _json={u'follow_request_sent': False, u'has_extended_profile': False, u'profile_use_background_image': False, u'live_following': False, u'default_profile_image': False, u'id': 96963956, u'profile_background_image_url_https': u'https://abs.twimg.com/images/themes/theme16/bg.gif', u'translator_type': u'none', u'verified': False, u'blocked_by': False, u'profile_text_color': u'000000', u'muting': False, u'profile_image_url_https': u'https://pbs.twimg.com/profile_images/1803038390/dario055_normal.JPG', u'profile_sidebar_fill_color': u'000000', u'entities': {u'url': {u'urls': [{u'url': u'https://t.co/zvlMqr4ezb', u'indices': [0, 23], u'expanded_url': u'http://bit.ly/23cGsLT', u'display_url': u'bit.ly/23cGsLT'}]}, u'description': {u'urls': []}}, u'followers_count': 138, u'profile_sidebar_border_color': u'000000', u'id_str': u'96963956', u'profile_background_color': u'000000', u'listed_count': 12, u'status': {u'contributors': None, u'truncated': False, u'text': u'RT @Stanford: Nariman Farsad has built a chemical texting system that sends messages through pulses of glass cleaner and vinegar. https://t\\u2026', u'is_quote_status': False, u'in_reply_to_status_id': None, u'id': 798764314928648193, u'favorite_count': 0, u'source': u'<a href=\"http://twitter.com/download/android\" rel=\"nofollow\">Twitter for Android</a>', u'retweeted': False, u'coordinates': None, u'entities': {u'symbols': [], u'user_mentions': [{u'id': 18036441, u'indices': [3, 12], u'id_str': u'18036441', u'screen_name': u'Stanford', u'name': u'Stanford University'}], u'hashtags': [], u'urls': []}, u'in_reply_to_screen_name': None, u'in_reply_to_user_id': None, u'retweet_count': 64, u'id_str': u'798764314928648193', u'favorited': False, u'retweeted_status': {u'contributors': None, u'truncated': True, u'text': u'Nariman Farsad has built a chemical texting system that sends messages through pulses of glass cleaner and vinegar.\\u2026 https://t.co/Or8cmxmAXU', u'is_quote_status': False, u'in_reply_to_status_id': None, u'id': 798626839627345920, u'favorite_count': 110, u'source': u'<a href=\"http://www.socialflow.com\" rel=\"nofollow\">SocialFlow</a>', u'retweeted': False, u'coordinates': None, u'entities': {u'symbols': [], u'user_mentions': [], u'hashtags': [], u'urls': [{u'url': u'https://t.co/Or8cmxmAXU', u'indices': [117, 140], u'expanded_url': u'https://twitter.com/i/web/status/798626839627345920', u'display_url': u'twitter.com/i/web/status/7\\u2026'}]}, u'in_reply_to_screen_name': None, u'in_reply_to_user_id': None, u'retweet_count': 64, u'id_str': u'798626839627345920', u'favorited': False, u'geo': None, u'in_reply_to_user_id_str': None, u'possibly_sensitive': False, u'lang': u'en', u'created_at': u'Tue Nov 15 20:40:50 +0000 2016', u'in_reply_to_status_id_str': None, u'place': None}, u'geo': None, u'in_reply_to_user_id_str': None, u'lang': u'en', u'created_at': u'Wed Nov 16 05:47:07 +0000 2016', u'in_reply_to_status_id_str': None, u'place': None}, u'is_translation_enabled': False, u'utc_offset': 7200, u'statuses_count': 788, u'description': u'Questo \\xe8 il mio account originale. Anche se a volte sono meglio le imitazioni. (Papaleo) \\u263a\\n\\nTweets from me signed \\u2013D', u'friends_count': 521, u'location': u'Ms3', u'profile_link_color': u'3B94D9', u'profile_image_url': u'http://pbs.twimg.com/profile_images/1803038390/dario055_normal.JPG', u'following': False, u'geo_enabled': True, u'profile_banner_url': u'https://pbs.twimg.com/profile_banners/96963956/1443385720', u'blocking': False, u'profile_background_image_url': u'http://abs.twimg.com/images/themes/theme16/bg.gif', u'screen_name': u'dariomasiero', u'lang': u'en', u'profile_background_tile': False, u'favourites_count': 926, u'name': u'Dario Masiero', u'notifications': False, u'url': u'https://t.co/zvlMqr4ezb', u'created_at': u'Tue Dec 15 11:35:24 +0000 2009', u'contributors_enabled': False, u'time_zone': u'Athens', u'protected': False, u'default_profile': False, u'is_translator': False}, is_translator=False, geo_enabled=True, entities={u'url': {u'urls': [{u'url': u'https://t.co/zvlMqr4ezb', u'indices': [0, 23], u'expanded_url': u'http://bit.ly/23cGsLT', u'display_url': u'bit.ly/23cGsLT'}]}, u'description': {u'urls': []}}, followers_count=138, protected=False, id_str=u'96963956', default_profile_image=False, listed_count=12, status=Status(contributors=None, truncated=False, text=u'RT @Stanford: Nariman Farsad has built a chemical texting system that sends messages through pulses of glass cleaner and vinegar. https://t\\u2026', is_quote_status=False, in_reply_to_status_id=None, id=798764314928648193, favorite_count=0, _api=<tweepy.api.API object at 0x7f45deb48110>, source=u'Twitter for Android', _json={u'contributors': None, u'truncated': False, u'text': u'RT @Stanford: Nariman Farsad has built a chemical texting system that sends messages through pulses of glass cleaner and vinegar. https://t\\u2026', u'is_quote_status': False, u'in_reply_to_status_id': None, u'id': 798764314928648193, u'favorite_count': 0, u'source': u'<a href=\"http://twitter.com/download/android\" rel=\"nofollow\">Twitter for Android</a>', u'retweeted': False, u'coordinates': None, u'entities': {u'symbols': [], u'user_mentions': [{u'id': 18036441, u'indices': [3, 12], u'id_str': u'18036441', u'screen_name': u'Stanford', u'name': u'Stanford University'}], u'hashtags': [], u'urls': []}, u'in_reply_to_screen_name': None, u'in_reply_to_user_id': None, u'retweet_count': 64, u'id_str': u'798764314928648193', u'favorited': False, u'retweeted_status': {u'contributors': None, u'truncated': True, u'text': u'Nariman Farsad has built a chemical texting system that sends messages through pulses of glass cleaner and vinegar.\\u2026 https://t.co/Or8cmxmAXU', u'is_quote_status': False, u'in_reply_to_status_id': None, u'id': 798626839627345920, u'favorite_count': 110, u'source': u'<a href=\"http://www.socialflow.com\" rel=\"nofollow\">SocialFlow</a>', u'retweeted': False, u'coordinates': None, u'entities': {u'symbols': [], u'user_mentions': [], u'hashtags': [], u'urls': [{u'url': u'https://t.co/Or8cmxmAXU', u'indices': [117, 140], u'expanded_url': u'https://twitter.com/i/web/status/798626839627345920', u'display_url': u'twitter.com/i/web/status/7\\u2026'}]}, u'in_reply_to_screen_name': None, u'in_reply_to_user_id': None, u'retweet_count': 64, u'id_str': u'798626839627345920', u'favorited': False, u'geo': None, u'in_reply_to_user_id_str': None, u'possibly_sensitive': False, u'lang': u'en', u'created_at': u'Tue Nov 15 20:40:50 +0000 2016', u'in_reply_to_status_id_str': None, u'place': None}, u'geo': None, u'in_reply_to_user_id_str': None, u'lang': u'en', u'created_at': u'Wed Nov 16 05:47:07 +0000 2016', u'in_reply_to_status_id_str': None, u'place': None}, coordinates=None, entities={u'symbols': [], u'user_mentions': [{u'id': 18036441, u'indices': [3, 12], u'id_str': u'18036441', u'screen_name': u'Stanford', u'name': u'Stanford University'}], u'hashtags': [], u'urls': []}, in_reply_to_screen_name=None, id_str=u'798764314928648193', retweet_count=64, in_reply_to_user_id=None, favorited=False, retweeted_status=Status(contributors=None, truncated=True, text=u'Nariman Farsad has built a chemical texting system that sends messages through pulses of glass cleaner and vinegar.\\u2026 https://t.co/Or8cmxmAXU', is_quote_status=False, in_reply_to_status_id=None, id=798626839627345920, favorite_count=110, _api=<tweepy.api.API object at 0x7f45deb48110>, source=u'SocialFlow', _json={u'contributors': None, u'truncated': True, u'text': u'Nariman Farsad has built a chemical texting system that sends messages through pulses of glass cleaner and vinegar.\\u2026 https://t.co/Or8cmxmAXU', u'is_quote_status': False, u'in_reply_to_status_id': None, u'id': 798626839627345920, u'favorite_count': 110, u'source': u'<a href=\"http://www.socialflow.com\" rel=\"nofollow\">SocialFlow</a>', u'retweeted': False, u'coordinates': None, u'entities': {u'symbols': [], u'user_mentions': [], u'hashtags': [], u'urls': [{u'url': u'https://t.co/Or8cmxmAXU', u'indices': [117, 140], u'expanded_url': u'https://twitter.com/i/web/status/798626839627345920', u'display_url': u'twitter.com/i/web/status/7\\u2026'}]}, u'in_reply_to_screen_name': None, u'in_reply_to_user_id': None, u'retweet_count': 64, u'id_str': u'798626839627345920', u'favorited': False, u'geo': None, u'in_reply_to_user_id_str': None, u'possibly_sensitive': False, u'lang': u'en', u'created_at': u'Tue Nov 15 20:40:50 +0000 2016', u'in_reply_to_status_id_str': None, u'place': None}, coordinates=None, entities={u'symbols': [], u'user_mentions': [], u'hashtags': [], u'urls': [{u'url': u'https://t.co/Or8cmxmAXU', u'indices': [117, 140], u'expanded_url': u'https://twitter.com/i/web/status/798626839627345920', u'display_url': u'twitter.com/i/web/status/7\\u2026'}]}, in_reply_to_screen_name=None, id_str=u'798626839627345920', retweet_count=64, in_reply_to_user_id=None, favorited=False, source_url=u'http://www.socialflow.com', geo=None, in_reply_to_user_id_str=None, possibly_sensitive=False, lang=u'en', created_at=datetime.datetime(2016, 11, 15, 20, 40, 50), in_reply_to_status_id_str=None, place=None, retweeted=False), source_url=u'http://twitter.com/download/android', geo=None, in_reply_to_user_id_str=None, lang=u'en', created_at=datetime.datetime(2016, 11, 16, 5, 47, 7), in_reply_to_status_id_str=None, place=None, retweeted=False), lang=u'en', utc_offset=7200, statuses_count=788, profile_background_color=u'000000', friends_count=521, profile_link_color=u'3B94D9', profile_image_url=u'http://pbs.twimg.com/profile_images/1803038390/dario055_normal.JPG', notifications=False, default_profile=False, profile_background_image_url_https=u'https://abs.twimg.com/images/themes/theme16/bg.gif', profile_banner_url=u'https://pbs.twimg.com/profile_banners/96963956/1443385720', blocking=False, profile_background_image_url=u'http://abs.twimg.com/images/themes/theme16/bg.gif', name=u'Dario Masiero', is_translation_enabled=False, profile_background_tile=False, favourites_count=926, screen_name=u'dariomasiero', url=u'https://t.co/zvlMqr4ezb', created_at=datetime.datetime(2009, 12, 15, 11, 35, 24), contributors_enabled=False, location=u'Ms3', profile_sidebar_border_color=u'000000', translator_type=u'none', following=False),\n",
       " User(follow_request_sent=False, has_extended_profile=False, profile_use_background_image=True, profile_sidebar_fill_color=u'DDEEF6', live_following=False, time_zone=u'Rome', id=1448381226, description=u'', _api=<tweepy.api.API object at 0x7f45deb48110>, verified=False, blocked_by=False, profile_text_color=u'333333', muting=False, profile_image_url_https=u'https://pbs.twimg.com/profile_images/798198512961933312/qntHqO2C_normal.jpg', _json={u'follow_request_sent': False, u'has_extended_profile': False, u'profile_use_background_image': True, u'live_following': False, u'default_profile_image': False, u'id': 1448381226, u'profile_background_image_url_https': u'https://abs.twimg.com/images/themes/theme1/bg.png', u'translator_type': u'none', u'verified': False, u'blocked_by': False, u'profile_text_color': u'333333', u'muting': False, u'profile_image_url_https': u'https://pbs.twimg.com/profile_images/798198512961933312/qntHqO2C_normal.jpg', u'profile_sidebar_fill_color': u'DDEEF6', u'entities': {u'description': {u'urls': []}}, u'followers_count': 31, u'profile_sidebar_border_color': u'C0DEED', u'id_str': u'1448381226', u'profile_background_color': u'C0DEED', u'listed_count': 0, u'is_translation_enabled': False, u'utc_offset': 3600, u'statuses_count': 0, u'description': u'', u'friends_count': 260, u'location': u'', u'profile_link_color': u'1DA1F2', u'profile_image_url': u'http://pbs.twimg.com/profile_images/798198512961933312/qntHqO2C_normal.jpg', u'following': False, u'geo_enabled': False, u'blocking': False, u'profile_background_image_url': u'http://abs.twimg.com/images/themes/theme1/bg.png', u'screen_name': u'Simone_Celia', u'lang': u'it', u'profile_background_tile': False, u'favourites_count': 11, u'name': u'Simone Celia', u'notifications': False, u'url': None, u'created_at': u'Wed May 22 09:10:33 +0000 2013', u'contributors_enabled': False, u'time_zone': u'Rome', u'protected': False, u'default_profile': True, u'is_translator': False}, is_translator=False, geo_enabled=False, entities={u'description': {u'urls': []}}, followers_count=31, protected=False, id_str=u'1448381226', default_profile_image=False, listed_count=0, lang=u'it', utc_offset=3600, statuses_count=0, profile_background_color=u'C0DEED', friends_count=260, profile_link_color=u'1DA1F2', profile_image_url=u'http://pbs.twimg.com/profile_images/798198512961933312/qntHqO2C_normal.jpg', notifications=False, default_profile=True, profile_background_image_url_https=u'https://abs.twimg.com/images/themes/theme1/bg.png', blocking=False, profile_background_image_url=u'http://abs.twimg.com/images/themes/theme1/bg.png', name=u'Simone Celia', is_translation_enabled=False, profile_background_tile=False, favourites_count=11, screen_name=u'Simone_Celia', url=None, created_at=datetime.datetime(2013, 5, 22, 9, 10, 33), contributors_enabled=False, location=u'', profile_sidebar_border_color=u'C0DEED', translator_type=u'none', following=False)]"
      ]
     },
     "execution_count": 35,
     "metadata": {},
     "output_type": "execute_result"
    }
   ],
   "source": [
    "intesa_cursor.pages().next() # lista di 20 elementi"
   ]
  },
  {
   "cell_type": "code",
   "execution_count": 36,
   "metadata": {
    "collapsed": false
   },
   "outputs": [
    {
     "name": "stdout",
     "output_type": "stream",
     "text": [
      "None\n"
     ]
    }
   ],
   "source": [
    "# in realtà get_user sulla lista di ids permette di fare piu' chiamate prima dell'interruzione di 15 min. \n",
    "mylist = []\n",
    "for follower in intesa_cursor.pages(): \n",
    "    print mylist.extend(follower) # appende la lista a quelli gia' estratti\n",
    "    break"
   ]
  },
  {
   "cell_type": "code",
   "execution_count": 37,
   "metadata": {
    "collapsed": false
   },
   "outputs": [
    {
     "data": {
      "text/plain": [
       "20"
      ]
     },
     "execution_count": 37,
     "metadata": {},
     "output_type": "execute_result"
    }
   ],
   "source": [
    "len(mylist)"
   ]
  },
  {
   "cell_type": "code",
   "execution_count": 38,
   "metadata": {
    "collapsed": false
   },
   "outputs": [
    {
     "data": {
      "text/plain": [
       "{u'blocked_by': False,\n",
       " u'blocking': False,\n",
       " u'contributors_enabled': False,\n",
       " u'created_at': u'Wed May 05 21:47:13 +0000 2010',\n",
       " u'default_profile': False,\n",
       " u'default_profile_image': False,\n",
       " u'description': u'The official channel for Cisco Financial Services Industry news, updates and events.',\n",
       " u'entities': {u'description': {u'urls': []},\n",
       "  u'url': {u'urls': [{u'display_url': u'cisco.com/web/strategy/f\\u2026',\n",
       "     u'expanded_url': u'http://cisco.com/web/strategy/financial/index.html',\n",
       "     u'indices': [0, 22],\n",
       "     u'url': u'http://t.co/3rQdG7xBjY'}]}},\n",
       " u'favourites_count': 690,\n",
       " u'follow_request_sent': False,\n",
       " u'followers_count': 1557,\n",
       " u'following': False,\n",
       " u'friends_count': 780,\n",
       " u'geo_enabled': True,\n",
       " u'has_extended_profile': False,\n",
       " u'id': 140578968,\n",
       " u'id_str': u'140578968',\n",
       " u'is_translation_enabled': False,\n",
       " u'is_translator': False,\n",
       " u'lang': u'en',\n",
       " u'listed_count': 164,\n",
       " u'live_following': False,\n",
       " u'location': u'Global via Cisco TelePresence',\n",
       " u'muting': False,\n",
       " u'name': u'Cisco FSI',\n",
       " u'notifications': False,\n",
       " u'profile_background_color': u'EDECE9',\n",
       " u'profile_background_image_url': u'http://pbs.twimg.com/profile_background_images/743499327/3559a428155964b2850f71bef72c0bcd.jpeg',\n",
       " u'profile_background_image_url_https': u'https://pbs.twimg.com/profile_background_images/743499327/3559a428155964b2850f71bef72c0bcd.jpeg',\n",
       " u'profile_background_tile': False,\n",
       " u'profile_banner_url': u'https://pbs.twimg.com/profile_banners/140578968/1460423740',\n",
       " u'profile_image_url': u'http://pbs.twimg.com/profile_images/727954347145891840/XdBPoMtc_normal.jpg',\n",
       " u'profile_image_url_https': u'https://pbs.twimg.com/profile_images/727954347145891840/XdBPoMtc_normal.jpg',\n",
       " u'profile_link_color': u'803909',\n",
       " u'profile_sidebar_border_color': u'FFFFFF',\n",
       " u'profile_sidebar_fill_color': u'E3E2DE',\n",
       " u'profile_text_color': u'634047',\n",
       " u'profile_use_background_image': True,\n",
       " u'protected': False,\n",
       " u'screen_name': u'CiscoFSI',\n",
       " u'status': {u'contributors': None,\n",
       "  u'coordinates': None,\n",
       "  u'created_at': u'Thu Nov 17 20:21:48 +0000 2016',\n",
       "  u'entities': {u'hashtags': [],\n",
       "   u'symbols': [],\n",
       "   u'urls': [],\n",
       "   u'user_mentions': [{u'id': 248900032,\n",
       "     u'id_str': u'248900032',\n",
       "     u'indices': [3, 16],\n",
       "     u'name': u'Earvin Magic Johnson',\n",
       "     u'screen_name': u'MagicJohnson'}]},\n",
       "  u'favorite_count': 0,\n",
       "  u'favorited': False,\n",
       "  u'geo': None,\n",
       "  u'id': 799346823601197056,\n",
       "  u'id_str': u'799346823601197056',\n",
       "  u'in_reply_to_screen_name': None,\n",
       "  u'in_reply_to_status_id': None,\n",
       "  u'in_reply_to_status_id_str': None,\n",
       "  u'in_reply_to_user_id': None,\n",
       "  u'in_reply_to_user_id_str': None,\n",
       "  u'is_quote_status': False,\n",
       "  u'lang': u'en',\n",
       "  u'place': None,\n",
       "  u'retweet_count': 52,\n",
       "  u'retweeted': False,\n",
       "  u'retweeted_status': {u'contributors': None,\n",
       "   u'coordinates': None,\n",
       "   u'created_at': u'Wed Nov 16 02:16:59 +0000 2016',\n",
       "   u'entities': {u'hashtags': [],\n",
       "    u'symbols': [],\n",
       "    u'urls': [{u'display_url': u'twitter.com/i/web/status/7\\u2026',\n",
       "      u'expanded_url': u'https://twitter.com/i/web/status/798711432355450880',\n",
       "      u'indices': [121, 144],\n",
       "      u'url': u'https://t.co/7qUE0pmnA6'}],\n",
       "    u'user_mentions': []},\n",
       "   u'favorite_count': 260,\n",
       "   u'favorited': False,\n",
       "   u'geo': None,\n",
       "   u'id': 798711432355450880,\n",
       "   u'id_str': u'798711432355450880',\n",
       "   u'in_reply_to_screen_name': None,\n",
       "   u'in_reply_to_status_id': None,\n",
       "   u'in_reply_to_status_id_str': None,\n",
       "   u'in_reply_to_user_id': None,\n",
       "   u'in_reply_to_user_id_str': None,\n",
       "   u'is_quote_status': False,\n",
       "   u'lang': u'en',\n",
       "   u'place': None,\n",
       "   u'possibly_sensitive': False,\n",
       "   u'retweet_count': 52,\n",
       "   u'retweeted': False,\n",
       "   u'source': u'<a href=\"http://twitter.com/download/android\" rel=\"nofollow\">Twitter for Android</a>',\n",
       "   u'text': u'Thank you to CME Group CEO &amp; Chairman Terry Duffy for inviting us to speak at their Global Financial Leadership Con\\u2026 https://t.co/7qUE0pmnA6',\n",
       "   u'truncated': True},\n",
       "  u'source': u'<a href=\"http://twitter.com\" rel=\"nofollow\">Twitter Web Client</a>',\n",
       "  u'text': u'RT @MagicJohnson: Thank you to CME Group CEO &amp; Chairman Terry Duffy for inviting us to speak at their Global Financial Leadership Conferenc\\u2026',\n",
       "  u'truncated': False},\n",
       " u'statuses_count': 3567,\n",
       " u'time_zone': u'Eastern Time (US & Canada)',\n",
       " u'translator_type': u'none',\n",
       " u'url': u'http://t.co/3rQdG7xBjY',\n",
       " u'utc_offset': -18000,\n",
       " u'verified': False}"
      ]
     },
     "execution_count": 38,
     "metadata": {},
     "output_type": "execute_result"
    }
   ],
   "source": [
    "mylist[0]._json"
   ]
  },
  {
   "cell_type": "code",
   "execution_count": 39,
   "metadata": {
    "collapsed": false
   },
   "outputs": [
    {
     "name": "stdout",
     "output_type": "stream",
     "text": [
      "0 3567\n",
      "1 1029\n",
      "2 523\n",
      "3 6161\n",
      "4 100\n",
      "5 0\n",
      "6 32\n",
      "7 0\n",
      "8 303\n",
      "9 978\n",
      "10 290\n",
      "11 0\n",
      "12 909\n",
      "13 3\n",
      "14 5071\n",
      "15 42\n",
      "16 3045\n",
      "17 235\n",
      "18 231\n",
      "19 6900\n"
     ]
    }
   ],
   "source": [
    "for i, f in enumerate(mylist):\n",
    "    print i, f.statuses_count"
   ]
  },
  {
   "cell_type": "code",
   "execution_count": 45,
   "metadata": {
    "collapsed": true
   },
   "outputs": [],
   "source": [
    "# funzione che gestisce l'interruzione di 15 min al raggiungimento del limit rate\n",
    "import time\n",
    "def limit_handler(cursor):\n",
    "    while True:\n",
    "        try:\n",
    "            yield cursor.next()\n",
    "        except tweepy.RateLimitError:\n",
    "            print \"15 sec Sleep...\"\n",
    "            time.sleep(15)\n",
    "            print \"Restart\""
   ]
  },
  {
   "cell_type": "code",
   "execution_count": 46,
   "metadata": {
    "collapsed": false
   },
   "outputs": [
    {
     "name": "stdout",
     "output_type": "stream",
     "text": [
      "15 sec Sleep...\n",
      "Restart\n",
      "15 sec Sleep...\n"
     ]
    },
    {
     "ename": "KeyboardInterrupt",
     "evalue": "",
     "output_type": "error",
     "traceback": [
      "\u001b[1;31m---------------------------------------------------------------------------\u001b[0m",
      "\u001b[1;31mKeyboardInterrupt\u001b[0m                         Traceback (most recent call last)",
      "\u001b[1;32m<ipython-input-46-10e426a115d1>\u001b[0m in \u001b[0;36m<module>\u001b[1;34m()\u001b[0m\n\u001b[0;32m      1\u001b[0m \u001b[0mintesa_followers\u001b[0m \u001b[1;33m=\u001b[0m \u001b[1;33m[\u001b[0m\u001b[1;33m]\u001b[0m\u001b[1;33m\u001b[0m\u001b[0m\n\u001b[0;32m      2\u001b[0m \u001b[1;33m\u001b[0m\u001b[0m\n\u001b[1;32m----> 3\u001b[1;33m \u001b[1;32mfor\u001b[0m \u001b[0mpage\u001b[0m \u001b[1;32min\u001b[0m \u001b[0mlimit_handler\u001b[0m\u001b[1;33m(\u001b[0m\u001b[0mintesa_cursor\u001b[0m\u001b[1;33m.\u001b[0m\u001b[0mpages\u001b[0m\u001b[1;33m(\u001b[0m\u001b[1;33m)\u001b[0m\u001b[1;33m)\u001b[0m\u001b[1;33m:\u001b[0m\u001b[1;33m\u001b[0m\u001b[0m\n\u001b[0m\u001b[0;32m      4\u001b[0m     \u001b[0mintesa_followers\u001b[0m\u001b[1;33m.\u001b[0m\u001b[0mextend\u001b[0m\u001b[1;33m(\u001b[0m\u001b[0mpage\u001b[0m\u001b[1;33m)\u001b[0m\u001b[1;33m\u001b[0m\u001b[0m\n",
      "\u001b[1;32m<ipython-input-45-d7f5a22f2ba4>\u001b[0m in \u001b[0;36mlimit_handler\u001b[1;34m(cursor)\u001b[0m\n\u001b[0;32m      7\u001b[0m         \u001b[1;32mexcept\u001b[0m \u001b[0mtweepy\u001b[0m\u001b[1;33m.\u001b[0m\u001b[0mRateLimitError\u001b[0m\u001b[1;33m:\u001b[0m\u001b[1;33m\u001b[0m\u001b[0m\n\u001b[0;32m      8\u001b[0m             \u001b[1;32mprint\u001b[0m \u001b[1;34m\"15 sec Sleep...\"\u001b[0m\u001b[1;33m\u001b[0m\u001b[0m\n\u001b[1;32m----> 9\u001b[1;33m             \u001b[0mtime\u001b[0m\u001b[1;33m.\u001b[0m\u001b[0msleep\u001b[0m\u001b[1;33m(\u001b[0m\u001b[1;36m15\u001b[0m\u001b[1;33m)\u001b[0m\u001b[1;33m\u001b[0m\u001b[0m\n\u001b[0m\u001b[0;32m     10\u001b[0m             \u001b[1;32mprint\u001b[0m \u001b[1;34m\"Restart\"\u001b[0m\u001b[1;33m\u001b[0m\u001b[0m\n",
      "\u001b[1;31mKeyboardInterrupt\u001b[0m: "
     ]
    }
   ],
   "source": [
    "intesa_followers = []\n",
    "\n",
    "for page in limit_handler(intesa_cursor.pages()):\n",
    "    intesa_followers.extend(page)"
   ]
  },
  {
   "cell_type": "markdown",
   "metadata": {
    "collapsed": true
   },
   "source": [
    "# Get Hashtags\n"
   ]
  },
  {
   "cell_type": "code",
   "execution_count": null,
   "metadata": {
    "collapsed": false,
    "scrolled": false
   },
   "outputs": [],
   "source": [
    "tweets = []\n",
    "for tweet in tweepy.Cursor(api.search, q='#trump').items(5):\n",
    "    print tweet.text\n",
    "    tweets.append(tweet)\n",
    "print \"\\n-----\\n\"\n",
    "print tweets[0]"
   ]
  },
  {
   "cell_type": "markdown",
   "metadata": {},
   "source": [
    "# Avoid Rate Limit Exception"
   ]
  },
  {
   "cell_type": "code",
   "execution_count": null,
   "metadata": {
    "collapsed": true
   },
   "outputs": [],
   "source": [
    "import time\n",
    "def limit_handler(cursor):\n",
    "    while True:\n",
    "        try:\n",
    "            yield cursor.next()\n",
    "        except tweepy.RateLimitError:\n",
    "            print \"Timeout Reached, I'm going to sleep for 15 Minutes\"\n",
    "            time.sleep(15*60)\n",
    "            print \"I'm going to try again!\""
   ]
  },
  {
   "cell_type": "code",
   "execution_count": null,
   "metadata": {
    "collapsed": true
   },
   "outputs": [],
   "source": [
    "alexcomu_cursor = tweepy.Cursor(api.followers, screen_name='comualex')\n",
    "\n",
    "alexcomu_followers = []\n",
    "for followers in limit_handler(alexcomu_cursor.pages()):\n",
    "    alexcomu_followers.extend(followers)\n",
    "    "
   ]
  },
  {
   "cell_type": "code",
   "execution_count": null,
   "metadata": {
    "collapsed": false
   },
   "outputs": [],
   "source": [
    "len(alexcomu_followers)"
   ]
  },
  {
   "cell_type": "markdown",
   "metadata": {},
   "source": [
    "# Live Streaming\n",
    "\n",
    "Check the complete example on the folder **esercitazione**."
   ]
  },
  {
   "cell_type": "code",
   "execution_count": 47,
   "metadata": {
    "collapsed": true
   },
   "outputs": [],
   "source": [
    "class BDStreamingListener(tweepy.StreamListener):\n",
    "    def __init__(self, count):\n",
    "        super(BDStreamingListener, self).__init__()\n",
    "        # Number of tweets we want to retrieve\n",
    "        self.count = count\n",
    "\n",
    "    def on_status(self, status):\n",
    "        # automatic called when a new tweet is received\n",
    "        # print dir(status)\n",
    "        print dict(user=status.user.screen_name, text=status.text)\n",
    "\n",
    "        self.count -= 1\n",
    "        if self.count <= 0:\n",
    "            return False\n",
    "\n",
    "    def on_error(self, status_code):\n",
    "        # automatic called when an error occures\n",
    "        print \"Error with status code: \", status_code\n",
    "        return False"
   ]
  },
  {
   "cell_type": "code",
   "execution_count": 48,
   "metadata": {
    "collapsed": false
   },
   "outputs": [
    {
     "name": "stdout",
     "output_type": "stream",
     "text": [
      "{'text': u'RT @ROCKONDUDE2: https://t.co/SLf3deENPy @HillaryClinton &amp; her thugs, may of gotten away with rigging the primaries, but not the gen\\u2026 ', 'user': u's_chelf'}\n",
      "{'text': u\"RT @RealDLHughley: #KanyeWest says he didn't vote but if he did he woulda voted for #Trump, ain't this the cat that thought #GeorgeBush did\\u2026\", 'user': u'GarrieF'}\n",
      "{'text': u'RT @JoanneFralin: #MAGA #Trump #PresidentElectTrump https://t.co/HLmAjl2UMs', 'user': u'woitekj'}\n",
      "{'text': u'RT @Ryan9Caldwell: What happened to all the good shows? #WINan #tentoeschallenge #tentoesdownchallenge #trump #clinton @famouslos32 https:/\\u2026', 'user': u'Randomshit48'}\n",
      "{'text': u'RT @tagesschau: Wichtige Posten besetzt: Team Trump nimmt Form an https://t.co/2wbKBkAhGj #Trump', 'user': u'wehrs18'}\n",
      "{'text': u'Could Trump be the catalyst for an all-American iPhone? | ZDNet #Trump  https://t.co/iz3ssWVzXz', 'user': u'danielhalseth'}\n",
      "{'text': u'RT @ScottAdamsSays: When the press says no one expected Trump to win, they are ignoring half of the country that voted for him. THEY expect\\u2026', 'user': u'murphy13272'}\n",
      "{'text': u'What #Trump Means For New York: #ClimateChange Denial Could Endanger The City https://t.co/NgPf550sr6 #nyc', 'user': u'Kwarnercohen'}\n",
      "{'text': u'\"Not All Men\" \\nhttps://t.co/SrpxA7V6DG \\n\\n#feminist #BlackLivesMatters #NotAllMen #Trump #brexit', 'user': u'MoFloMoJo'}\n",
      "{'text': u\"2 sec de reflection: si des sondages bias\\xe9s sont en faveur du FN, c'est que la r\\xe9alit\\xe9 leur est encore plus favorab\\u2026 https://t.co/qNpC4BdjQl\", 'user': u'kekpriest'}\n",
      "{'text': u'RT @YBeDave: Thank you Ye ! https://t.co/leg6FaoW8e', 'user': u'ArtOfMusic_'}\n",
      "{'text': u'RT @GarretLewis: .@UofA professor says a @realDonaldTrump Presidency is \"The Rape Of America.\" Wow. #Trump #Arizona  https://t.co/ZoRhEOZc9z', 'user': u'JoseSalem38'}\n",
      "{'text': u'RT @franken6: Sehr sch\\xf6n! Das dumme is nur: #Polemik + #Hetze kommen mit weit weniger Worten aus,als gem\\xe4\\xdfigte und abwiegelnde Po\\u2026 ', 'user': u'Frankenpartei'}\n",
      "{'text': u'#Trump Picks Jeff Sessions for #AttorneyGeneral https://t.co/8X3lB8XP18 via @thedailybeast', 'user': u'twilight2000'}\n",
      "{'text': u'RT @SteveDeaceShow: Weird, cause when I was on your network pointing out Hillary thought a Klan leader was her mentor I was told \"that\\u2026 ', 'user': u'BecomeATexan'}\n",
      "{'text': u'RT @markito0171: #Trump\\'s new chief for #US \"National Security\" Mike Flynn in dinner with his friend #Putin https://t.co/pgw863H9V4', 'user': u'Taras_2012'}\n",
      "{'text': u'Ford will keep SUV plant in America \\U0001f1fa\\U0001f1f8 #trump https://t.co/1aZOT2aGmQ', 'user': u'StandWithCA'}\n",
      "{'text': u\"RT @bfraser747: \\U0001f4a5\\U0001f4a5 #Hannity\\n\\nI'm so thankful for .@seanhannity \\n\\nHe warned us about #Obama in 08 &amp; 12 and he exposed #Hillary &amp; rep\\u2026 \", 'user': u'M_Richardson42'}\n",
      "{'text': u'RT @SilverAdie: #DumpBannon  if you want peace with the people. You work for us #Trump and we do not want this guy influencing the\\u2026 ', 'user': u'SilverAdie'}\n",
      "{'text': u'RT @LVNancy: IT IS HAPPENING: Apple in talks of moving manufacturing to the USA \\U0001f34e\\n#TRUMP  \\n#AmericaFirst\\n\\n\\U0001f34e\\U0001f1fa\\U0001f1f8\\U0001f34e\\U0001f1fa\\U0001f1f8\\n\\nhttps://t.co/oWPvqyUPrA', 'user': u'DrFartFetish'}\n",
      "{'text': u'RT @theglobaluniter: Obama to anti-Trump protesters: Keep protesting https://t.co/e0QIEaMCft \\n\\nYour comments as #POTUS are disgraceful.\\n\\n#H\\u2026', 'user': u'mayflwers'}\n",
      "{'text': u'RT @chuckwoolery: OF COURSE you know that #Trump will be accused, by the left, of killing the planet daily. #Environmentalists will be set\\u2026', 'user': u'motorhogman'}\n",
      "{'text': u'Supply damage from #immigration cuts, damaging #GDP growth + lifting #inflation  #Trump #Hispanic #Employment #US https://t.co/uAj92OIz29', 'user': u'TSL_Research'}\n",
      "{'text': u'RT @AmirTaheri4: Mullah-preachers ordered to go \"easy\" on #Trump in Friday Sermons today. Maybe Tehran wants to wait and see how Trump deal\\u2026', 'user': u'MateenSalahudin'}\n",
      "{'text': u'#Trump \\n#Election2016 \\n#WTH\\n\\U0001f602\\U0001f602\\U0001f602\\U0001f602\\U0001f602\\U0001f602\\U0001f3c3\\U0001f3fb https://t.co/yXlcjgPDeZ', 'user': u'Gadzela11'}\n",
      "{'text': u'RT @Univ_Ciencia: Es posible que por eso ganara #Trump https://t.co/gkX9CSlH8G', 'user': u'eri_jara00'}\n",
      "{'text': u'Will #Trump\\u2019s Rhetoric Hit a Wall?  Knowledge@Wharton Network https://t.co/S48Gk4X4p5', 'user': u'YouEconomist'}\n",
      "{'text': u'#Trump picks immigration hard-liner Jeff Ses https://t.co/P8g9B3cY8s', 'user': u'EasyProfitsNow'}\n",
      "{'text': u\"RT @amjoyshow: Jeff Sessions was deemed too racist to be a judge. He'll now be #Trump's attorney general. https://t.co/H7sPvTghVr # via @Hu\\u2026\", 'user': u'benjaminlately'}\n",
      "{'text': u'RT @ROCKONDUDE2: https://t.co/SLf3deENPy @HillaryClinton &amp; her thugs, may of gotten away with rigging the primaries, but not the gen\\u2026 ', 'user': u'tatine47'}\n",
      "{'text': u\"RT @ToDropADime2: #Trump tweets out a full blown Lie about #Ford\\nThey respond &amp; correct him.\\nIt's going to be 4 years of  Lies to make hims\\u2026\", 'user': u'NascarladyL48'}\n",
      "{'text': u'Wichtige Posten besetzt: Team Trump nimmt Form an https://t.co/fjuDPd7qOH #Trump', 'user': u'Kehrblech'}\n",
      "{'text': u'RT @Jbdcl: #trump supporter in #miami @Starbucks attacks &amp; threatens patrons &amp; staff bc coffee took too long, blames anti-whit\\u2026 ', 'user': u'bravoeric88'}\n",
      "{'text': u'Just added on ebay- #Trump Modern Day Samson- the walls came tumbling down #BenGarrison signed print https://t.co/TzGU4LCa4g', 'user': u'GrrrGraphics'}\n",
      "{'text': u'RT @TCQEU: Un mec de #gauche c\\'est qqn qui souhaite la mort d\\'un \\xe9lecteur de #Trump mais qui dit \"tu n\\'auras pas ma haine\" \\xe0 un terroriste.', 'user': u'itsfrancissimon'}\n",
      "{'text': u'#IRGC agency #FARS praises #Trump as \"leader of hard-working #Americans\" who want #US \"to be great and powerful again.\"\\n(You don\\'t say!!)', 'user': u'AmirTaheri4'}\n",
      "{'text': u'RT @Jbdcl: #trump supporter in #miami @Starbucks attacks &amp; threatens patrons &amp; staff bc coffee took too long, blames anti-whit\\u2026 ', 'user': u'sportsboogie'}\n",
      "{'text': u'Qui est Donald #Trump Jr., le fils a\\xeen\\xe9 du pr\\xe9sident des Etats-Unis ? https://t.co/0BWtlyofgJ via @ParisMatch https://t.co/lyG7p3wRkr', 'user': u'Anthony_Verdot'}\n",
      "{'text': u'RT @birdmanphotos: @realDonaldTrump statue erected in #LosAngeles. \"The Emperor Has No Balls.\" @indecline_ #indecline #trump #streetart htt\\u2026', 'user': u'Alanapenton_'}\n",
      "{'text': u'An experiment in #bias: two similar comments about #Clinton and #Trump. One user got #BANNED , the other was forgiv\\u2026 https://t.co/jBGE6AiSBU', 'user': u'PassageToJava'}\n",
      "{'text': u'RT @The_NewRight: Someone \"tested\" Twitter &amp; ended up with proof that they\\'re violating the Civil Rights Act! #Trump #Trump2016\\u2026 ', 'user': u'thevoice49'}\n",
      "{'text': u'Global green movement prepares to fight #Trump on #climatechange https://t.co/vjtDZVP7XW', 'user': u'StephenGeoRae'}\n",
      "{'text': u'RT @AlShabaka: Will #Trump help #Israel annex the West Bank? | @AliAbunimah | https://t.co/X90R2TdqjG https://t.co/AA3hqDHMAQ', 'user': u'SvenRadio'}\n",
      "{'text': u'RT @ansaeuropa: #Trump: Malmstroem, bisogna vedere cosa dir\\xe0 su #Ttip - ANSA Europa - ANSA.it https://t.co/NjY53ECV8A via @Agenzia_Ansa @Ma\\u2026', 'user': u'Il_sovranista'}\n",
      "{'text': u'RT @Eyes_of_justice: RT@jungletrunks\\n#SorosAgenda\\n#SorosRiots\\n#PurpleRevolution\\n\\n#TCOT #CCOT #MAGA #TRUMP .@TeamTrump\\n\\n\"Defying Trump\" \"\\u2026 ', 'user': u'Wingintheridge'}\n",
      "{'text': u'New York City will be a sanctuary city for #Trump and his fraud, waste and abused on security protocols so he can be in his Tower.', 'user': u'ronnin42'}\n",
      "{'text': u'RT @ToDropADime2: \"I\\'ll never settle #TrumpUniversity case\"\\nLIAR Conned U\\n#Trump nearing settlement in Trump University fraud case -  https\\u2026', 'user': u'Dbaber57Deb'}\n",
      "{'text': u'\"\\xab Effet #Trump \\xbb: quel impact sur les taux et la Bourse ?\" (analyse de Val\\xe9rie Mignon, via @Boursorama)\\n\\u25bahttps://t.co/n8AKI9cTYD\\n#taux', 'user': u'mick_le_priol'}\n",
      "{'text': u'@pewresearch: White Catholics voted #Trump (60%) over #Clinton (37%) while Hispanic Catholics broke for her 67% to 26%.', 'user': u'BohHerbert'}\n",
      "{'text': u'RT @TruthFeedNews: VIDEO : Ted Cruz \"Idiots Rioting in the Street the Same People Who Demanded Trump Accept Election Results\" https://t.co/\\u2026', 'user': u'TrumpAmerica17'}\n"
     ]
    }
   ],
   "source": [
    "# Create an instand set the number of tweets we want ro retrieve\n",
    "listener = BDStreamingListener(50)\n",
    "\n",
    "# Create the stream fetching object with auth and listener\n",
    "stream = tweepy.streaming.Stream(auth, listener)\n",
    "\n",
    "# Tun the stream using filter\n",
    "stream.filter(track=['#Trump'])\n"
   ]
  },
  {
   "cell_type": "markdown",
   "metadata": {},
   "source": [
    "# Get INTESA Followers -- Version 1"
   ]
  },
  {
   "cell_type": "code",
   "execution_count": 169,
   "metadata": {
    "collapsed": true
   },
   "outputs": [],
   "source": [
    "# Ask for Followers using Cursor (20 followers per page, with a limit of 15 requests each 15 minutes) ~ 3 Hours\n",
    "class IntesaFollowers(object):\n",
    "    \n",
    "    def __init__(self, auth):\n",
    "        self.auth = auth\n",
    "        self.api = tweepy.API(self.auth)\n",
    "        self.intesa_cursor = tweepy.Cursor(self.api.followers, screen_name='intesasanpaolo')\n",
    "\n",
    "    def get_followers(self):\n",
    "        while True:\n",
    "            try:\n",
    "                yield self.intesa_cursor.pages().next()\n",
    "            except tweepy.RateLimitError:\n",
    "                print \"[LOG %s] Timeout reached.. I'm going to sleep for 15 minutes..\" % dt.now()\n",
    "                time.sleep(15*60)\n",
    "                print \"[LOG %s] Try Again!\" % dt.now()\n",
    "            except Exception as e:\n",
    "                # Generic Exception\n",
    "                print \"[LOG %s] Generic error \" % dt.now(), e\n",
    "                print \"[LOG %s] Wait 60 seconds...\" % dt.now()\n",
    "                time.sleep(60)"
   ]
  },
  {
   "cell_type": "code",
   "execution_count": null,
   "metadata": {
    "collapsed": true
   },
   "outputs": [],
   "source": [
    "intesa = IntesaFollowers(auth)\n",
    "intesa_followers = []\n",
    "for followers in intesa.get_followers():\n",
    "    intesa_followers.extend(followers)"
   ]
  },
  {
   "cell_type": "markdown",
   "metadata": {},
   "source": [
    "# Get INTESA Followers -- Version 2 (Faster)"
   ]
  },
  {
   "cell_type": "code",
   "execution_count": 49,
   "metadata": {
    "collapsed": true
   },
   "outputs": [],
   "source": [
    "# Ask for Followers_ids and ask data for each user -> Much Much Faster!  ~ 1.5 Hours\n",
    "\n",
    "import time\n",
    "\n",
    "\n",
    "class IntesaFollowers(object):\n",
    "\n",
    "    def __init__(self, auth):\n",
    "        self.auth = auth\n",
    "        self.api = tweepy.API(self.auth)\n",
    "        self.intesa = self.api.get_user('intesasanpaolo')\n",
    "\n",
    "    def get_followers(self):\n",
    "        for follower_id in self.intesa.followers_ids():\n",
    "            try:\n",
    "                yield self.api.get_user(follower_id)\n",
    "            except tweepy.RateLimitError:\n",
    "                print \"[LOG %s] Timeout reached.. I'm going to sleep for 15 minutes..\" % dt.now()\n",
    "                time.sleep(15*60)\n",
    "                print \"[LOG %s] Try Again!\" % dt.now() # datetime stampa un log\n",
    "            except Exception as e:\n",
    "                # Generic Exception\n",
    "                print \"[LOG %s] Generic error \" % dt.now(), e\n",
    "                print \"[LOG %s] Wait 60 seconds...\" % dt.now()\n",
    "                time.sleep(60)"
   ]
  },
  {
   "cell_type": "code",
   "execution_count": 51,
   "metadata": {
    "collapsed": false
   },
   "outputs": [
    {
     "name": "stdout",
     "output_type": "stream",
     "text": [
      "Working... 0\n",
      "Working... 1\n",
      "Working... 2\n",
      "Working... 3\n",
      "Working... 4\n",
      "Working... 5\n",
      "Working... 6\n",
      "Working... 7\n",
      "Working... 8\n",
      "Working... 9\n",
      "Working... 10\n",
      "Working... 11\n",
      "Working... 12\n",
      "Working... 13\n",
      "Working... 14\n",
      "Working... 15\n",
      "Working... 16\n",
      "Working... 17\n",
      "Working... 18\n",
      "Working... 19\n",
      "Working... 20\n",
      "Working... 21\n",
      "Working... 22\n",
      "Working... 23\n",
      "Working... 24\n",
      "Working... 25\n",
      "Working... 26\n",
      "Working... 27\n",
      "Working... 28\n",
      "Working... 29\n",
      "Working... 30\n",
      "Working... 31\n",
      "Working... 32\n",
      "Working... 33\n",
      "Working... 34\n",
      "Working... 35\n",
      "Working... 36\n",
      "Working... 37\n",
      "Working... 38\n",
      "Working... 39\n",
      "Working... 40\n",
      "Working... 41\n",
      "Working... 42\n",
      "Working... 43\n",
      "Working... 44\n",
      "Working... 45\n",
      "Working... 46\n",
      "Working... 47\n",
      "Working... 48\n",
      "Working... 49\n",
      "Working... 50\n",
      "Working... 51\n",
      "Working... 52\n",
      "Working... 53\n",
      "Working... 54\n",
      "Working... 55\n",
      "Working... 56\n",
      "Working... 57\n",
      "Working... 58\n",
      "Working... 59\n",
      "Working... 60\n",
      "Working... 61\n",
      "Working... 62\n",
      "Working... 63\n",
      "Working... 64\n",
      "Working... 65\n",
      "Working... 66\n",
      "Working... 67\n",
      "Working... 68\n",
      "Working... 69\n",
      "Working... 70\n",
      "Working... 71\n",
      "Working... 72\n",
      "Working... 73\n",
      "Working... 74\n",
      "Working... 75\n",
      "Working... 76\n",
      "Working... 77\n",
      "Working... 78\n",
      "Working... 79\n",
      "Working... 80\n",
      "Working... 81\n",
      "Working... 82\n",
      "Working... 83\n",
      "Working... 84\n",
      "Working... 85\n",
      "Working... 86\n",
      "Working... 87\n",
      "Working... 88\n",
      "Working... 89\n",
      "Working... 90\n",
      "Working... 91\n",
      "Working... 92\n",
      "Working... 93\n",
      "Working... 94\n",
      "Working... 95\n",
      "Working... 96\n",
      "Working... 97\n",
      "Working... 98\n",
      "Working... 99\n",
      "Working... 100\n",
      "Working... 101\n",
      "Working... 102\n",
      "Working... 103\n",
      "Working... 104\n",
      "Working... 105\n",
      "Working... 106\n",
      "Working... 107\n",
      "Working... 108\n",
      "Working... 109\n",
      "Working... 110\n",
      "Working... 111\n",
      "Working... 112\n",
      "Working... 113\n",
      "Working... 114\n",
      "Working... 115\n",
      "Working... 116\n",
      "Working... 117\n",
      "Working... 118\n",
      "Working... 119\n",
      "Working... 120\n",
      "Working... 121\n",
      "Working... 122\n",
      "Working... 123\n",
      "Working... 124\n",
      "Working... 125\n",
      "Working... 126\n",
      "Working... 127\n",
      "Working... 128\n",
      "Working... 129\n",
      "Working... 130\n",
      "Working... 131\n",
      "Working... 132\n",
      "Working... 133\n",
      "Working... 134\n",
      "Working... 135\n",
      "Working... 136\n",
      "Working... 137\n",
      "Working... 138\n",
      "Working... 139\n",
      "Working... 140\n",
      "Working... 141\n",
      "Working... 142\n",
      "Working... 143\n",
      "Working... 144\n",
      "Working... 145\n",
      "Working... 146\n",
      "Working... 147\n",
      "Working... 148\n",
      "Working... 149\n",
      "Working... 150\n",
      "Working... 151\n",
      "Working... 152\n",
      "Working... 153\n",
      "Working... 154\n",
      "Working... 155\n",
      "Working... 156\n",
      "Working... 157\n",
      "Working... 158\n",
      "Working... 159\n",
      "Working... 160\n",
      "Working... 161\n",
      "Working... 162\n",
      "Working... 163\n",
      "Working... 164\n",
      "Working... 165\n",
      "Working... 166\n",
      "Working... 167\n",
      "Working... 168\n",
      "Working... 169\n",
      "Working... 170\n",
      "Working... 171\n",
      "Working... 172\n",
      "Working... 173\n",
      "Working... 174\n",
      "Working... 175\n",
      "Working... 176\n",
      "Working... 177\n",
      "Working... 178\n",
      "Working... 179\n",
      "Working... 180\n",
      "Working... 181\n",
      "Working... 182\n",
      "Working... 183\n",
      "Working... 184\n",
      "Working... 185\n",
      "Working... 186\n",
      "Working... 187\n",
      "Working... 188\n",
      "Working... 189\n",
      "Working... 190\n",
      "Working... 191\n",
      "Working... 192\n",
      "Working... 193\n",
      "Working... 194\n",
      "Working... 195\n",
      "Working... 196\n",
      "Working... 197\n",
      "Working... 198\n",
      "Working... 199\n",
      "Working... 200\n",
      "Working... 201\n",
      "Working... 202\n",
      "Working... 203\n",
      "Working... 204\n",
      "Working... 205\n",
      "Working... 206\n",
      "Working... 207\n",
      "Working... 208\n",
      "Working... 209\n",
      "Working... 210\n",
      "Working... 211\n",
      "Working... 212\n",
      "Working... 213\n",
      "Working... 214\n",
      "Working... 215\n",
      "Working... 216\n",
      "Working... 217\n",
      "Working... 218\n",
      "Working... 219\n",
      "Working... 220\n",
      "Working... 221\n",
      "Working... 222\n",
      "Working... 223\n",
      "Working... 224\n",
      "Working... 225\n",
      "Working... 226\n",
      "Working... 227\n",
      "Working... 228\n",
      "Working... 229\n",
      "Working... 230\n",
      "Working... 231\n",
      "Working... 232\n",
      "Working... 233\n",
      "Working... 234\n",
      "Working... 235\n",
      "Working... 236\n",
      "Working... 237\n",
      "Working... 238\n",
      "Working... 239\n",
      "Working... 240\n",
      "Working... 241\n",
      "Working... 242\n",
      "Working... 243\n",
      "Working... 244\n",
      "Working... 245\n",
      "Working... 246\n",
      "Working... 247\n",
      "Working... 248\n",
      "Working... 249\n",
      "Working... 250\n",
      "Working... 251\n",
      "Working... 252\n",
      "Working... 253\n",
      "Working... 254\n",
      "Working... 255\n",
      "Working... 256\n",
      "Working... 257\n",
      "Working... 258\n",
      "Working... 259\n",
      "Working... 260\n",
      "Working... 261\n",
      "Working... 262\n",
      "Working... 263\n",
      "Working... 264\n",
      "Working... 265\n",
      "Working... 266\n",
      "Working... 267\n",
      "Working... 268\n",
      "Working... 269\n",
      "Working... 270\n",
      "Working... 271\n",
      "Working... 272\n",
      "Working... 273\n",
      "Working... 274\n",
      "Working... 275\n",
      "Working... 276\n",
      "Working... 277\n",
      "Working... 278\n",
      "Working... 279\n",
      "Working... 280\n",
      "Working... 281\n",
      "Working... 282\n",
      "Working... 283\n",
      "Working... 284\n",
      "Working... 285\n",
      "Working... 286\n",
      "Working... 287\n",
      "Working... 288\n",
      "Working... 289\n",
      "Working... 290\n",
      "Working... 291\n",
      "Working... 292\n",
      "Working... 293\n",
      "Working... 294\n",
      "Working... 295\n",
      "Working... 296\n",
      "Working... 297\n",
      "Working... 298\n",
      "Working... 299\n",
      "Working... 300\n",
      "Working... 301\n",
      "Working... 302\n",
      "Working... 303\n",
      "Working... 304\n",
      "Working... 305\n",
      "Working... 306\n",
      "Working... 307\n",
      "Working... 308\n",
      "Working... 309\n",
      "Working... 310\n",
      "Working... 311\n",
      "Working... 312\n",
      "Working... 313\n",
      "Working... 314\n",
      "Working... 315\n",
      "Working... 316\n",
      "Working... 317\n",
      "Working... 318\n",
      "Working... 319\n",
      "Working... 320\n",
      "Working... 321\n",
      "Working... 322\n",
      "Working... 323\n",
      "Working... 324\n",
      "Working... 325\n",
      "Working... 326\n",
      "Working... 327\n",
      "Working... 328\n",
      "Working... 329\n",
      "Working... 330\n",
      "Working... 331\n",
      "Working... 332\n",
      "Working... 333\n",
      "Working... 334\n",
      "Working... 335\n",
      "Working... 336\n",
      "Working... 337\n",
      "Working... 338\n",
      "Working... 339\n",
      "Working... 340\n",
      "Working... 341\n",
      "Working... 342\n",
      "Working... 343\n",
      "Working... 344\n",
      "Working... 345\n",
      "Working... 346\n",
      "Working... 347\n",
      "Working... 348\n",
      "Working... 349\n",
      "Working... 350\n",
      "Working... 351\n",
      "Working... 352\n",
      "Working... 353\n",
      "Working... 354\n",
      "Working... 355\n",
      "Working... 356\n",
      "Working... 357\n",
      "Working... 358\n",
      "Working... 359\n",
      "Working... 360\n",
      "Working... 361\n",
      "Working... 362\n",
      "Working... 363\n",
      "Working... 364\n",
      "Working... 365\n",
      "Working... 366\n",
      "Working... 367\n",
      "Working... 368\n",
      "Working... 369\n",
      "Working... 370\n",
      "Working... 371\n",
      "Working... 372\n",
      "Working... 373\n",
      "Working... 374\n",
      "Working... 375\n",
      "Working... 376\n",
      "Working... 377\n",
      "Working... 378\n",
      "Working... 379\n",
      "Working... 380\n",
      "Working... 381\n",
      "Working... 382\n",
      "Working... 383\n",
      "Working... 384\n",
      "Working... 385\n",
      "Working... 386\n",
      "Working... 387\n",
      "Working... 388\n",
      "Working... 389\n",
      "Working... 390\n",
      "Working... 391\n",
      "Working... 392\n",
      "Working... 393\n",
      "Working... 394\n",
      "Working... 395\n",
      "Working... 396\n",
      "Working... 397\n",
      "Working... 398\n",
      "Working... 399\n",
      "Working... 400\n",
      "Working... 401\n",
      "Working... 402\n",
      "Working... 403\n",
      "Working... 404\n",
      "Working... 405\n",
      "Working... 406\n",
      "Working... 407\n",
      "Working... 408\n",
      "Working... 409\n",
      "Working... 410\n",
      "Working... 411\n",
      "Working... 412\n",
      "Working... 413\n",
      "Working... 414\n",
      "Working... 415\n",
      "Working... 416\n",
      "Working... 417\n",
      "Working... 418\n",
      "Working... 419\n",
      "Working... 420\n",
      "Working... 421\n",
      "Working... 422\n",
      "Working... 423\n",
      "Working... 424\n",
      "Working... 425\n",
      "Working... 426\n",
      "Working... 427\n",
      "Working... 428\n",
      "Working... 429\n",
      "Working... 430\n",
      "Working... 431\n",
      "Working... 432\n",
      "Working... 433\n",
      "Working... 434\n",
      "Working... 435\n",
      "Working... 436\n",
      "Working... 437\n",
      "Working... 438\n",
      "Working... 439\n",
      "Working... 440\n",
      "Working... 441\n",
      "Working... 442\n",
      "Working... 443\n",
      "Working... 444\n",
      "Working... 445\n",
      "Working... 446\n",
      "Working... 447\n",
      "Working... 448\n",
      "Working... 449\n",
      "Working... 450\n",
      "Working... 451\n",
      "Working... 452\n",
      "Working... 453\n",
      "Working... 454\n",
      "Working... 455\n",
      "Working... 456\n",
      "Working... 457\n",
      "Working... 458\n",
      "Working... 459\n",
      "Working... 460\n",
      "Working... 461\n",
      "Working... 462\n",
      "Working... 463\n",
      "Working... 464\n",
      "Working... 465\n",
      "Working... 466\n",
      "Working... 467\n",
      "Working... 468\n",
      "Working... 469\n",
      "Working... 470\n",
      "Working... 471\n",
      "Working... 472\n",
      "Working... 473\n",
      "Working... 474\n",
      "Working... 475\n",
      "Working... 476\n",
      "Working... 477\n",
      "Working... 478\n",
      "Working... 479\n",
      "Working... 480\n",
      "Working... 481\n",
      "Working... 482\n",
      "Working... 483\n",
      "Working... 484\n",
      "Working... 485\n",
      "Working... 486\n",
      "Working... 487\n",
      "Working... 488\n",
      "Working... 489\n",
      "Working... 490\n",
      "Working... 491\n",
      "Working... 492\n",
      "Working... 493\n",
      "Working... 494\n",
      "Working... 495\n",
      "Working... 496\n",
      "Working... 497\n",
      "Working... 498\n",
      "Working... 499\n",
      "Working... 500\n",
      "Working... 501\n",
      "Working... 502\n",
      "Working... 503\n",
      "Working... 504\n",
      "Working... 505\n",
      "Working... 506\n",
      "Working... 507\n",
      "Working... 508\n",
      "Working... 509\n",
      "Working... 510\n",
      "Working... 511\n",
      "Working... 512\n",
      "Working... 513\n",
      "Working... 514\n",
      "Working... 515\n",
      "Working... 516\n",
      "Working... 517\n",
      "Working... 518\n",
      "Working... 519\n",
      "Working... 520\n",
      "Working... 521\n",
      "Working... 522\n",
      "Working... 523\n",
      "Working... 524\n",
      "Working... 525\n",
      "Working... 526\n",
      "Working... 527\n",
      "Working... 528\n",
      "Working... 529\n",
      "Working... 530\n",
      "Working... 531\n",
      "Working... 532\n",
      "Working... 533\n",
      "Working... 534\n",
      "Working... 535\n",
      "Working... 536\n",
      "Working... 537\n",
      "Working... 538\n",
      "Working... 539\n",
      "Working... 540\n",
      "Working... 541\n",
      "Working... 542\n",
      "Working... 543\n",
      "Working... 544\n",
      "Working... 545\n",
      "Working... 546\n",
      "Working... 547\n",
      "Working... 548\n",
      "Working... 549\n",
      "Working... 550\n",
      "Working... 551\n",
      "Working... 552\n",
      "Working... 553\n",
      "Working... 554\n",
      "Working... 555\n",
      "Working... 556\n",
      "Working... 557\n",
      "Working... 558\n",
      "Working... 559\n",
      "Working... 560\n",
      "Working... 561\n",
      "Working... 562\n",
      "Working... 563\n",
      "Working... 564\n",
      "Working... 565\n",
      "Working... 566\n",
      "Working... 567\n",
      "Working... 568\n",
      "Working... 569\n",
      "Working... 570\n",
      "Working... 571\n",
      "Working... 572\n",
      "Working... 573\n",
      "Working... 574\n",
      "Working... 575\n",
      "Working... 576\n",
      "Working... 577\n",
      "Working... 578\n",
      "Working... 579\n",
      "Working... 580\n",
      "Working... 581\n",
      "Working... 582\n",
      "Working... 583\n",
      "Working... 584\n",
      "Working... 585\n",
      "Working... 586\n",
      "Working... 587\n",
      "Working... 588\n",
      "Working... 589\n",
      "Working... 590\n",
      "Working... 591\n",
      "Working... 592\n",
      "Working... 593\n",
      "Working... 594\n",
      "Working... 595\n",
      "Working... 596\n",
      "Working... 597\n",
      "Working... 598\n",
      "Working... 599\n",
      "Working... 600\n",
      "Working... 601\n",
      "Working... 602\n",
      "Working... 603\n",
      "Working... 604\n",
      "Working... 605\n",
      "Working... 606\n",
      "Working... 607\n",
      "Working... 608\n",
      "Working... 609\n",
      "Working... 610\n",
      "Working... 611\n",
      "Working... 612\n",
      "Working... 613\n",
      "Working... 614\n",
      "Working... 615\n",
      "Working... 616\n",
      "Working... 617\n",
      "Working... 618\n",
      "Working... 619\n",
      "Working... 620\n",
      "Working... 621\n",
      "Working... 622\n",
      "Working... 623\n",
      "Working... 624\n",
      "Working... 625\n",
      "Working... 626\n",
      "Working... 627\n",
      "Working... 628\n",
      "Working... 629\n",
      "Working... 630\n",
      "Working... 631\n",
      "Working... 632\n",
      "Working... 633\n",
      "Working... 634\n",
      "Working... 635\n",
      "Working... 636\n",
      "Working... 637\n",
      "Working... 638\n",
      "Working... 639\n",
      "Working... 640\n",
      "Working... 641\n",
      "Working... 642\n",
      "Working... 643\n",
      "Working... 644\n",
      "Working... 645\n",
      "Working... 646\n",
      "Working... 647\n",
      "Working... 648\n",
      "Working... 649\n",
      "Working... 650\n",
      "Working... 651\n",
      "Working... 652\n",
      "Working... 653\n",
      "Working... 654\n",
      "Working... 655\n",
      "Working... 656\n",
      "Working... 657\n",
      "Working... 658\n",
      "Working... 659\n",
      "Working... 660\n",
      "Working... 661\n",
      "Working... 662\n",
      "Working... 663\n",
      "Working... 664\n",
      "Working... 665\n",
      "Working... 666\n",
      "Working... 667\n",
      "Working... 668\n",
      "Working... 669\n",
      "Working... 670\n",
      "Working... 671\n",
      "Working... 672\n",
      "Working... 673\n",
      "Working... 674\n",
      "Working... 675\n",
      "Working... 676\n",
      "Working... 677\n",
      "Working... 678\n",
      "Working... 679\n",
      "Working... 680\n",
      "Working... 681\n",
      "Working... 682\n",
      "Working... 683\n",
      "Working... 684\n",
      "Working... 685\n",
      "Working... 686\n",
      "Working... 687\n",
      "Working... 688\n",
      "Working... 689\n",
      "Working... 690\n",
      "Working... 691\n",
      "Working... 692\n",
      "Working... 693\n",
      "Working... 694\n",
      "Working... 695\n",
      "Working... 696\n",
      "Working... 697\n",
      "Working... 698\n",
      "Working... 699\n",
      "Working... 700\n",
      "Working... 701\n",
      "Working... 702\n",
      "Working... 703\n",
      "Working... 704\n",
      "Working... 705\n",
      "Working... 706\n",
      "Working... 707\n",
      "Working... 708\n",
      "Working... 709\n",
      "Working... 710\n",
      "Working... 711\n",
      "Working... 712\n",
      "Working... 713\n"
     ]
    },
    {
     "ename": "NameError",
     "evalue": "global name 'dt' is not defined",
     "output_type": "error",
     "traceback": [
      "\u001b[1;31m---------------------------------------------------------------------------\u001b[0m",
      "\u001b[1;31mNameError\u001b[0m                                 Traceback (most recent call last)",
      "\u001b[1;32m<ipython-input-51-be8c936e5fcc>\u001b[0m in \u001b[0;36m<module>\u001b[1;34m()\u001b[0m\n\u001b[0;32m      2\u001b[0m \u001b[0mintesa_followers\u001b[0m \u001b[1;33m=\u001b[0m \u001b[1;33m[\u001b[0m\u001b[1;33m]\u001b[0m\u001b[1;33m\u001b[0m\u001b[0m\n\u001b[0;32m      3\u001b[0m \u001b[0mcounter\u001b[0m \u001b[1;33m=\u001b[0m \u001b[1;36m0\u001b[0m\u001b[1;33m\u001b[0m\u001b[0m\n\u001b[1;32m----> 4\u001b[1;33m \u001b[1;32mfor\u001b[0m \u001b[0mfollower\u001b[0m \u001b[1;32min\u001b[0m \u001b[0mintesa\u001b[0m\u001b[1;33m.\u001b[0m\u001b[0mget_followers\u001b[0m\u001b[1;33m(\u001b[0m\u001b[1;33m)\u001b[0m\u001b[1;33m:\u001b[0m\u001b[1;33m\u001b[0m\u001b[0m\n\u001b[0m\u001b[0;32m      5\u001b[0m     \u001b[1;32mprint\u001b[0m \u001b[1;34m\"Working...\"\u001b[0m\u001b[1;33m,\u001b[0m \u001b[0mcounter\u001b[0m\u001b[1;33m\u001b[0m\u001b[0m\n\u001b[0;32m      6\u001b[0m     \u001b[0mcounter\u001b[0m \u001b[1;33m+=\u001b[0m\u001b[1;36m1\u001b[0m\u001b[1;33m\u001b[0m\u001b[0m\n",
      "\u001b[1;32m<ipython-input-49-20d59564dd2e>\u001b[0m in \u001b[0;36mget_followers\u001b[1;34m(self)\u001b[0m\n\u001b[0;32m     16\u001b[0m                 \u001b[1;32myield\u001b[0m \u001b[0mself\u001b[0m\u001b[1;33m.\u001b[0m\u001b[0mapi\u001b[0m\u001b[1;33m.\u001b[0m\u001b[0mget_user\u001b[0m\u001b[1;33m(\u001b[0m\u001b[0mfollower_id\u001b[0m\u001b[1;33m)\u001b[0m\u001b[1;33m\u001b[0m\u001b[0m\n\u001b[0;32m     17\u001b[0m             \u001b[1;32mexcept\u001b[0m \u001b[0mtweepy\u001b[0m\u001b[1;33m.\u001b[0m\u001b[0mRateLimitError\u001b[0m\u001b[1;33m:\u001b[0m\u001b[1;33m\u001b[0m\u001b[0m\n\u001b[1;32m---> 18\u001b[1;33m                 \u001b[1;32mprint\u001b[0m \u001b[1;34m\"[LOG %s] Timeout reached.. I'm going to sleep for 15 minutes..\"\u001b[0m \u001b[1;33m%\u001b[0m \u001b[0mdt\u001b[0m\u001b[1;33m.\u001b[0m\u001b[0mnow\u001b[0m\u001b[1;33m(\u001b[0m\u001b[1;33m)\u001b[0m\u001b[1;33m\u001b[0m\u001b[0m\n\u001b[0m\u001b[0;32m     19\u001b[0m                 \u001b[0mtime\u001b[0m\u001b[1;33m.\u001b[0m\u001b[0msleep\u001b[0m\u001b[1;33m(\u001b[0m\u001b[1;36m15\u001b[0m\u001b[1;33m*\u001b[0m\u001b[1;36m60\u001b[0m\u001b[1;33m)\u001b[0m\u001b[1;33m\u001b[0m\u001b[0m\n\u001b[0;32m     20\u001b[0m                 \u001b[1;32mprint\u001b[0m \u001b[1;34m\"[LOG %s] Try Again!\"\u001b[0m \u001b[1;33m%\u001b[0m \u001b[0mdt\u001b[0m\u001b[1;33m.\u001b[0m\u001b[0mnow\u001b[0m\u001b[1;33m(\u001b[0m\u001b[1;33m)\u001b[0m \u001b[1;31m# datetime stampa un log\u001b[0m\u001b[1;33m\u001b[0m\u001b[0m\n",
      "\u001b[1;31mNameError\u001b[0m: global name 'dt' is not defined"
     ]
    }
   ],
   "source": [
    "intesa = IntesaFollowers(auth)\n",
    "intesa_followers = []\n",
    "counter = 0\n",
    "for follower in intesa.get_followers():\n",
    "    print \"Working...\", counter\n",
    "    counter +=1    \n",
    "    intesa_followers.append(follower)"
   ]
  },
  {
   "cell_type": "markdown",
   "metadata": {},
   "source": [
    "# Get INTESA tweets"
   ]
  },
  {
   "cell_type": "code",
   "execution_count": 7,
   "metadata": {
    "collapsed": false
   },
   "outputs": [],
   "source": [
    "class IntesaTweets(object):\n",
    "    \n",
    "    def __init__(self, auth):\n",
    "        self.auth = auth\n",
    "        self.api = tweepy.API(self.auth)\n",
    "        self.intesa_cursor = tweepy.Cursor(self.api.user_timeline, screen_name='intesasanpaolo')\n",
    "\n",
    "    def get_tweets(self):\n",
    "        while True:\n",
    "            try:\n",
    "                yield self.intesa_cursor.pages().next()\n",
    "            except tweepy.RateLimitError:\n",
    "                print \"[LOG %s] Timeout reached.. I'm going to sleep for 15 minutes..\" % dt.now()\n",
    "                time.sleep(15*60)\n",
    "                print \"[LOG %s] Try Again!\" % dt.now()\n",
    "            except Exception as e:\n",
    "                # Generic Exception\n",
    "                print \"[LOG %s] Generic error \" % dt.now(), e\n",
    "                print \"[LOG %s] Wait 60 seconds...\" % dt.now()\n",
    "                time.sleep(60)\n"
   ]
  },
  {
   "cell_type": "code",
   "execution_count": 8,
   "metadata": {
    "collapsed": false
   },
   "outputs": [
    {
     "name": "stdout",
     "output_type": "stream",
     "text": [
      "{ u'contributors': None,\n",
      "  u'coordinates': None,\n",
      "  u'created_at': u'Mon Nov 14 09:25:09 +0000 2016',\n",
      "  u'entities': { u'hashtags': [ { u'indices': [0, 13],\n",
      "                                  u'text': u'FlashMercati'}],\n",
      "                 u'symbols': [],\n",
      "                 u'urls': [ { u'display_url': u'twitter.com/i/web/status/7\\u2026',\n",
      "                              u'expanded_url': u'https://twitter.com/i/web/status/798094406406590464',\n",
      "                              u'indices': [116, 139],\n",
      "                              u'url': u'https://t.co/AOHmJBzUDk'}],\n",
      "                 u'user_mentions': []},\n",
      "  u'favorite_count': 0,\n",
      "  u'favorited': False,\n",
      "  u'geo': None,\n",
      "  u'id': 798094406406590464,\n",
      "  u'id_str': u'798094406406590464',\n",
      "  u'in_reply_to_screen_name': None,\n",
      "  u'in_reply_to_status_id': None,\n",
      "  u'in_reply_to_status_id_str': None,\n",
      "  u'in_reply_to_user_id': None,\n",
      "  u'in_reply_to_user_id_str': None,\n",
      "  u'is_quote_status': False,\n",
      "  u'lang': u'it',\n",
      "  u'place': None,\n",
      "  u'possibly_sensitive': False,\n",
      "  u'retweet_count': 1,\n",
      "  u'retweeted': False,\n",
      "  u'source': u'<a href=\"http://twitter.com\" rel=\"nofollow\">Twitter Web Client</a>',\n",
      "  u'text': u'#FlashMercati: focus sugli eventi del mercato monetario e obbligazionario. \\nEcco i dati pi\\xf9 significativi di oggi.\\u2026 https://t.co/AOHmJBzUDk',\n",
      "  u'truncated': True,\n",
      "  u'user': { u'contributors_enabled': False,\n",
      "             u'created_at': u'Wed Oct 19 07:46:49 +0000 2011',\n",
      "             u'default_profile': False,\n",
      "             u'default_profile_image': False,\n",
      "             u'description': u'Notizie, eventi e informazioni in tempo reale sul mondo Intesa Sanpaolo. Per assistenza su prodotti e servizi seguici su @IntesaSP_Help e @IntesaSPgiovani.',\n",
      "             u'entities': { u'description': { u'urls': []},\n",
      "                            u'url': { u'urls': [ { u'display_url': u'intesasanpaolo.com',\n",
      "                                                   u'expanded_url': u'http://www.intesasanpaolo.com',\n",
      "                                                   u'indices': [0, 22],\n",
      "                                                   u'url': u'http://t.co/lmrSnJtN6Y'}]}},\n",
      "             u'favourites_count': 1071,\n",
      "             u'follow_request_sent': False,\n",
      "             u'followers_count': 4157,\n",
      "             u'following': False,\n",
      "             u'friends_count': 177,\n",
      "             u'geo_enabled': False,\n",
      "             u'has_extended_profile': False,\n",
      "             u'id': 393894382,\n",
      "             u'id_str': u'393894382',\n",
      "             u'is_translation_enabled': True,\n",
      "             u'is_translator': False,\n",
      "             u'lang': u'it',\n",
      "             u'listed_count': 129,\n",
      "             u'location': u'',\n",
      "             u'name': u'Intesa Sanpaolo',\n",
      "             u'notifications': False,\n",
      "             u'profile_background_color': u'DBDBDB',\n",
      "             u'profile_background_image_url': u'http://abs.twimg.com/images/themes/theme1/bg.png',\n",
      "             u'profile_background_image_url_https': u'https://abs.twimg.com/images/themes/theme1/bg.png',\n",
      "             u'profile_background_tile': False,\n",
      "             u'profile_banner_url': u'https://pbs.twimg.com/profile_banners/393894382/1473949795',\n",
      "             u'profile_image_url': u'http://pbs.twimg.com/profile_images/597680334474485760/Z6OMNC0B_normal.jpg',\n",
      "             u'profile_image_url_https': u'https://pbs.twimg.com/profile_images/597680334474485760/Z6OMNC0B_normal.jpg',\n",
      "             u'profile_link_color': u'929292',\n",
      "             u'profile_sidebar_border_color': u'FFFFFF',\n",
      "             u'profile_sidebar_fill_color': u'DDEEF6',\n",
      "             u'profile_text_color': u'333333',\n",
      "             u'profile_use_background_image': False,\n",
      "             u'protected': False,\n",
      "             u'screen_name': u'intesasanpaolo',\n",
      "             u'statuses_count': 2371,\n",
      "             u'time_zone': u'Rome',\n",
      "             u'translator_type': u'none',\n",
      "             u'url': u'http://t.co/lmrSnJtN6Y',\n",
      "             u'utc_offset': 3600,\n",
      "             u'verified': False}}\n"
     ]
    }
   ],
   "source": [
    "intesa_timeline = IntesaTweets(auth)\n",
    "intesa_tweets = []\n",
    "for tweet in intesa_timeline.get_tweets():\n",
    "    pp.pprint(tweet[0]._json)\n",
    "    break"
   ]
  },
  {
   "cell_type": "markdown",
   "metadata": {
    "collapsed": true
   },
   "source": [
    "# GET Intesa Favorites"
   ]
  },
  {
   "cell_type": "markdown",
   "metadata": {},
   "source": [
    "# GET Intesa Friends"
   ]
  },
  {
   "cell_type": "markdown",
   "metadata": {},
   "source": [
    "# GET Intesa Data"
   ]
  },
  {
   "cell_type": "code",
   "execution_count": null,
   "metadata": {
    "collapsed": true
   },
   "outputs": [],
   "source": []
  }
 ],
 "metadata": {
  "kernelspec": {
   "display_name": "Python [Root]",
   "language": "python",
   "name": "Python [Root]"
  },
  "language_info": {
   "codemirror_mode": {
    "name": "ipython",
    "version": 2
   },
   "file_extension": ".py",
   "mimetype": "text/x-python",
   "name": "python",
   "nbconvert_exporter": "python",
   "pygments_lexer": "ipython2",
   "version": "2.7.12"
  }
 },
 "nbformat": 4,
 "nbformat_minor": 0
}
