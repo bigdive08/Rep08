{
 "cells": [
  {
   "cell_type": "code",
   "execution_count": 2,
   "metadata": {
    "collapsed": false
   },
   "outputs": [
    {
     "name": "stdout",
     "output_type": "stream",
     "text": [
      "worldhello-\n",
      "hello-1hello-\tBIGDIVE\n",
      "hello-INTESA\n"
     ]
    }
   ],
   "source": [
    "print \"hello-\" .join([\"world\", \"\\n\", str(1), \"\\tBIGDIVE\\n\", \"INTESA\"])"
   ]
  },
  {
   "cell_type": "code",
   "execution_count": 3,
   "metadata": {
    "collapsed": false
   },
   "outputs": [
    {
     "data": {
      "text/plain": [
       "8"
      ]
     },
     "execution_count": 3,
     "metadata": {},
     "output_type": "execute_result"
    }
   ],
   "source": [
    "2^10"
   ]
  },
  {
   "cell_type": "code",
   "execution_count": 4,
   "metadata": {
    "collapsed": false
   },
   "outputs": [
    {
     "data": {
      "text/plain": [
       "1024"
      ]
     },
     "execution_count": 4,
     "metadata": {},
     "output_type": "execute_result"
    }
   ],
   "source": [
    "2**10"
   ]
  },
  {
   "cell_type": "code",
   "execution_count": 5,
   "metadata": {
    "collapsed": false
   },
   "outputs": [
    {
     "name": "stdout",
     "output_type": "stream",
     "text": [
      "func() takes exactly 2 arguments (3 given)\n"
     ]
    }
   ],
   "source": [
    "def func(a,b):\n",
    "    try:\n",
    "        x = a + b\n",
    "        y= a * b\n",
    "    except Exception as e:\n",
    "        raise Exception(e)\n",
    "    \n",
    "    else:\n",
    "        return x == y\n",
    "    \n",
    "try:\n",
    "    print func(1,2,3)\n",
    "except Exception as e:\n",
    "    print e"
   ]
  },
  {
   "cell_type": "code",
   "execution_count": 7,
   "metadata": {
    "collapsed": false
   },
   "outputs": [
    {
     "name": "stdout",
     "output_type": "stream",
     "text": [
      "{'A': True, 'B': [0, 1, 2, 3, 4, 5]}\n"
     ]
    }
   ],
   "source": [
    "a = dict(A=True, B=range(0,6))\n",
    "print a"
   ]
  },
  {
   "cell_type": "code",
   "execution_count": 8,
   "metadata": {
    "collapsed": false
   },
   "outputs": [
    {
     "name": "stdout",
     "output_type": "stream",
     "text": [
      "CHIAVE: A --> True\n",
      "CHIAVE: B --> [0, 1, 2, 3, 4, 5]\n"
     ]
    }
   ],
   "source": [
    "def p_dict(mydict):\n",
    "    for x in mydict.keys():\n",
    "        print \"CHIAVE: %s --> %s\" % (x, mydict[x])\n",
    "p_dict(a)"
   ]
  },
  {
   "cell_type": "code",
   "execution_count": 33,
   "metadata": {
    "collapsed": false
   },
   "outputs": [
    {
     "name": "stdout",
     "output_type": "stream",
     "text": [
      "<type 'list'>\n",
      "[True, [0, 1, 2, 3, 4, 5]]\n",
      "[0, 1, 2, 3, 4, 5]\n",
      "2\n"
     ]
    }
   ],
   "source": [
    "def p_dict(mydict):\n",
    "            lista = mydict.values()\n",
    "            print type (lista)\n",
    "            print lista\n",
    "            elemento = lista[1]\n",
    "            print elemento\n",
    "            terzo_elemento = elemento[2]\n",
    "            print terzo_elemento\n",
    "            \n",
    "p_dict(a)"
   ]
  },
  {
   "cell_type": "code",
   "execution_count": 35,
   "metadata": {
    "collapsed": false
   },
   "outputs": [
    {
     "name": "stdout",
     "output_type": "stream",
     "text": [
      "2\n"
     ]
    }
   ],
   "source": [
    "def p_dict(mydict):\n",
    "    for key,value in mydict.items():\n",
    "        if key == \"B\":\n",
    "            print value[2]\n",
    "        \n",
    "p_dict(a)"
   ]
  },
  {
   "cell_type": "code",
   "execution_count": 36,
   "metadata": {
    "collapsed": false
   },
   "outputs": [
    {
     "name": "stdout",
     "output_type": "stream",
     "text": [
      "2\n"
     ]
    }
   ],
   "source": [
    "MyDict = dict(A=True, B=range(0,6))\n",
    "\n",
    "def print_MyDict (dict):\n",
    "    for key, value in dict.items():\n",
    "        if key == \"B\":\n",
    "            print value[2]\n",
    "\n",
    "print_MyDict(MyDict)"
   ]
  },
  {
   "cell_type": "code",
   "execution_count": null,
   "metadata": {
    "collapsed": true
   },
   "outputs": [],
   "source": []
  }
 ],
 "metadata": {
  "kernelspec": {
   "display_name": "Python [Root]",
   "language": "python",
   "name": "Python [Root]"
  },
  "language_info": {
   "codemirror_mode": {
    "name": "ipython",
    "version": 2
   },
   "file_extension": ".py",
   "mimetype": "text/x-python",
   "name": "python",
   "nbconvert_exporter": "python",
   "pygments_lexer": "ipython2",
   "version": "2.7.12"
  }
 },
 "nbformat": 4,
 "nbformat_minor": 0
}
