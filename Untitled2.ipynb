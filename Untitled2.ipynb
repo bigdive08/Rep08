{
 "cells": [
  {
   "cell_type": "code",
   "execution_count": null,
   "metadata": {
    "collapsed": true
   },
   "outputs": [],
   "source": [
    "from mrjob.job import MRJob\n",
    "from mrjob.step import MRStep\n",
    "import re\n",
    "\n",
    "WORD_REGEXP = re.compile(r\"[\\w']+\")\n",
    "\n",
    "\n",
    "class MRMostFreqWord(MRJob):\n",
    "    # Dichiaro i vari Step\n",
    "    # Una lista di oggetti MRStep()\n",
    "    def steps(self):\n",
    "        return [\n",
    "            MRStep(mapper=self.mapper_wordcount,\n",
    "                    reducer=self.reducer_wordcount),\n",
    "            MRStep(mapper=self.mapper_freq,\n",
    "                    reducer=self.reducer_freq),\n",
    "            MRStep(mapper=self.mapper_most,\n",
    "                    reducer=self.reducer_most)\n",
    "        ]\n",
    "\n",
    "    def mapper_lettercount(self, _, line):\n",
    "        words = WORD_REGEXP.findall(line)\n",
    "        # Conto le parole per lettera di inizio\n",
    "        # for w in words:\n",
    "        #    if len(w)>3:\n",
    "                yield w.next(), 1\n",
    "\n",
    "    def reducer_lettercount(self, word, counts):\n",
    "        yield word, sum(counts)  # Conto le occorrenze di ogni parola che inizia per ogni lettera dell'alfabeto \n",
    "                                 # per ricavare la frequenza\n",
    "\n",
    "    def mapper_freq(self, word, total):\n",
    "        if total > 1:  # Valuto solo le parole che compaiono piu di una volta\n",
    "            yield total, word  # Le raggruppo per numero di occorrenze\n",
    "\n",
    "    def reducer_freq(self, total, words):\n",
    "        # Avra' all'interno di total il numero di occorrenze\n",
    "        # e all'interno di words un generatore che resituira le singole parole\n",
    "        yield total, words.next()  # .next() restituisce il primo elemento, emetto quindi una sola parola per ogni frequenza\n",
    "\n",
    "    def mapper_most(self, freq, word):\n",
    "        yield 'most_used', [freq, word]  # Raggruppo le parole per una lista di tuple (frequenza, parola)\n",
    "\n",
    "    def reducer_most(self, _, freqs):\n",
    "        yield 'most_used', max(freqs)  # restituisco il max della lista di tuple\n",
    "        # in questo caso il max verra calcolato su tutti i primi elementi delle tuple\n",
    "        # di conseguenza il max() dara come risultato la frequenza piu alta e la parola associata\n",
    "\n",
    "\n",
    "if __name__ == '__main__':\n",
    "    try:\n",
    "        MRMostFreqWord.run()\n",
    "    except TypeError:\n",
    "        print 'MrJob cannot work inside iPython Notebook as it is not saved as a standalone .py file'"
   ]
  }
 ],
 "metadata": {
  "kernelspec": {
   "display_name": "Python [Root]",
   "language": "python",
   "name": "Python [Root]"
  },
  "language_info": {
   "codemirror_mode": {
    "name": "ipython",
    "version": 2
   },
   "file_extension": ".py",
   "mimetype": "text/x-python",
   "name": "python",
   "nbconvert_exporter": "python",
   "pygments_lexer": "ipython2",
   "version": "2.7.12"
  }
 },
 "nbformat": 4,
 "nbformat_minor": 0
}
