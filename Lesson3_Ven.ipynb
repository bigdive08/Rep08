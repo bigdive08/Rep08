{
 "cells": [
  {
   "cell_type": "markdown",
   "metadata": {},
   "source": [
    "## List Comprehension"
   ]
  },
  {
   "cell_type": "code",
   "execution_count": 16,
   "metadata": {
    "collapsed": false
   },
   "outputs": [
    {
     "name": "stdout",
     "output_type": "stream",
     "text": [
      "['G', 'i', 'o', 'v', 'a', 'n', 'n', 'i']\n",
      "['i', 'i']\n",
      "['G', 'o', 'a', 'n']\n",
      "(0, G)\n",
      "(1, i)\n",
      "(2, o)\n",
      "(3, v)\n",
      "(4, a)\n",
      "(5, n)\n",
      "(6, n)\n",
      "(7, i)\n",
      "[{'key': 'value'}]\n"
     ]
    }
   ],
   "source": [
    "name = \"Giovanni\"\n",
    "name_list = []\n",
    "for letter in name:\n",
    "    name_list.append(letter)\n",
    "    \n",
    "print name_list\n",
    "\n",
    "'''\n",
    "equivalente al ciclo for:\n",
    "'''\n",
    "name_list = [letter for letter in name if letter == 'i']\n",
    "print name_list\n",
    "\n",
    "lettere_pari = [letter for i, letter in enumerate(name) if i%2==0]\n",
    "print lettere_pari\n",
    "\n",
    "for indice,lettera in enumerate(name):\n",
    "    print \"(%s, %s)\" % (indice, lettera)\n",
    "\n",
    "'''\n",
    "equivalente alla linea di codice sottostante -->\n",
    "\n",
    "lettere_pari = []\n",
    "for i, letter in enumerate(name):\n",
    "    if i%2==0:\n",
    "        lettere_pari.append(letter)   \n",
    "'''\n",
    "\n",
    "myObject = [\"Ciao\", \"Mondo\", 1, True, {\"key\":\"value\"}, [1,2,3]]\n",
    "print [element for element in myObject if isinstance(element, dict)]"
   ]
  },
  {
   "cell_type": "markdown",
   "metadata": {},
   "source": [
    "## Generatori"
   ]
  },
  {
   "cell_type": "code",
   "execution_count": 22,
   "metadata": {
    "collapsed": false
   },
   "outputs": [
    {
     "name": "stdout",
     "output_type": "stream",
     "text": [
      "[0, 1, 2, 3, 4, 5, 6, 7, 8, 9]\n",
      "[0, 1, 2, 3, 4, 5, 6, 7, 8, 9]\n",
      "<generator object <genexpr> at 0x7f644c5d5b40>\n",
      "0\n",
      "1\n",
      "2\n",
      "3\n",
      "4\n",
      "5\n",
      "6\n",
      "7\n",
      "8\n",
      "9\n",
      "---\n"
     ]
    }
   ],
   "source": [
    "'''non occupa tutta la memoria subito, ma richiama il valore nel momento del bisogno'''\n",
    "lista = list() # []\n",
    "for i in range(10):\n",
    "    lista.append(i)\n",
    "print lista\n",
    "\n",
    "lista = [i for i in range(10)]\n",
    "print lista\n",
    "\n",
    "generatore = (i for i in range(10))\n",
    "print generatore\n",
    "''' migliora l' uilizzo della memoria perch la occupa nel momento in cui richiedo l'oggetto al generatore'''\n",
    "\n",
    "for i in generatore:\n",
    "    print i\n",
    "\n",
    "print '---'\n",
    "\n",
    "for i in generatore:\n",
    "    print i"
   ]
  },
  {
   "cell_type": "code",
   "execution_count": 23,
   "metadata": {
    "collapsed": false
   },
   "outputs": [
    {
     "name": "stdout",
     "output_type": "stream",
     "text": [
      "<generator object <genexpr> at 0x7f644c5d5d20>\n",
      "0\n"
     ]
    }
   ],
   "source": [
    "generatore = (i for i in range(10))\n",
    "print generatore\n",
    " # print dir(generatore)\n",
    "print generatore.next()"
   ]
  },
  {
   "cell_type": "code",
   "execution_count": 24,
   "metadata": {
    "collapsed": false
   },
   "outputs": [
    {
     "name": "stdout",
     "output_type": "stream",
     "text": [
      "1\n"
     ]
    }
   ],
   "source": [
    "print generatore.next()"
   ]
  },
  {
   "cell_type": "code",
   "execution_count": 30,
   "metadata": {
    "collapsed": false
   },
   "outputs": [
    {
     "name": "stdout",
     "output_type": "stream",
     "text": [
      "7\n"
     ]
    }
   ],
   "source": [
    "print generatore.next()\n",
    "# ogni volta che si riesegue segna l'elemento successivo\n",
    "# una volta generato, l'elemento non  piu' nel generatore"
   ]
  },
  {
   "cell_type": "code",
   "execution_count": 33,
   "metadata": {
    "collapsed": false
   },
   "outputs": [
    {
     "name": "stdout",
     "output_type": "stream",
     "text": [
      "Generatore Vuoto\n"
     ]
    }
   ],
   "source": [
    "try:\n",
    "    print generatore.next()\n",
    "except StopIteration:\n",
    "    print \"Generatore Vuoto\""
   ]
  },
  {
   "cell_type": "code",
   "execution_count": 35,
   "metadata": {
    "collapsed": false
   },
   "outputs": [
    {
     "name": "stdout",
     "output_type": "stream",
     "text": [
      "<function my_doublify at 0x7f644c4610c8>\n",
      "0\n",
      "1\n",
      "4\n",
      "9\n",
      "16\n"
     ]
    }
   ],
   "source": [
    "def my_doublify(num): #quando si utilizza il generatore, yield permette di restituire il valore senza\n",
    "                      # interrompere la funzione\n",
    "    for i in range(num):\n",
    "        yield i **2 # equivalente al return, ma la funzione non si ferma\n",
    "        \n",
    "print my_doublify\n",
    "\n",
    "for i in my_doublify(5):\n",
    "    print i"
   ]
  },
  {
   "cell_type": "code",
   "execution_count": 36,
   "metadata": {
    "collapsed": false
   },
   "outputs": [
    {
     "name": "stdout",
     "output_type": "stream",
     "text": [
      "0\n",
      "1\n",
      "2\n",
      "3\n",
      "4\n",
      "5\n",
      "6\n"
     ]
    }
   ],
   "source": [
    "for i in xrange(100000):   # equivalente della funzione range() quando utilizza il generatore\n",
    "    print i\n",
    "    if i>5:\n",
    "        break"
   ]
  },
  {
   "cell_type": "markdown",
   "metadata": {},
   "source": [
    "## Classi e Oggetti"
   ]
  },
  {
   "cell_type": "code",
   "execution_count": 63,
   "metadata": {
    "collapsed": false
   },
   "outputs": [
    {
     "name": "stdout",
     "output_type": "stream",
     "text": [
      "Ciao Mondo!\n"
     ]
    },
    {
     "ename": "AttributeError",
     "evalue": "MyClass instance has no attribute 'attributo'",
     "output_type": "error",
     "traceback": [
      "\u001b[1;31m---------------------------------------------------------------------------\u001b[0m",
      "\u001b[1;31mAttributeError\u001b[0m                            Traceback (most recent call last)",
      "\u001b[1;32m<ipython-input-63-273baa7b9b00>\u001b[0m in \u001b[0;36m<module>\u001b[1;34m()\u001b[0m\n\u001b[0;32m      8\u001b[0m \u001b[1;33m\u001b[0m\u001b[0m\n\u001b[0;32m      9\u001b[0m \u001b[0mb\u001b[0m\u001b[1;33m=\u001b[0m\u001b[0mMyClass\u001b[0m\u001b[1;33m(\u001b[0m\u001b[1;33m)\u001b[0m\u001b[1;33m\u001b[0m\u001b[0m\n\u001b[1;32m---> 10\u001b[1;33m \u001b[1;32mprint\u001b[0m \u001b[0mb\u001b[0m\u001b[1;33m.\u001b[0m\u001b[0mattributo\u001b[0m \u001b[1;31m# non  stato definito un attributo per l'oggeto b di tipo MyClass\u001b[0m\u001b[1;33m\u001b[0m\u001b[0m\n\u001b[0m",
      "\u001b[1;31mAttributeError\u001b[0m: MyClass instance has no attribute 'attributo'"
     ]
    }
   ],
   "source": [
    "class MyClass():\n",
    "    pass\n",
    "\n",
    "c = MyClass()\n",
    "c.attributo1 = \"Ciao\"\n",
    "c.attributo2 = \"Mondo!\"\n",
    "print c.attributo1, c.attributo2\n",
    "\n",
    "b=MyClass()\n",
    "print b.attributo # non  stato definito un attributo per l'oggeto b di tipo MyClass"
   ]
  },
  {
   "cell_type": "code",
   "execution_count": 70,
   "metadata": {
    "collapsed": false
   },
   "outputs": [
    {
     "name": "stdout",
     "output_type": "stream",
     "text": [
      "Vale\n",
      "Leo\n",
      "Vale Leo\n",
      "Chia Leo\n",
      "Chia Leo\n",
      "Vale Leo\n"
     ]
    }
   ],
   "source": [
    "class Person(object): #dichiarare con lettera maiuscola\n",
    "    \n",
    "    def __init__(self, name = 'No Name', surname = 'No Surname'): # Costruttore: metodi gia' presenti in python, \n",
    "                                       # modifico la funzione init che sto ereditando dall'oggetto \n",
    "                                       # Object generico di Python\n",
    "                                       # assegnare valori predefiniti per evitare errori\n",
    "                                       #in caso di non assegnazione\n",
    "        self.name = name\n",
    "        self.surname = surname\n",
    "    \n",
    "    def __str__(self): # questo  il modo per stampare l'oggetto, \n",
    "        return \"%s %s\" % (self.name, self.surname) #per modificarlo e far si che non stampi il tipo ma il contenuto\n",
    "    \n",
    "    def print_name(self):\n",
    "        return \"%s %s\" % (self.name, self.surname) # Non e' buona norma inserire print al'interno di classi \n",
    "    \n",
    "    def rename(self, NewName, NewSurname):\n",
    "        self.name = NewName\n",
    "        self.cognome = NewSurname\n",
    "   \n",
    "\n",
    "    # properties - calcolate / generate quando vengono richiesti    \n",
    "    @property\n",
    "    def fullname(self):\n",
    "        return \"%s %s\" % (self.name, self.surname)\n",
    "    \n",
    "    @fullname.setter\n",
    "    def fullname(self, value):\n",
    "        #esempio di value \"Vale Leo\"\n",
    "        self.name, self.surname = value.split()\n",
    "\n",
    "persona = Person(\"Vale\", \"Leo\")\n",
    "persona = Person(name = \"Vale\", surname = \"Leo\")\n",
    "\n",
    "print persona.name\n",
    "print persona.surname\n",
    "\n",
    "print persona.print_name()\n",
    "\n",
    "persona.rename(\"Chia\", \"Leo\")\n",
    "\n",
    "print persona\n",
    "\n",
    "print persona.fullname\n",
    "\n",
    "persona.fullname = \"Vale Leo\"\n",
    "print persona"
   ]
  },
  {
   "cell_type": "code",
   "execution_count": 107,
   "metadata": {
    "collapsed": false
   },
   "outputs": [
    {
     "name": "stdout",
     "output_type": "stream",
     "text": [
      "Vale Leo\n",
      "Anto  -- Leo\n"
     ]
    }
   ],
   "source": [
    "class Person (object):\n",
    "    def __init__(self, nome, cognome):\n",
    "        self.nome = nome\n",
    "        self.cognome = cognome\n",
    "    def __str__(self):\n",
    "        return \"%s %s\" % (self.nome, self.cognome)\n",
    "\n",
    "\n",
    "class Uomo(Person):\n",
    "    #per ereditare inizializzazioni del oggetto padre e inserire nuove variabili\n",
    "    '''\n",
    "    def __init__(self, nome, cognome, eta):\n",
    "        super(Uomo, self).__init__(nome, cognome)\n",
    "    '''   \n",
    "    def __str__(self):\n",
    "           return \"%s  -- %s\" % (self.nome, self.cognome)\n",
    "    \n",
    "    \n",
    "    \n",
    "p = Person(\"Vale\", \"Leo\")\n",
    "print p\n",
    "\n",
    "u = Uomo(\"Anto\", \"Leo\")\n",
    "print u\n"
   ]
  },
  {
   "cell_type": "markdown",
   "metadata": {},
   "source": [
    "## Metodi di Classe"
   ]
  },
  {
   "cell_type": "code",
   "execution_count": 90,
   "metadata": {
    "collapsed": false
   },
   "outputs": [
    {
     "name": "stdout",
     "output_type": "stream",
     "text": [
      "Ciao Mondo!\n",
      "Hello World!\n"
     ]
    }
   ],
   "source": [
    "class MyClass(object):\n",
    "    \n",
    "    #metodo di istanza\n",
    "    def hello(self):\n",
    "        return \"Ciao Mondo!\"\n",
    "    \n",
    "    #metodo di classe\n",
    "    @classmethod\n",
    "    def metodo_di_classe(self):\n",
    "        return \"Hello World!\"\n",
    "\n",
    "#devo definire un oggetto di tipo MyClass e poi stamparlo\n",
    "classe = MyClass()\n",
    "print classe.hello()\n",
    "\n",
    "\n",
    "#richiamo il metodo direttamente dalla definizione della classe\n",
    "print MyClass.metodo_di_classe()"
   ]
  },
  {
   "cell_type": "code",
   "execution_count": 95,
   "metadata": {
    "collapsed": false
   },
   "outputs": [
    {
     "name": "stdout",
     "output_type": "stream",
     "text": [
      "Ciao Mondo!\n",
      "Hello World!\n",
      "10\n"
     ]
    }
   ],
   "source": [
    "class MyClass(object):\n",
    "    \n",
    "    _secret = None #parametro privato\n",
    "    \n",
    "    #metodo di istanza\n",
    "    def hello(self):\n",
    "        return \"Ciao Mondo!\"\n",
    "    \n",
    "    #metodo di classe\n",
    "    @classmethod\n",
    "    def metodo_di_classe(self):\n",
    "        return \"Hello World!\"\n",
    "    \n",
    "    @classmethod\n",
    "    def init_w_secret(self, secret):\n",
    "        c = MyClass()\n",
    "        c._secret = secret\n",
    "        return c\n",
    "    \n",
    "    def __str__(self):\n",
    "        return \"Il segreto e' : %s\" % self.secret\n",
    "\n",
    "#devo definire un oggetto di tipo MyClass e poi stamparlo\n",
    "classe = MyClass()\n",
    "print classe.hello()\n",
    "\n",
    "\n",
    "#richiamo il metodo direttamente dalla definizione della classe\n",
    "print MyClass.metodo_di_classe()\n",
    "\n",
    "c = MyClass.init_w_secret(10)\n",
    "print c._secret"
   ]
  },
  {
   "cell_type": "code",
   "execution_count": null,
   "metadata": {
    "collapsed": false
   },
   "outputs": [],
   "source": []
  },
  {
   "cell_type": "code",
   "execution_count": null,
   "metadata": {
    "collapsed": true
   },
   "outputs": [],
   "source": []
  }
 ],
 "metadata": {
  "kernelspec": {
   "display_name": "Python [Root]",
   "language": "python",
   "name": "Python [Root]"
  },
  "language_info": {
   "codemirror_mode": {
    "name": "ipython",
    "version": 2
   },
   "file_extension": ".py",
   "mimetype": "text/x-python",
   "name": "python",
   "nbconvert_exporter": "python",
   "pygments_lexer": "ipython2",
   "version": "2.7.12"
  }
 },
 "nbformat": 4,
 "nbformat_minor": 0
}
